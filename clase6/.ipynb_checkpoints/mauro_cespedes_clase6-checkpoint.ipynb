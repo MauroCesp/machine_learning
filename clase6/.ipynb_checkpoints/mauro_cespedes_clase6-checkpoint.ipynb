{
 "cells": [
  {
   "cell_type": "markdown",
   "id": "f081aa3b",
   "metadata": {},
   "source": [
    "\n",
    "<h1><span style=\"color:blue\">Busca y descarga el conjunto de datos “Climate Model Simulation Crashes” del repositorio UCI Machine Learning. Tiene los datos de un problema de clasificación binaria. Cárgalo adecuadamente en un Pandas DataFrame.</span></h1>\n"
   ]
  },
  {
   "cell_type": "code",
   "execution_count": 1,
   "id": "a18d6825",
   "metadata": {},
   "outputs": [],
   "source": [
    "import numpy, random, time\n",
    "from sklearn.model_selection import train_test_split\n",
    "\n",
    "# Este es la libreria en python que permite la regresion logistica\n",
    "from sklearn.linear_model import LogisticRegression\n",
    "\n",
    "import pandas as pd\n",
    "import sklearn\n",
    "\n",
    "from sklearn.metrics import mean_squared_error,balanced_accuracy_score, confusion_matrix\n",
    "from sklearn.preprocessing import RobustScaler, MinMaxScaler, StandardScaler\n"
   ]
  },
  {
   "cell_type": "code",
   "execution_count": 2,
   "id": "ad1dabf2",
   "metadata": {},
   "outputs": [
    {
     "data": {
      "text/html": [
       "<div>\n",
       "<style scoped>\n",
       "    .dataframe tbody tr th:only-of-type {\n",
       "        vertical-align: middle;\n",
       "    }\n",
       "\n",
       "    .dataframe tbody tr th {\n",
       "        vertical-align: top;\n",
       "    }\n",
       "\n",
       "    .dataframe thead th {\n",
       "        text-align: right;\n",
       "    }\n",
       "</style>\n",
       "<table border=\"1\" class=\"dataframe\">\n",
       "  <thead>\n",
       "    <tr style=\"text-align: right;\">\n",
       "      <th></th>\n",
       "      <th>Study</th>\n",
       "      <th>Run</th>\n",
       "      <th>vconst_corr</th>\n",
       "      <th>vconst_2</th>\n",
       "      <th>vconst_3</th>\n",
       "      <th>vconst_4</th>\n",
       "      <th>vconst_5</th>\n",
       "      <th>vconst_6</th>\n",
       "      <th>vconst_7</th>\n",
       "      <th>ah_corr</th>\n",
       "      <th>...</th>\n",
       "      <th>slm_corr</th>\n",
       "      <th>efficiency_factor</th>\n",
       "      <th>tidal_mix_max</th>\n",
       "      <th>vertical_decay_scale</th>\n",
       "      <th>convect_corr</th>\n",
       "      <th>bckgrnd_vdc1</th>\n",
       "      <th>bckgrnd_vdc_ban</th>\n",
       "      <th>bckgrnd_vdc_eq</th>\n",
       "      <th>bckgrnd_vdc_psim</th>\n",
       "      <th>outcome</th>\n",
       "    </tr>\n",
       "  </thead>\n",
       "  <tbody>\n",
       "    <tr>\n",
       "      <th>0</th>\n",
       "      <td>1</td>\n",
       "      <td>1</td>\n",
       "      <td>0.859036</td>\n",
       "      <td>0.927825</td>\n",
       "      <td>0.252866</td>\n",
       "      <td>0.298838</td>\n",
       "      <td>0.170521</td>\n",
       "      <td>0.735936</td>\n",
       "      <td>0.428325</td>\n",
       "      <td>0.567947</td>\n",
       "      <td>...</td>\n",
       "      <td>0.245675</td>\n",
       "      <td>0.104226</td>\n",
       "      <td>0.869091</td>\n",
       "      <td>0.997518</td>\n",
       "      <td>0.448620</td>\n",
       "      <td>0.307522</td>\n",
       "      <td>0.858310</td>\n",
       "      <td>0.796997</td>\n",
       "      <td>0.869893</td>\n",
       "      <td>0</td>\n",
       "    </tr>\n",
       "    <tr>\n",
       "      <th>1</th>\n",
       "      <td>1</td>\n",
       "      <td>2</td>\n",
       "      <td>0.606041</td>\n",
       "      <td>0.457728</td>\n",
       "      <td>0.359448</td>\n",
       "      <td>0.306957</td>\n",
       "      <td>0.843331</td>\n",
       "      <td>0.934851</td>\n",
       "      <td>0.444572</td>\n",
       "      <td>0.828015</td>\n",
       "      <td>...</td>\n",
       "      <td>0.616870</td>\n",
       "      <td>0.975786</td>\n",
       "      <td>0.914344</td>\n",
       "      <td>0.845247</td>\n",
       "      <td>0.864152</td>\n",
       "      <td>0.346713</td>\n",
       "      <td>0.356573</td>\n",
       "      <td>0.438447</td>\n",
       "      <td>0.512256</td>\n",
       "      <td>1</td>\n",
       "    </tr>\n",
       "    <tr>\n",
       "      <th>2</th>\n",
       "      <td>1</td>\n",
       "      <td>3</td>\n",
       "      <td>0.997600</td>\n",
       "      <td>0.373238</td>\n",
       "      <td>0.517399</td>\n",
       "      <td>0.504993</td>\n",
       "      <td>0.618903</td>\n",
       "      <td>0.605571</td>\n",
       "      <td>0.746225</td>\n",
       "      <td>0.195928</td>\n",
       "      <td>...</td>\n",
       "      <td>0.679355</td>\n",
       "      <td>0.803413</td>\n",
       "      <td>0.643995</td>\n",
       "      <td>0.718441</td>\n",
       "      <td>0.924775</td>\n",
       "      <td>0.315371</td>\n",
       "      <td>0.250642</td>\n",
       "      <td>0.285636</td>\n",
       "      <td>0.365858</td>\n",
       "      <td>1</td>\n",
       "    </tr>\n",
       "    <tr>\n",
       "      <th>3</th>\n",
       "      <td>1</td>\n",
       "      <td>4</td>\n",
       "      <td>0.783408</td>\n",
       "      <td>0.104055</td>\n",
       "      <td>0.197533</td>\n",
       "      <td>0.421837</td>\n",
       "      <td>0.742056</td>\n",
       "      <td>0.490828</td>\n",
       "      <td>0.005525</td>\n",
       "      <td>0.392123</td>\n",
       "      <td>...</td>\n",
       "      <td>0.471463</td>\n",
       "      <td>0.597879</td>\n",
       "      <td>0.761659</td>\n",
       "      <td>0.362751</td>\n",
       "      <td>0.912819</td>\n",
       "      <td>0.977971</td>\n",
       "      <td>0.845921</td>\n",
       "      <td>0.699431</td>\n",
       "      <td>0.475987</td>\n",
       "      <td>1</td>\n",
       "    </tr>\n",
       "    <tr>\n",
       "      <th>4</th>\n",
       "      <td>1</td>\n",
       "      <td>5</td>\n",
       "      <td>0.406250</td>\n",
       "      <td>0.513199</td>\n",
       "      <td>0.061812</td>\n",
       "      <td>0.635837</td>\n",
       "      <td>0.844798</td>\n",
       "      <td>0.441502</td>\n",
       "      <td>0.191926</td>\n",
       "      <td>0.487546</td>\n",
       "      <td>...</td>\n",
       "      <td>0.551543</td>\n",
       "      <td>0.743877</td>\n",
       "      <td>0.312349</td>\n",
       "      <td>0.650223</td>\n",
       "      <td>0.522261</td>\n",
       "      <td>0.043545</td>\n",
       "      <td>0.376660</td>\n",
       "      <td>0.280098</td>\n",
       "      <td>0.132283</td>\n",
       "      <td>1</td>\n",
       "    </tr>\n",
       "  </tbody>\n",
       "</table>\n",
       "<p>5 rows × 21 columns</p>\n",
       "</div>"
      ],
      "text/plain": [
       "   Study  Run  vconst_corr  vconst_2  vconst_3  vconst_4  vconst_5  vconst_6  \\\n",
       "0      1    1     0.859036  0.927825  0.252866  0.298838  0.170521  0.735936   \n",
       "1      1    2     0.606041  0.457728  0.359448  0.306957  0.843331  0.934851   \n",
       "2      1    3     0.997600  0.373238  0.517399  0.504993  0.618903  0.605571   \n",
       "3      1    4     0.783408  0.104055  0.197533  0.421837  0.742056  0.490828   \n",
       "4      1    5     0.406250  0.513199  0.061812  0.635837  0.844798  0.441502   \n",
       "\n",
       "   vconst_7   ah_corr  ...  slm_corr  efficiency_factor  tidal_mix_max  \\\n",
       "0  0.428325  0.567947  ...  0.245675           0.104226       0.869091   \n",
       "1  0.444572  0.828015  ...  0.616870           0.975786       0.914344   \n",
       "2  0.746225  0.195928  ...  0.679355           0.803413       0.643995   \n",
       "3  0.005525  0.392123  ...  0.471463           0.597879       0.761659   \n",
       "4  0.191926  0.487546  ...  0.551543           0.743877       0.312349   \n",
       "\n",
       "   vertical_decay_scale  convect_corr  bckgrnd_vdc1  bckgrnd_vdc_ban  \\\n",
       "0              0.997518      0.448620      0.307522         0.858310   \n",
       "1              0.845247      0.864152      0.346713         0.356573   \n",
       "2              0.718441      0.924775      0.315371         0.250642   \n",
       "3              0.362751      0.912819      0.977971         0.845921   \n",
       "4              0.650223      0.522261      0.043545         0.376660   \n",
       "\n",
       "   bckgrnd_vdc_eq  bckgrnd_vdc_psim  outcome  \n",
       "0        0.796997          0.869893        0  \n",
       "1        0.438447          0.512256        1  \n",
       "2        0.285636          0.365858        1  \n",
       "3        0.699431          0.475987        1  \n",
       "4        0.280098          0.132283        1  \n",
       "\n",
       "[5 rows x 21 columns]"
      ]
     },
     "execution_count": 2,
     "metadata": {},
     "output_type": "execute_result"
    }
   ],
   "source": [
    "file = 'climate_dataset.xlsx'\n",
    "\n",
    "data = pd.read_excel(file)\n",
    "\n",
    "#MIssing values\n",
    "data.fillna(0,inplace=True)\n",
    "\n",
    "data.head()"
   ]
  },
  {
   "cell_type": "markdown",
   "id": "a20c3d1e",
   "metadata": {},
   "source": [
    "\n",
    "<h1><span style=\"color:blue\">Realiza un conteo de las clases y analiza si hay desequilibrio.</span></h1>"
   ]
  },
  {
   "cell_type": "markdown",
   "id": "22814a7a",
   "metadata": {},
   "source": [
    "Lo primero que hago es identificar si existe un desequilibrio.\n",
    "Utilizo la clase **groupby** para ver cuantos datos hay de cada clase."
   ]
  },
  {
   "cell_type": "code",
   "execution_count": 3,
   "id": "3fe66614",
   "metadata": {},
   "outputs": [
    {
     "name": "stdout",
     "output_type": "stream",
     "text": [
      "outcome\n",
      "0     46\n",
      "1    494\n",
      "dtype: int64\n"
     ]
    }
   ],
   "source": [
    "class_distribution = data.groupby('outcome').size()\n",
    "print(class_distribution)"
   ]
  },
  {
   "cell_type": "markdown",
   "id": "2a0d7754",
   "metadata": {},
   "source": [
    "Este es un caso de clasificación binaria en donde existe un claro desquilibrio entre clases.\n",
    "\n",
    "Por lo tanto el **ACCURACY**  <span style=\"color:red\">NO</span> será la mejor métrica para calcular el rendimiento del modelo predictivo.\n",
    "\n",
    "Tendré que utilizar otras metricas para lograr compensar ese desequilibrio de clases."
   ]
  },
  {
   "cell_type": "markdown",
   "id": "fb1be415",
   "metadata": {},
   "source": [
    "<h1><span style=\"color:blue\">Segmenta el conjunto de datos en entrenamiento y test.</span></h1>"
   ]
  },
  {
   "cell_type": "markdown",
   "id": "6610f597",
   "metadata": {},
   "source": [
    "#### Primero\n",
    "\n",
    "Divido los datos entre los inputs y el output"
   ]
  },
  {
   "cell_type": "code",
   "execution_count": 4,
   "id": "5c3acfda",
   "metadata": {},
   "outputs": [],
   "source": [
    "X = data[data.columns[:-1]]\n",
    "Y = data['outcome']"
   ]
  },
  {
   "cell_type": "markdown",
   "id": "08bf9545",
   "metadata": {},
   "source": [
    "#### Segundo\n",
    "\n",
    "Divido con la funcion **train_test_split**. Esto es más para juguetear con los datos , no para realizar experimentos sistematizados\n",
    "\n",
    "Le paso todo el conjunto de datos\n",
    "\n",
    "Ento me divide en 70% para entrenamiento y 30% para test\n",
    "\n",
    "Vamos a continuar utilizando <span style=\"color:red\"> **X_train** y **y_train** </span> en los modelos de validación"
   ]
  },
  {
   "cell_type": "code",
   "execution_count": 5,
   "id": "813fa3c8",
   "metadata": {},
   "outputs": [],
   "source": [
    "seed = random.randint(0,10)\n",
    "\n",
    "# Aqui genero 4 dataframes nuevos (2 train, 2 test) \n",
    "#Usamos el 30% de instancias para test y 70% para train\n",
    "X_train, X_test, y_train, y_test = train_test_split(X, Y, test_size = 0.3, random_state=seed)"
   ]
  },
  {
   "cell_type": "markdown",
   "id": "e8c5ca33",
   "metadata": {},
   "source": [
    "<h1><span style=\"color:blue\">Normaliza las variables de entrada numéricas.</span></h1>"
   ]
  },
  {
   "cell_type": "markdown",
   "id": "faba5bbe",
   "metadata": {},
   "source": [
    "**Terecero**\n",
    "\n",
    "Reescalamos los datos de entrada\n",
    "\n",
    "Generamos el modelo de escalado mediante los datos de entrenamiento. En este caso utilizo **MinMaxScaler**\n",
    "\n",
    "Y después transformamos los datos de entranamiento (X_train) mediante **stdScaler**"
   ]
  },
  {
   "cell_type": "code",
   "execution_count": 6,
   "id": "647de113",
   "metadata": {},
   "outputs": [],
   "source": [
    "stdScaler = MinMaxScaler().fit(X_train)\n",
    "\n",
    "X_train = stdScaler.transform(X_train)\n"
   ]
  },
  {
   "cell_type": "markdown",
   "id": "bc0dfe8d",
   "metadata": {},
   "source": [
    "<h1><span style=\"color:blue\">Evalua el rendimiento de los modelos de Regresión Logística y kNearest Neigbours utilizando la métrica que consideres más\n",
    "adecuada</span></h1>"
   ]
  },
  {
   "cell_type": "markdown",
   "id": "37755e5d",
   "metadata": {},
   "source": [
    "<span style=\"color:red\">Regresión logística</span>"
   ]
  },
  {
   "cell_type": "markdown",
   "id": "ea85e5bd",
   "metadata": {},
   "source": [
    "Intancio un objeto de tipo Logistic regression\n",
    "\n",
    "con el metodo **FIT** le inyecto los datos de entrenamiento (Variables de pendiente y la independiente)"
   ]
  },
  {
   "cell_type": "code",
   "execution_count": 7,
   "id": "74b33c37",
   "metadata": {},
   "outputs": [
    {
     "data": {
      "text/html": [
       "<style>#sk-container-id-1 {color: black;background-color: white;}#sk-container-id-1 pre{padding: 0;}#sk-container-id-1 div.sk-toggleable {background-color: white;}#sk-container-id-1 label.sk-toggleable__label {cursor: pointer;display: block;width: 100%;margin-bottom: 0;padding: 0.3em;box-sizing: border-box;text-align: center;}#sk-container-id-1 label.sk-toggleable__label-arrow:before {content: \"▸\";float: left;margin-right: 0.25em;color: #696969;}#sk-container-id-1 label.sk-toggleable__label-arrow:hover:before {color: black;}#sk-container-id-1 div.sk-estimator:hover label.sk-toggleable__label-arrow:before {color: black;}#sk-container-id-1 div.sk-toggleable__content {max-height: 0;max-width: 0;overflow: hidden;text-align: left;background-color: #f0f8ff;}#sk-container-id-1 div.sk-toggleable__content pre {margin: 0.2em;color: black;border-radius: 0.25em;background-color: #f0f8ff;}#sk-container-id-1 input.sk-toggleable__control:checked~div.sk-toggleable__content {max-height: 200px;max-width: 100%;overflow: auto;}#sk-container-id-1 input.sk-toggleable__control:checked~label.sk-toggleable__label-arrow:before {content: \"▾\";}#sk-container-id-1 div.sk-estimator input.sk-toggleable__control:checked~label.sk-toggleable__label {background-color: #d4ebff;}#sk-container-id-1 div.sk-label input.sk-toggleable__control:checked~label.sk-toggleable__label {background-color: #d4ebff;}#sk-container-id-1 input.sk-hidden--visually {border: 0;clip: rect(1px 1px 1px 1px);clip: rect(1px, 1px, 1px, 1px);height: 1px;margin: -1px;overflow: hidden;padding: 0;position: absolute;width: 1px;}#sk-container-id-1 div.sk-estimator {font-family: monospace;background-color: #f0f8ff;border: 1px dotted black;border-radius: 0.25em;box-sizing: border-box;margin-bottom: 0.5em;}#sk-container-id-1 div.sk-estimator:hover {background-color: #d4ebff;}#sk-container-id-1 div.sk-parallel-item::after {content: \"\";width: 100%;border-bottom: 1px solid gray;flex-grow: 1;}#sk-container-id-1 div.sk-label:hover label.sk-toggleable__label {background-color: #d4ebff;}#sk-container-id-1 div.sk-serial::before {content: \"\";position: absolute;border-left: 1px solid gray;box-sizing: border-box;top: 0;bottom: 0;left: 50%;z-index: 0;}#sk-container-id-1 div.sk-serial {display: flex;flex-direction: column;align-items: center;background-color: white;padding-right: 0.2em;padding-left: 0.2em;position: relative;}#sk-container-id-1 div.sk-item {position: relative;z-index: 1;}#sk-container-id-1 div.sk-parallel {display: flex;align-items: stretch;justify-content: center;background-color: white;position: relative;}#sk-container-id-1 div.sk-item::before, #sk-container-id-1 div.sk-parallel-item::before {content: \"\";position: absolute;border-left: 1px solid gray;box-sizing: border-box;top: 0;bottom: 0;left: 50%;z-index: -1;}#sk-container-id-1 div.sk-parallel-item {display: flex;flex-direction: column;z-index: 1;position: relative;background-color: white;}#sk-container-id-1 div.sk-parallel-item:first-child::after {align-self: flex-end;width: 50%;}#sk-container-id-1 div.sk-parallel-item:last-child::after {align-self: flex-start;width: 50%;}#sk-container-id-1 div.sk-parallel-item:only-child::after {width: 0;}#sk-container-id-1 div.sk-dashed-wrapped {border: 1px dashed gray;margin: 0 0.4em 0.5em 0.4em;box-sizing: border-box;padding-bottom: 0.4em;background-color: white;}#sk-container-id-1 div.sk-label label {font-family: monospace;font-weight: bold;display: inline-block;line-height: 1.2em;}#sk-container-id-1 div.sk-label-container {text-align: center;}#sk-container-id-1 div.sk-container {/* jupyter's `normalize.less` sets `[hidden] { display: none; }` but bootstrap.min.css set `[hidden] { display: none !important; }` so we also need the `!important` here to be able to override the default hidden behavior on the sphinx rendered scikit-learn.org. See: https://github.com/scikit-learn/scikit-learn/issues/21755 */display: inline-block !important;position: relative;}#sk-container-id-1 div.sk-text-repr-fallback {display: none;}</style><div id=\"sk-container-id-1\" class=\"sk-top-container\"><div class=\"sk-text-repr-fallback\"><pre>LogisticRegression()</pre><b>In a Jupyter environment, please rerun this cell to show the HTML representation or trust the notebook. <br />On GitHub, the HTML representation is unable to render, please try loading this page with nbviewer.org.</b></div><div class=\"sk-container\" hidden><div class=\"sk-item\"><div class=\"sk-estimator sk-toggleable\"><input class=\"sk-toggleable__control sk-hidden--visually\" id=\"sk-estimator-id-1\" type=\"checkbox\" checked><label for=\"sk-estimator-id-1\" class=\"sk-toggleable__label sk-toggleable__label-arrow\">LogisticRegression</label><div class=\"sk-toggleable__content\"><pre>LogisticRegression()</pre></div></div></div></div></div>"
      ],
      "text/plain": [
       "LogisticRegression()"
      ]
     },
     "execution_count": 7,
     "metadata": {},
     "output_type": "execute_result"
    }
   ],
   "source": [
    "modelo = LogisticRegression()\n",
    "modelo.fit(X_train, y_train)"
   ]
  },
  {
   "cell_type": "markdown",
   "id": "e3d3d7fc",
   "metadata": {},
   "source": [
    "Utilizo metodo predict , nos devuelve las predicciones para esas variables independeintes de los patrones reservados para test"
   ]
  },
  {
   "cell_type": "code",
   "execution_count": 8,
   "id": "6afa4e99",
   "metadata": {},
   "outputs": [
    {
     "name": "stderr",
     "output_type": "stream",
     "text": [
      "c:\\users\\mauro.cespedesaraya\\appdata\\local\\programs\\python\\python38\\lib\\site-packages\\sklearn\\base.py:443: UserWarning: X has feature names, but LogisticRegression was fitted without feature names\n",
      "  warnings.warn(\n"
     ]
    }
   ],
   "source": [
    "y_pred = modelo.predict(X_test)"
   ]
  },
  {
   "cell_type": "markdown",
   "id": "4deb809f",
   "metadata": {},
   "source": [
    "Ya con esas predicciones averiguo las métricas. COmo existe mucho desequilibrio entre clases **no** utilizo **accuracy**"
   ]
  },
  {
   "cell_type": "code",
   "execution_count": 9,
   "id": "9efb0447",
   "metadata": {},
   "outputs": [],
   "source": [
    "# Esto se utiliza para problemas desequilibrados\n",
    "bacc = balanced_accuracy_score(y_test, y_pred)\n",
    "cm = confusion_matrix(y_test, y_pred)\n"
   ]
  },
  {
   "cell_type": "code",
   "execution_count": 10,
   "id": "46176982",
   "metadata": {},
   "outputs": [
    {
     "name": "stdout",
     "output_type": "stream",
     "text": [
      "0.6538461538461539\n"
     ]
    }
   ],
   "source": [
    "print(bacc)"
   ]
  },
  {
   "cell_type": "code",
   "execution_count": 11,
   "id": "4e51e8b8",
   "metadata": {},
   "outputs": [
    {
     "name": "stdout",
     "output_type": "stream",
     "text": [
      "[[  4   9]\n",
      " [  0 149]]\n"
     ]
    }
   ],
   "source": [
    "print(cm)"
   ]
  },
  {
   "cell_type": "markdown",
   "id": "472a16f1",
   "metadata": {},
   "source": [
    "<span style=\"color:red\">KNN</span>"
   ]
  },
  {
   "cell_type": "code",
   "execution_count": 12,
   "id": "150af5b3",
   "metadata": {},
   "outputs": [],
   "source": [
    "# Este es la libreria en python que permite el KNN\n",
    "from sklearn.neighbors import KNeighborsClassifier"
   ]
  },
  {
   "cell_type": "markdown",
   "id": "8dc8b971",
   "metadata": {},
   "source": [
    "Reescalamos los datos de entrada\n",
    "\n",
    "Generamos el modelo de escalado mediante los datos de entrenamiento.\n",
    "\n",
    "Y después transformamos los datos de entranamiento (X_train) mediante **stdScaler**\n",
    "\n",
    "Aqui es **SUPER IMPORTANTE** realizar el reescalado o NORMALIZACION. Puede ser un MinMax or un Standard"
   ]
  },
  {
   "cell_type": "code",
   "execution_count": 13,
   "id": "5a3c3cfe",
   "metadata": {},
   "outputs": [],
   "source": [
    "scaler = MinMaxScaler().fit(X_train)\n",
    "\n",
    "scaler.fit(X_train)\n",
    "\n",
    "X_train = scaler.transform(X_train)"
   ]
  },
  {
   "cell_type": "markdown",
   "id": "cbef5d69",
   "metadata": {},
   "source": [
    "Aqui le indico a mi modleo que deseo averiguar la distancia euclidea, la similaridad entre patrones\n",
    "\n",
    "Y tambien definimos **K** que son los vecinos que definimos."
   ]
  },
  {
   "cell_type": "code",
   "execution_count": 14,
   "id": "bfe04af8",
   "metadata": {},
   "outputs": [],
   "source": [
    "modelo = KNeighborsClassifier(n_neighbors=7, metric='euclidean')"
   ]
  },
  {
   "cell_type": "markdown",
   "id": "de76f182",
   "metadata": {},
   "source": [
    "Ahora entreno el modelo mediante FIT"
   ]
  },
  {
   "cell_type": "code",
   "execution_count": 15,
   "id": "83aebfb5",
   "metadata": {},
   "outputs": [
    {
     "data": {
      "text/html": [
       "<style>#sk-container-id-2 {color: black;background-color: white;}#sk-container-id-2 pre{padding: 0;}#sk-container-id-2 div.sk-toggleable {background-color: white;}#sk-container-id-2 label.sk-toggleable__label {cursor: pointer;display: block;width: 100%;margin-bottom: 0;padding: 0.3em;box-sizing: border-box;text-align: center;}#sk-container-id-2 label.sk-toggleable__label-arrow:before {content: \"▸\";float: left;margin-right: 0.25em;color: #696969;}#sk-container-id-2 label.sk-toggleable__label-arrow:hover:before {color: black;}#sk-container-id-2 div.sk-estimator:hover label.sk-toggleable__label-arrow:before {color: black;}#sk-container-id-2 div.sk-toggleable__content {max-height: 0;max-width: 0;overflow: hidden;text-align: left;background-color: #f0f8ff;}#sk-container-id-2 div.sk-toggleable__content pre {margin: 0.2em;color: black;border-radius: 0.25em;background-color: #f0f8ff;}#sk-container-id-2 input.sk-toggleable__control:checked~div.sk-toggleable__content {max-height: 200px;max-width: 100%;overflow: auto;}#sk-container-id-2 input.sk-toggleable__control:checked~label.sk-toggleable__label-arrow:before {content: \"▾\";}#sk-container-id-2 div.sk-estimator input.sk-toggleable__control:checked~label.sk-toggleable__label {background-color: #d4ebff;}#sk-container-id-2 div.sk-label input.sk-toggleable__control:checked~label.sk-toggleable__label {background-color: #d4ebff;}#sk-container-id-2 input.sk-hidden--visually {border: 0;clip: rect(1px 1px 1px 1px);clip: rect(1px, 1px, 1px, 1px);height: 1px;margin: -1px;overflow: hidden;padding: 0;position: absolute;width: 1px;}#sk-container-id-2 div.sk-estimator {font-family: monospace;background-color: #f0f8ff;border: 1px dotted black;border-radius: 0.25em;box-sizing: border-box;margin-bottom: 0.5em;}#sk-container-id-2 div.sk-estimator:hover {background-color: #d4ebff;}#sk-container-id-2 div.sk-parallel-item::after {content: \"\";width: 100%;border-bottom: 1px solid gray;flex-grow: 1;}#sk-container-id-2 div.sk-label:hover label.sk-toggleable__label {background-color: #d4ebff;}#sk-container-id-2 div.sk-serial::before {content: \"\";position: absolute;border-left: 1px solid gray;box-sizing: border-box;top: 0;bottom: 0;left: 50%;z-index: 0;}#sk-container-id-2 div.sk-serial {display: flex;flex-direction: column;align-items: center;background-color: white;padding-right: 0.2em;padding-left: 0.2em;position: relative;}#sk-container-id-2 div.sk-item {position: relative;z-index: 1;}#sk-container-id-2 div.sk-parallel {display: flex;align-items: stretch;justify-content: center;background-color: white;position: relative;}#sk-container-id-2 div.sk-item::before, #sk-container-id-2 div.sk-parallel-item::before {content: \"\";position: absolute;border-left: 1px solid gray;box-sizing: border-box;top: 0;bottom: 0;left: 50%;z-index: -1;}#sk-container-id-2 div.sk-parallel-item {display: flex;flex-direction: column;z-index: 1;position: relative;background-color: white;}#sk-container-id-2 div.sk-parallel-item:first-child::after {align-self: flex-end;width: 50%;}#sk-container-id-2 div.sk-parallel-item:last-child::after {align-self: flex-start;width: 50%;}#sk-container-id-2 div.sk-parallel-item:only-child::after {width: 0;}#sk-container-id-2 div.sk-dashed-wrapped {border: 1px dashed gray;margin: 0 0.4em 0.5em 0.4em;box-sizing: border-box;padding-bottom: 0.4em;background-color: white;}#sk-container-id-2 div.sk-label label {font-family: monospace;font-weight: bold;display: inline-block;line-height: 1.2em;}#sk-container-id-2 div.sk-label-container {text-align: center;}#sk-container-id-2 div.sk-container {/* jupyter's `normalize.less` sets `[hidden] { display: none; }` but bootstrap.min.css set `[hidden] { display: none !important; }` so we also need the `!important` here to be able to override the default hidden behavior on the sphinx rendered scikit-learn.org. See: https://github.com/scikit-learn/scikit-learn/issues/21755 */display: inline-block !important;position: relative;}#sk-container-id-2 div.sk-text-repr-fallback {display: none;}</style><div id=\"sk-container-id-2\" class=\"sk-top-container\"><div class=\"sk-text-repr-fallback\"><pre>KNeighborsClassifier(metric=&#x27;euclidean&#x27;, n_neighbors=7)</pre><b>In a Jupyter environment, please rerun this cell to show the HTML representation or trust the notebook. <br />On GitHub, the HTML representation is unable to render, please try loading this page with nbviewer.org.</b></div><div class=\"sk-container\" hidden><div class=\"sk-item\"><div class=\"sk-estimator sk-toggleable\"><input class=\"sk-toggleable__control sk-hidden--visually\" id=\"sk-estimator-id-2\" type=\"checkbox\" checked><label for=\"sk-estimator-id-2\" class=\"sk-toggleable__label sk-toggleable__label-arrow\">KNeighborsClassifier</label><div class=\"sk-toggleable__content\"><pre>KNeighborsClassifier(metric=&#x27;euclidean&#x27;, n_neighbors=7)</pre></div></div></div></div></div>"
      ],
      "text/plain": [
       "KNeighborsClassifier(metric='euclidean', n_neighbors=7)"
      ]
     },
     "execution_count": 15,
     "metadata": {},
     "output_type": "execute_result"
    }
   ],
   "source": [
    "modelo.fit(X_train, y_train)"
   ]
  },
  {
   "cell_type": "code",
   "execution_count": 16,
   "id": "2e67b7f2",
   "metadata": {},
   "outputs": [
    {
     "name": "stderr",
     "output_type": "stream",
     "text": [
      "c:\\users\\mauro.cespedesaraya\\appdata\\local\\programs\\python\\python38\\lib\\site-packages\\sklearn\\base.py:443: UserWarning: X has feature names, but MinMaxScaler was fitted without feature names\n",
      "  warnings.warn(\n"
     ]
    }
   ],
   "source": [
    "X_test = scaler.transform(X_test)\n",
    "\n",
    "pred = modelo.predict(X_test)"
   ]
  },
  {
   "cell_type": "markdown",
   "id": "e49b9186",
   "metadata": {},
   "source": [
    "Aqui tenemos que revisar si en un dataset balaceado o no para obtener la metrica correcta."
   ]
  },
  {
   "cell_type": "code",
   "execution_count": 17,
   "id": "1eb7ba0c",
   "metadata": {},
   "outputs": [
    {
     "name": "stdout",
     "output_type": "stream",
     "text": [
      "[[  0  13]\n",
      " [  0 149]]\n"
     ]
    }
   ],
   "source": [
    "print(confusion_matrix(y_test, pred))"
   ]
  },
  {
   "cell_type": "code",
   "execution_count": 18,
   "id": "fd362f1b",
   "metadata": {},
   "outputs": [
    {
     "name": "stdout",
     "output_type": "stream",
     "text": [
      "0.5\n"
     ]
    }
   ],
   "source": [
    "print(balanced_accuracy_score(y_test, pred))"
   ]
  },
  {
   "cell_type": "markdown",
   "id": "f2a59cbd",
   "metadata": {},
   "source": [
    "<h1><span style=\"color:blue\">Utilizando el error de entrenamiento y test, busca el valor óptimo de\n",
    "k. Recoge en una gráfica la evolución de los mismos. Los valores de k\n",
    "estarán en el eje de abscisas y los de los errores en el de ordenadas. </span></h1>"
   ]
  },
  {
   "cell_type": "code",
   "execution_count": 34,
   "id": "e4d04a89",
   "metadata": {},
   "outputs": [],
   "source": [
    "# Este es la libreria en python que permite el KNN\n",
    "from sklearn.neighbors import KNeighborsClassifier"
   ]
  },
  {
   "cell_type": "markdown",
   "id": "f37621d8",
   "metadata": {},
   "source": [
    "En este caso lo que voy a hacer es una lista para guardar los errores"
   ]
  },
  {
   "cell_type": "code",
   "execution_count": 44,
   "id": "1e2f06c8",
   "metadata": {},
   "outputs": [],
   "source": [
    "list = []\n",
    "\n",
    "scaler = MinMaxScaler().fit(X_train)\n",
    "\n",
    "scaler.fit(X_train)\n",
    "\n",
    "X_train = scaler.transform(X_train)\n"
   ]
  },
  {
   "cell_type": "code",
   "execution_count": 45,
   "id": "a72e2be3",
   "metadata": {},
   "outputs": [],
   "source": [
    "for k in range(1,11):\n",
    "    modelo = KNeighborsClassifier(n_neighbors=k, metric='euclidean')\n",
    "    modelo.fit(X_train, y_train)\n",
    "    X_test = scaler.transform(X_test)\n",
    "\n",
    "    pred = modelo.predict(X_test)\n",
    "\n",
    "    list.append(balanced_accuracy_score(y_test, pred))\n"
   ]
  },
  {
   "cell_type": "code",
   "execution_count": 46,
   "id": "b20a2baa",
   "metadata": {},
   "outputs": [
    {
     "name": "stdout",
     "output_type": "stream",
     "text": [
      "[0.5, 0.536654620547238, 0.4966442953020134, 0.5149716055756324, 0.4966442953020134, 0.5351058337635519, 0.5, 0.5, 0.5, 0.5]\n"
     ]
    }
   ],
   "source": [
    "print(list)"
   ]
  },
  {
   "cell_type": "markdown",
   "id": "0b53b1c7",
   "metadata": {},
   "source": [
    "Ahora realizo una gráfica con **X** (1-10) y **Y** (lista de errores)"
   ]
  },
  {
   "cell_type": "code",
   "execution_count": 48,
   "id": "dec40476",
   "metadata": {},
   "outputs": [
    {
     "data": {
      "image/png": "[encoded data removed]",
      "text/plain": [
       "<Figure size 432x288 with 1 Axes>"
      ]
     },
     "metadata": {
      "needs_background": "light"
     },
     "output_type": "display_data"
    }
   ],
   "source": [
    "import matplotlib.pyplot as plt\n",
    "import numpy as np\n",
    "\n",
    "xpoints = np.array([1, 2, 3, 4,5,6,7,8,9,10])\n",
    "ypoints = list\n",
    "\n",
    "plt.plot(xpoints, ypoints)\n",
    "plt.show()"
   ]
  },
  {
   "cell_type": "markdown",
   "id": "8e7f412f",
   "metadata": {},
   "source": [
    "En este caso escojemos como hyper parámetro el 3 o al 5. Ese sería el valor optimo de K"
   ]
  },
  {
   "cell_type": "code",
   "execution_count": null,
   "id": "947591d1",
   "metadata": {},
   "outputs": [],
   "source": []
  }
 ],
 "metadata": {
  "kernelspec": {
   "display_name": "Python 3 (ipykernel)",
   "language": "python",
   "name": "python3"
  },
  "language_info": {
   "codemirror_mode": {
    "name": "ipython",
    "version": 3
   },
   "file_extension": ".py",
   "mimetype": "text/x-python",
   "name": "python",
   "nbconvert_exporter": "python",
   "pygments_lexer": "ipython3",
   "version": "3.8.5"
  }
 },
 "nbformat": 4,
 "nbformat_minor": 5
}
