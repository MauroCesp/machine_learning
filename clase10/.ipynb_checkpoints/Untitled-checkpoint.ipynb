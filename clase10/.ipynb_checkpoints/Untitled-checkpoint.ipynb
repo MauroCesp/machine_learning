{
 "cells": [
  {
   "cell_type": "markdown",
   "id": "8a6116a8",
   "metadata": {},
   "source": [
    "<h1><span style=\"color:blue\"> Implementacion. </span></h1>"
   ]
  },
  {
   "cell_type": "markdown",
   "id": "9bbb30d0",
   "metadata": {},
   "source": [
    "Scaler tiene implementadas clases que hacen que esta estrategia sea facil de utilizar."
   ]
  },
  {
   "cell_type": "markdown",
   "id": "231368a9",
   "metadata": {},
   "source": [
    "El modulo **Ensemble** es donde estan las distintas clases"
   ]
  },
  {
   "cell_type": "markdown",
   "id": "8240b736",
   "metadata": {},
   "source": [
    "<span style=\"color:red\"> BAGGING para clasificacion </span>"
   ]
  },
  {
   "cell_type": "markdown",
   "id": "68d0caf7",
   "metadata": {},
   "source": [
    "Entonces elegimos el module de **ensemble** donde se encuetnra el bagging.\n",
    "\n",
    "Sin embargo aqui es necesario elegir el modelo base para nuestra clasificacion.\n",
    "\n",
    "Entonces elijo por ejemplo **Arbol de decision** de la libreria de sklearn"
   ]
  },
  {
   "cell_type": "code",
   "execution_count": 11,
   "id": "ad810117",
   "metadata": {},
   "outputs": [],
   "source": [
    "from pandas import read_csv \n",
    "from sklearn.ensemble import BaggingClassifier \n",
    "\n",
    "#--------------------------------------------------------\n",
    "# Esto es lo que selecciono para mimodelo base.\n",
    "from sklearn.tree import DecisionTreeClassifier\n",
    "#--------------------------------------------------------\n",
    "\n",
    "import time, random, numpy \n",
    "from sklearn.preprocessing import StandardScaler \n",
    "from sklearn.model_selection import train_test_split\n",
    "\n",
    "from sklearn.metrics import accuracy_score \n",
    "from sklearn.neighbors import KNeighborsClassifier  \n",
    "\n",
    "seed=random.seed(time.time()) \n",
    "\n"
   ]
  },
  {
   "cell_type": "code",
   "execution_count": 6,
   "id": "ed1f1824",
   "metadata": {},
   "outputs": [
    {
     "data": {
      "text/html": [
       "<div>\n",
       "<style scoped>\n",
       "    .dataframe tbody tr th:only-of-type {\n",
       "        vertical-align: middle;\n",
       "    }\n",
       "\n",
       "    .dataframe tbody tr th {\n",
       "        vertical-align: top;\n",
       "    }\n",
       "\n",
       "    .dataframe thead th {\n",
       "        text-align: right;\n",
       "    }\n",
       "</style>\n",
       "<table border=\"1\" class=\"dataframe\">\n",
       "  <thead>\n",
       "    <tr style=\"text-align: right;\">\n",
       "      <th></th>\n",
       "      <th>fLength</th>\n",
       "      <th>fWidth</th>\n",
       "      <th>fSize</th>\n",
       "      <th>fConc</th>\n",
       "      <th>fConc1</th>\n",
       "      <th>fAsym</th>\n",
       "      <th>fM3Lon g</th>\n",
       "      <th>fM3Trans</th>\n",
       "      <th>fAlpha</th>\n",
       "      <th>fDist</th>\n",
       "      <th>class</th>\n",
       "    </tr>\n",
       "  </thead>\n",
       "  <tbody>\n",
       "    <tr>\n",
       "      <th>0</th>\n",
       "      <td>28.7967</td>\n",
       "      <td>16.0021</td>\n",
       "      <td>2.6449</td>\n",
       "      <td>0.3918</td>\n",
       "      <td>0.1982</td>\n",
       "      <td>27.7004</td>\n",
       "      <td>22.0110</td>\n",
       "      <td>-8.2027</td>\n",
       "      <td>40.0920</td>\n",
       "      <td>81.8828</td>\n",
       "      <td>g</td>\n",
       "    </tr>\n",
       "    <tr>\n",
       "      <th>1</th>\n",
       "      <td>31.6036</td>\n",
       "      <td>11.7235</td>\n",
       "      <td>2.5185</td>\n",
       "      <td>0.5303</td>\n",
       "      <td>0.3773</td>\n",
       "      <td>26.2722</td>\n",
       "      <td>23.8238</td>\n",
       "      <td>-9.9574</td>\n",
       "      <td>6.3609</td>\n",
       "      <td>205.2610</td>\n",
       "      <td>g</td>\n",
       "    </tr>\n",
       "    <tr>\n",
       "      <th>2</th>\n",
       "      <td>162.0520</td>\n",
       "      <td>136.0310</td>\n",
       "      <td>4.0612</td>\n",
       "      <td>0.0374</td>\n",
       "      <td>0.0187</td>\n",
       "      <td>116.7410</td>\n",
       "      <td>-64.8580</td>\n",
       "      <td>-45.2160</td>\n",
       "      <td>76.9600</td>\n",
       "      <td>256.7880</td>\n",
       "      <td>g</td>\n",
       "    </tr>\n",
       "    <tr>\n",
       "      <th>3</th>\n",
       "      <td>23.8172</td>\n",
       "      <td>9.5728</td>\n",
       "      <td>2.3385</td>\n",
       "      <td>0.6147</td>\n",
       "      <td>0.3922</td>\n",
       "      <td>27.2107</td>\n",
       "      <td>-6.4633</td>\n",
       "      <td>-7.1513</td>\n",
       "      <td>10.4490</td>\n",
       "      <td>116.7370</td>\n",
       "      <td>g</td>\n",
       "    </tr>\n",
       "    <tr>\n",
       "      <th>4</th>\n",
       "      <td>75.1362</td>\n",
       "      <td>30.9205</td>\n",
       "      <td>3.1611</td>\n",
       "      <td>0.3168</td>\n",
       "      <td>0.1832</td>\n",
       "      <td>-5.5277</td>\n",
       "      <td>28.5525</td>\n",
       "      <td>21.8393</td>\n",
       "      <td>4.6480</td>\n",
       "      <td>356.4620</td>\n",
       "      <td>g</td>\n",
       "    </tr>\n",
       "  </tbody>\n",
       "</table>\n",
       "</div>"
      ],
      "text/plain": [
       "    fLength    fWidth   fSize   fConc  fConc1     fAsym  fM3Lon g  fM3Trans  \\\n",
       "0   28.7967   16.0021  2.6449  0.3918  0.1982   27.7004   22.0110   -8.2027   \n",
       "1   31.6036   11.7235  2.5185  0.5303  0.3773   26.2722   23.8238   -9.9574   \n",
       "2  162.0520  136.0310  4.0612  0.0374  0.0187  116.7410  -64.8580  -45.2160   \n",
       "3   23.8172    9.5728  2.3385  0.6147  0.3922   27.2107   -6.4633   -7.1513   \n",
       "4   75.1362   30.9205  3.1611  0.3168  0.1832   -5.5277   28.5525   21.8393   \n",
       "\n",
       "    fAlpha     fDist class  \n",
       "0  40.0920   81.8828     g  \n",
       "1   6.3609  205.2610     g  \n",
       "2  76.9600  256.7880     g  \n",
       "3  10.4490  116.7370     g  \n",
       "4   4.6480  356.4620     g  "
      ]
     },
     "execution_count": 6,
     "metadata": {},
     "output_type": "execute_result"
    }
   ],
   "source": [
    "filename = 'magic04.csv'  \n",
    "\n",
    "col_names=['fLength','fWidth','fSize','fConc','fConc1','fAsym','fM3Lon g','fM3Trans','fAlpha','fDist','class'] \n",
    "\n",
    "data = read_csv(filename, names=col_names)  \n",
    "\n",
    "data.head()\n"
   ]
  },
  {
   "cell_type": "markdown",
   "id": "feb7588d",
   "metadata": {},
   "source": [
    "#### Primero\n",
    "\n",
    "Divido los datos entre los inputs y el output"
   ]
  },
  {
   "cell_type": "code",
   "execution_count": 12,
   "id": "fd10a08a",
   "metadata": {},
   "outputs": [],
   "source": [
    "X = data[data.columns[:-1]] \n",
    "Y = data['class']  "
   ]
  },
  {
   "cell_type": "markdown",
   "id": "d2ae62cf",
   "metadata": {},
   "source": [
    "#### Segundo\n",
    "\n",
    "Divido con la funcion **train_test_split**. Esto es más para juguetear con los datos , no para realizar experimentos sistematizados\n",
    "\n",
    "Le paso todo el conjunto de datos\n",
    "\n",
    "Ento me divide en 70% para entrenamiento y 30% para test\n",
    "\n",
    "Vamos a continuar utilizando <span style=\"color:red\"> **X_train** y **y_train** </span> en los modelos de validación"
   ]
  },
  {
   "cell_type": "code",
   "execution_count": 13,
   "id": "3f010573",
   "metadata": {},
   "outputs": [],
   "source": [
    "X_train, X_test, y_train, y_test = train_test_split(X, Y, test_size = 0.7, random_state=seed) "
   ]
  },
  {
   "cell_type": "markdown",
   "id": "3de7771b",
   "metadata": {},
   "source": [
    "**Terecero**\n",
    "\n",
    "Reescalamos los datos de entrada\n",
    "\n",
    "Generamos el modelo de escalado mediante los datos de entrenamiento. En este caso utilizo **Scaler**\n",
    "\n",
    "Y después transformamos los datos de entranamiento (X_train) mediante **Scaler**"
   ]
  },
  {
   "cell_type": "code",
   "execution_count": null,
   "id": "3fe93f90",
   "metadata": {},
   "outputs": [],
   "source": [
    "scaler =StandardScaler() \n",
    "\n",
    "X_train = scaler.fit_transform(X_train) \n",
    "X_test= scaler.transform(X_test)  \n",
    "\n"
   ]
  },
  {
   "cell_type": "code",
   "execution_count": null,
   "id": "8c1f2754",
   "metadata": {},
   "outputs": [],
   "source": []
  },
  {
   "cell_type": "code",
   "execution_count": null,
   "id": "d281f9ea",
   "metadata": {},
   "outputs": [],
   "source": [
    "base_model= KNeighborsClassifier() \n",
    "\n",
    "base_model.fit(X_train, y_train) \n",
    "\n"
   ]
  },
  {
   "cell_type": "code",
   "execution_count": null,
   "id": "7481f932",
   "metadata": {},
   "outputs": [],
   "source": []
  },
  {
   "cell_type": "code",
   "execution_count": null,
   "id": "5a4959c2",
   "metadata": {},
   "outputs": [],
   "source": [
    "y_pred = base_model.predict(X_test) \n",
    "\n",
    "acc= accuracy_score(y_test, y_pred)      \n",
    "\n"
   ]
  },
  {
   "cell_type": "code",
   "execution_count": null,
   "id": "102dbaf5",
   "metadata": {},
   "outputs": [],
   "source": []
  },
  {
   "cell_type": "code",
   "execution_count": null,
   "id": "1d1c549c",
   "metadata": {},
   "outputs": [],
   "source": [
    "model = BaggingClassifier(base_estimator=base_model, n_estimators=100, max_samples=0.1 , random_state=seed) \n",
    "\n",
    "model.fit(X_train, y_train) \n",
    "\n"
   ]
  },
  {
   "cell_type": "code",
   "execution_count": null,
   "id": "06c97804",
   "metadata": {},
   "outputs": [],
   "source": []
  },
  {
   "cell_type": "code",
   "execution_count": null,
   "id": "36123fad",
   "metadata": {},
   "outputs": [],
   "source": [
    "y_pred = model.predict(X_test) \n",
    "\n"
   ]
  },
  {
   "cell_type": "code",
   "execution_count": null,
   "id": "133f39da",
   "metadata": {},
   "outputs": [],
   "source": []
  },
  {
   "cell_type": "code",
   "execution_count": null,
   "id": "495de57d",
   "metadata": {},
   "outputs": [],
   "source": [
    "acc= accuracy_score(y_test, y_pred) \n",
    "\n",
    "print(acc) "
   ]
  }
 ],
 "metadata": {
  "kernelspec": {
   "display_name": "Python 3 (ipykernel)",
   "language": "python",
   "name": "python3"
  },
  "language_info": {
   "codemirror_mode": {
    "name": "ipython",
    "version": 3
   },
   "file_extension": ".py",
   "mimetype": "text/x-python",
   "name": "python",
   "nbconvert_exporter": "python",
   "pygments_lexer": "ipython3",
   "version": "3.8.5"
  }
 },
 "nbformat": 4,
 "nbformat_minor": 5
}
