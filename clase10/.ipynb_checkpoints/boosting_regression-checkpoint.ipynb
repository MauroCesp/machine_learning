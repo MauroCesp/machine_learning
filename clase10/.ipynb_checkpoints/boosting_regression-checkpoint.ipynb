{
 "cells": [
  {
   "cell_type": "markdown",
   "id": "204bd88d",
   "metadata": {},
   "source": [
    "<h1><span style=\"color:blue\"> Implementacion. </span></h1>"
   ]
  },
  {
   "cell_type": "markdown",
   "id": "dc576805",
   "metadata": {},
   "source": [
    "Scaler tiene implementadas clases que hacen que esta estrategia sea facil de utilizar."
   ]
  },
  {
   "cell_type": "markdown",
   "id": "6546d851",
   "metadata": {},
   "source": [
    "El modulo **Ensemble** es donde estan las distintas clases"
   ]
  },
  {
   "cell_type": "markdown",
   "id": "89c2336a",
   "metadata": {},
   "source": [
    "<span style=\"color:red\"> Boosting para regression </span>"
   ]
  },
  {
   "cell_type": "markdown",
   "id": "c9d633ef",
   "metadata": {},
   "source": [
    "Entonces elegimos el module de **ensemble** donde se encuetnra el bagging.\n",
    "\n",
    "Sin embargo aqui es necesario elegir el modelo base para nuestra clasificacion.\n",
    "\n",
    "Entonces elijo por ejemplo **Arbol de decision** de la libreria de sklearn"
   ]
  },
  {
   "cell_type": "code",
   "execution_count": 23,
   "id": "31847aee",
   "metadata": {},
   "outputs": [],
   "source": [
    "import pandas as pd\n",
    "from pandas import read_csv \n",
    "\n",
    "from sklearn.ensemble import AdaBoostRegressor\n",
    "\n",
    "import time, random, numpy \n",
    "from sklearn.preprocessing import StandardScaler \n",
    "from sklearn.model_selection import train_test_split\n",
    "\n",
    "from sklearn.metrics import mean_squared_error\n",
    "\n",
    "#--------------------------------------------------------\n",
    "# Esto es lo que selecciono para mimodelo base.\n",
    "from sklearn.neighbors import KNeighborsRegressor\n",
    "#--------------------------------------------------------\n",
    "\n",
    "\n",
    "seed=random.seed(time.time()) \n",
    "\n"
   ]
  },
  {
   "cell_type": "code",
   "execution_count": 24,
   "id": "d596062d",
   "metadata": {},
   "outputs": [
    {
     "data": {
      "text/html": [
       "<div>\n",
       "<style scoped>\n",
       "    .dataframe tbody tr th:only-of-type {\n",
       "        vertical-align: middle;\n",
       "    }\n",
       "\n",
       "    .dataframe tbody tr th {\n",
       "        vertical-align: top;\n",
       "    }\n",
       "\n",
       "    .dataframe thead th {\n",
       "        text-align: right;\n",
       "    }\n",
       "</style>\n",
       "<table border=\"1\" class=\"dataframe\">\n",
       "  <thead>\n",
       "    <tr style=\"text-align: right;\">\n",
       "      <th></th>\n",
       "      <th>MYCT</th>\n",
       "      <th>MMIN</th>\n",
       "      <th>MMAX</th>\n",
       "      <th>CACH</th>\n",
       "      <th>CHMIN</th>\n",
       "      <th>CHMAX</th>\n",
       "      <th>PRP</th>\n",
       "      <th>ERP</th>\n",
       "    </tr>\n",
       "  </thead>\n",
       "  <tbody>\n",
       "    <tr>\n",
       "      <th>0</th>\n",
       "      <td>125</td>\n",
       "      <td>256</td>\n",
       "      <td>6000</td>\n",
       "      <td>256</td>\n",
       "      <td>16</td>\n",
       "      <td>128</td>\n",
       "      <td>198</td>\n",
       "      <td>199</td>\n",
       "    </tr>\n",
       "    <tr>\n",
       "      <th>1</th>\n",
       "      <td>29</td>\n",
       "      <td>8000</td>\n",
       "      <td>32000</td>\n",
       "      <td>32</td>\n",
       "      <td>8</td>\n",
       "      <td>32</td>\n",
       "      <td>269</td>\n",
       "      <td>253</td>\n",
       "    </tr>\n",
       "    <tr>\n",
       "      <th>2</th>\n",
       "      <td>29</td>\n",
       "      <td>8000</td>\n",
       "      <td>32000</td>\n",
       "      <td>32</td>\n",
       "      <td>8</td>\n",
       "      <td>32</td>\n",
       "      <td>220</td>\n",
       "      <td>253</td>\n",
       "    </tr>\n",
       "    <tr>\n",
       "      <th>3</th>\n",
       "      <td>29</td>\n",
       "      <td>8000</td>\n",
       "      <td>32000</td>\n",
       "      <td>32</td>\n",
       "      <td>8</td>\n",
       "      <td>32</td>\n",
       "      <td>172</td>\n",
       "      <td>253</td>\n",
       "    </tr>\n",
       "    <tr>\n",
       "      <th>4</th>\n",
       "      <td>29</td>\n",
       "      <td>8000</td>\n",
       "      <td>16000</td>\n",
       "      <td>32</td>\n",
       "      <td>8</td>\n",
       "      <td>16</td>\n",
       "      <td>132</td>\n",
       "      <td>132</td>\n",
       "    </tr>\n",
       "  </tbody>\n",
       "</table>\n",
       "</div>"
      ],
      "text/plain": [
       "   MYCT  MMIN   MMAX  CACH  CHMIN   CHMAX  PRP  ERP\n",
       "0   125   256   6000   256      16    128  198  199\n",
       "1    29  8000  32000    32       8     32  269  253\n",
       "2    29  8000  32000    32       8     32  220  253\n",
       "3    29  8000  32000    32       8     32  172  253\n",
       "4    29  8000  16000    32       8     16  132  132"
      ]
     },
     "execution_count": 24,
     "metadata": {},
     "output_type": "execute_result"
    }
   ],
   "source": [
    "file = 'machine.data'\n",
    "#data = 'data.csv'\n",
    "col_names = ['vendor','Model','MYCT','MMIN','MMAX','CACH','CHMIN ', 'CHMAX','PRP','ERP']\n",
    "\n",
    "data = pd.read_csv(file, names = col_names)\n",
    "\n",
    "data.drop('vendor', axis=1, inplace=True)\n",
    "\n",
    "data.drop('Model', axis=1, inplace=True)\n",
    "\n",
    "data.head()\n"
   ]
  },
  {
   "cell_type": "markdown",
   "id": "2a6c8313",
   "metadata": {},
   "source": [
    "#### Primero\n",
    "\n",
    "Divido los datos entre los inputs y el output"
   ]
  },
  {
   "cell_type": "code",
   "execution_count": 25,
   "id": "5e8ba73e",
   "metadata": {},
   "outputs": [],
   "source": [
    "X = data[data.columns[:-1]] \n",
    "Y = data['ERP']  "
   ]
  },
  {
   "cell_type": "markdown",
   "id": "54284a8a",
   "metadata": {},
   "source": [
    "#### Segundo\n",
    "\n",
    "Divido con la funcion **train_test_split**. Esto es más para juguetear con los datos , no para realizar experimentos sistematizados\n",
    "\n",
    "Le paso todo el conjunto de datos\n",
    "\n",
    "Ento me divide en 70% para entrenamiento y 30% para test\n",
    "\n",
    "Vamos a continuar utilizando <span style=\"color:red\"> **X_train** y **y_train** </span> en los modelos de validación"
   ]
  },
  {
   "cell_type": "code",
   "execution_count": 26,
   "id": "717cde79",
   "metadata": {},
   "outputs": [],
   "source": [
    "X_train, X_test, y_train, y_test = train_test_split(X, Y, test_size = 0.7, random_state=seed) "
   ]
  },
  {
   "cell_type": "markdown",
   "id": "9ab56fea",
   "metadata": {},
   "source": [
    "**Terecero**\n",
    "\n",
    "LAs regresiones si que estan relacionadas con <span style=\"color:red\">**DISTANCIA**</span>   es necesario realizar el preprocesado de datos.\n"
   ]
  },
  {
   "cell_type": "code",
   "execution_count": 27,
   "id": "136b6500",
   "metadata": {},
   "outputs": [],
   "source": [
    "scaler =StandardScaler() \n",
    "\n",
    "X_train = scaler.fit_transform(X_train) \n",
    "X_test= scaler.transform(X_test)  \n"
   ]
  },
  {
   "cell_type": "markdown",
   "id": "7cf7120c",
   "metadata": {},
   "source": [
    "**Cuarto**\n",
    "\n",
    "Declaro un modelo base.\n",
    "\n",
    "En esta caso utilizo un KNN\n",
    "\n",
    "Primero veo como funciona el KNN de manera individual "
   ]
  },
  {
   "cell_type": "code",
   "execution_count": 28,
   "id": "02ab138e",
   "metadata": {},
   "outputs": [
    {
     "name": "stdout",
     "output_type": "stream",
     "text": [
      "73.12746861929972\n"
     ]
    }
   ],
   "source": [
    "base_model= KNeighborsRegressor() \n",
    "base_model.fit(X_train, y_train)\n",
    "\n",
    "y_pred = base_model.predict(X_test) \n",
    "\n",
    "rmse= numpy.sqrt(mean_squared_error(y_test, y_pred))  \n",
    "\n",
    "print(rmse)"
   ]
  },
  {
   "cell_type": "markdown",
   "id": "51424623",
   "metadata": {},
   "source": [
    "<span style=\"color:red\">**Quinto**</span> \n",
    "\n",
    "Aqui esta la magia\n",
    "\n",
    "Necesito meter el arbol de decision que acabo de crear dentro de un classificador de Emsemble"
   ]
  },
  {
   "cell_type": "code",
   "execution_count": 34,
   "id": "73984b19",
   "metadata": {},
   "outputs": [],
   "source": [
    "model = AdaBoostRegressor(base_estimator=base_model, n_estimators=5) "
   ]
  },
  {
   "cell_type": "markdown",
   "id": "13e45384",
   "metadata": {},
   "source": [
    "**Sexto**\n",
    "\n",
    "Una vez que tengo integrado mi arbol dentro del modelo de enseble realizo el entrenamiento."
   ]
  },
  {
   "cell_type": "code",
   "execution_count": 35,
   "id": "d982bd41",
   "metadata": {},
   "outputs": [
    {
     "data": {
      "text/html": [
       "<style>#sk-container-id-4 {color: black;background-color: white;}#sk-container-id-4 pre{padding: 0;}#sk-container-id-4 div.sk-toggleable {background-color: white;}#sk-container-id-4 label.sk-toggleable__label {cursor: pointer;display: block;width: 100%;margin-bottom: 0;padding: 0.3em;box-sizing: border-box;text-align: center;}#sk-container-id-4 label.sk-toggleable__label-arrow:before {content: \"▸\";float: left;margin-right: 0.25em;color: #696969;}#sk-container-id-4 label.sk-toggleable__label-arrow:hover:before {color: black;}#sk-container-id-4 div.sk-estimator:hover label.sk-toggleable__label-arrow:before {color: black;}#sk-container-id-4 div.sk-toggleable__content {max-height: 0;max-width: 0;overflow: hidden;text-align: left;background-color: #f0f8ff;}#sk-container-id-4 div.sk-toggleable__content pre {margin: 0.2em;color: black;border-radius: 0.25em;background-color: #f0f8ff;}#sk-container-id-4 input.sk-toggleable__control:checked~div.sk-toggleable__content {max-height: 200px;max-width: 100%;overflow: auto;}#sk-container-id-4 input.sk-toggleable__control:checked~label.sk-toggleable__label-arrow:before {content: \"▾\";}#sk-container-id-4 div.sk-estimator input.sk-toggleable__control:checked~label.sk-toggleable__label {background-color: #d4ebff;}#sk-container-id-4 div.sk-label input.sk-toggleable__control:checked~label.sk-toggleable__label {background-color: #d4ebff;}#sk-container-id-4 input.sk-hidden--visually {border: 0;clip: rect(1px 1px 1px 1px);clip: rect(1px, 1px, 1px, 1px);height: 1px;margin: -1px;overflow: hidden;padding: 0;position: absolute;width: 1px;}#sk-container-id-4 div.sk-estimator {font-family: monospace;background-color: #f0f8ff;border: 1px dotted black;border-radius: 0.25em;box-sizing: border-box;margin-bottom: 0.5em;}#sk-container-id-4 div.sk-estimator:hover {background-color: #d4ebff;}#sk-container-id-4 div.sk-parallel-item::after {content: \"\";width: 100%;border-bottom: 1px solid gray;flex-grow: 1;}#sk-container-id-4 div.sk-label:hover label.sk-toggleable__label {background-color: #d4ebff;}#sk-container-id-4 div.sk-serial::before {content: \"\";position: absolute;border-left: 1px solid gray;box-sizing: border-box;top: 0;bottom: 0;left: 50%;z-index: 0;}#sk-container-id-4 div.sk-serial {display: flex;flex-direction: column;align-items: center;background-color: white;padding-right: 0.2em;padding-left: 0.2em;position: relative;}#sk-container-id-4 div.sk-item {position: relative;z-index: 1;}#sk-container-id-4 div.sk-parallel {display: flex;align-items: stretch;justify-content: center;background-color: white;position: relative;}#sk-container-id-4 div.sk-item::before, #sk-container-id-4 div.sk-parallel-item::before {content: \"\";position: absolute;border-left: 1px solid gray;box-sizing: border-box;top: 0;bottom: 0;left: 50%;z-index: -1;}#sk-container-id-4 div.sk-parallel-item {display: flex;flex-direction: column;z-index: 1;position: relative;background-color: white;}#sk-container-id-4 div.sk-parallel-item:first-child::after {align-self: flex-end;width: 50%;}#sk-container-id-4 div.sk-parallel-item:last-child::after {align-self: flex-start;width: 50%;}#sk-container-id-4 div.sk-parallel-item:only-child::after {width: 0;}#sk-container-id-4 div.sk-dashed-wrapped {border: 1px dashed gray;margin: 0 0.4em 0.5em 0.4em;box-sizing: border-box;padding-bottom: 0.4em;background-color: white;}#sk-container-id-4 div.sk-label label {font-family: monospace;font-weight: bold;display: inline-block;line-height: 1.2em;}#sk-container-id-4 div.sk-label-container {text-align: center;}#sk-container-id-4 div.sk-container {/* jupyter's `normalize.less` sets `[hidden] { display: none; }` but bootstrap.min.css set `[hidden] { display: none !important; }` so we also need the `!important` here to be able to override the default hidden behavior on the sphinx rendered scikit-learn.org. See: https://github.com/scikit-learn/scikit-learn/issues/21755 */display: inline-block !important;position: relative;}#sk-container-id-4 div.sk-text-repr-fallback {display: none;}</style><div id=\"sk-container-id-4\" class=\"sk-top-container\"><div class=\"sk-text-repr-fallback\"><pre>AdaBoostRegressor(base_estimator=KNeighborsRegressor(), n_estimators=5)</pre><b>In a Jupyter environment, please rerun this cell to show the HTML representation or trust the notebook. <br />On GitHub, the HTML representation is unable to render, please try loading this page with nbviewer.org.</b></div><div class=\"sk-container\" hidden><div class=\"sk-item sk-dashed-wrapped\"><div class=\"sk-label-container\"><div class=\"sk-label sk-toggleable\"><input class=\"sk-toggleable__control sk-hidden--visually\" id=\"sk-estimator-id-8\" type=\"checkbox\" ><label for=\"sk-estimator-id-8\" class=\"sk-toggleable__label sk-toggleable__label-arrow\">AdaBoostRegressor</label><div class=\"sk-toggleable__content\"><pre>AdaBoostRegressor(base_estimator=KNeighborsRegressor(), n_estimators=5)</pre></div></div></div><div class=\"sk-parallel\"><div class=\"sk-parallel-item\"><div class=\"sk-item\"><div class=\"sk-label-container\"><div class=\"sk-label sk-toggleable\"><input class=\"sk-toggleable__control sk-hidden--visually\" id=\"sk-estimator-id-9\" type=\"checkbox\" ><label for=\"sk-estimator-id-9\" class=\"sk-toggleable__label sk-toggleable__label-arrow\">base_estimator: KNeighborsRegressor</label><div class=\"sk-toggleable__content\"><pre>KNeighborsRegressor()</pre></div></div></div><div class=\"sk-serial\"><div class=\"sk-item\"><div class=\"sk-estimator sk-toggleable\"><input class=\"sk-toggleable__control sk-hidden--visually\" id=\"sk-estimator-id-10\" type=\"checkbox\" ><label for=\"sk-estimator-id-10\" class=\"sk-toggleable__label sk-toggleable__label-arrow\">KNeighborsRegressor</label><div class=\"sk-toggleable__content\"><pre>KNeighborsRegressor()</pre></div></div></div></div></div></div></div></div></div></div>"
      ],
      "text/plain": [
       "AdaBoostRegressor(base_estimator=KNeighborsRegressor(), n_estimators=5)"
      ]
     },
     "execution_count": 35,
     "metadata": {},
     "output_type": "execute_result"
    }
   ],
   "source": [
    "\n",
    "model.fit(X_train, y_train) \n"
   ]
  },
  {
   "cell_type": "markdown",
   "id": "06661b95",
   "metadata": {},
   "source": [
    "**Septimo**\n",
    "\n",
    "Una vez entrenado mi modelo realizo la prediccion"
   ]
  },
  {
   "cell_type": "code",
   "execution_count": 36,
   "id": "22d79d15",
   "metadata": {},
   "outputs": [],
   "source": [
    "y_pred = model.predict(X_test)   "
   ]
  },
  {
   "cell_type": "markdown",
   "id": "b869959d",
   "metadata": {},
   "source": [
    "Finalmente calculo la metrica correspondiente."
   ]
  },
  {
   "cell_type": "code",
   "execution_count": 37,
   "id": "12fd80fc",
   "metadata": {},
   "outputs": [],
   "source": [
    "rmse= numpy.sqrt(mean_squared_error(y_test, y_pred)) "
   ]
  },
  {
   "cell_type": "code",
   "execution_count": 38,
   "id": "bc3b07ab",
   "metadata": {},
   "outputs": [
    {
     "name": "stdout",
     "output_type": "stream",
     "text": [
      "49.8617708317323\n"
     ]
    }
   ],
   "source": [
    "print(rmse)"
   ]
  },
  {
   "cell_type": "code",
   "execution_count": null,
   "id": "5b6950da",
   "metadata": {},
   "outputs": [],
   "source": []
  }
 ],
 "metadata": {
  "kernelspec": {
   "display_name": "Python 3 (ipykernel)",
   "language": "python",
   "name": "python3"
  },
  "language_info": {
   "codemirror_mode": {
    "name": "ipython",
    "version": 3
   },
   "file_extension": ".py",
   "mimetype": "text/x-python",
   "name": "python",
   "nbconvert_exporter": "python",
   "pygments_lexer": "ipython3",
   "version": "3.8.5"
  }
 },
 "nbformat": 4,
 "nbformat_minor": 5
}
