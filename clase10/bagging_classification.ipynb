{
 "cells": [
  {
   "cell_type": "markdown",
   "id": "204bd88d",
   "metadata": {},
   "source": [
    "<h1><span style=\"color:blue\"> Implementacion. </span></h1>"
   ]
  },
  {
   "cell_type": "markdown",
   "id": "dc576805",
   "metadata": {},
   "source": [
    "Scaler tiene implementadas clases que hacen que esta estrategia sea facil de utilizar."
   ]
  },
  {
   "cell_type": "markdown",
   "id": "6546d851",
   "metadata": {},
   "source": [
    "El modulo **Ensemble** es donde estan las distintas clases"
   ]
  },
  {
   "cell_type": "markdown",
   "id": "89c2336a",
   "metadata": {},
   "source": [
    "<span style=\"color:red\"> BAGGING para clasificacion </span>"
   ]
  },
  {
   "cell_type": "markdown",
   "id": "c9d633ef",
   "metadata": {},
   "source": [
    "Entonces elegimos el module de **ensemble** donde se encuetnra el bagging.\n",
    "\n",
    "Sin embargo aqui es necesario elegir el modelo base para nuestra clasificacion.\n",
    "\n",
    "Entonces elijo por ejemplo **Arbol de decision** de la libreria de sklearn"
   ]
  },
  {
   "cell_type": "code",
   "execution_count": 40,
   "id": "31847aee",
   "metadata": {},
   "outputs": [],
   "source": [
    "from pandas import read_csv \n",
    "\n",
    "from sklearn.ensemble import BaggingClassifier \n",
    "from sklearn.ensemble import RandomForestClassifier\n",
    "#--------------------------------------------------------\n",
    "# Esto es lo que selecciono para mimodelo base.\n",
    "from sklearn.tree import DecisionTreeClassifier\n",
    "#--------------------------------------------------------\n",
    "\n",
    "import time, random, numpy \n",
    "from sklearn.preprocessing import StandardScaler \n",
    "from sklearn.model_selection import train_test_split\n",
    "\n",
    "from sklearn.metrics import accuracy_score \n",
    "from sklearn.neighbors import KNeighborsClassifier  \n",
    "\n",
    "seed=random.seed(time.time()) \n",
    "\n"
   ]
  },
  {
   "cell_type": "code",
   "execution_count": 41,
   "id": "d596062d",
   "metadata": {},
   "outputs": [
    {
     "data": {
      "text/html": [
       "<div>\n",
       "<style scoped>\n",
       "    .dataframe tbody tr th:only-of-type {\n",
       "        vertical-align: middle;\n",
       "    }\n",
       "\n",
       "    .dataframe tbody tr th {\n",
       "        vertical-align: top;\n",
       "    }\n",
       "\n",
       "    .dataframe thead th {\n",
       "        text-align: right;\n",
       "    }\n",
       "</style>\n",
       "<table border=\"1\" class=\"dataframe\">\n",
       "  <thead>\n",
       "    <tr style=\"text-align: right;\">\n",
       "      <th></th>\n",
       "      <th>fLength</th>\n",
       "      <th>fWidth</th>\n",
       "      <th>fSize</th>\n",
       "      <th>fConc</th>\n",
       "      <th>fConc1</th>\n",
       "      <th>fAsym</th>\n",
       "      <th>fM3Lon g</th>\n",
       "      <th>fM3Trans</th>\n",
       "      <th>fAlpha</th>\n",
       "      <th>fDist</th>\n",
       "      <th>class</th>\n",
       "    </tr>\n",
       "  </thead>\n",
       "  <tbody>\n",
       "    <tr>\n",
       "      <th>0</th>\n",
       "      <td>28.7967</td>\n",
       "      <td>16.0021</td>\n",
       "      <td>2.6449</td>\n",
       "      <td>0.3918</td>\n",
       "      <td>0.1982</td>\n",
       "      <td>27.7004</td>\n",
       "      <td>22.0110</td>\n",
       "      <td>-8.2027</td>\n",
       "      <td>40.0920</td>\n",
       "      <td>81.8828</td>\n",
       "      <td>g</td>\n",
       "    </tr>\n",
       "    <tr>\n",
       "      <th>1</th>\n",
       "      <td>31.6036</td>\n",
       "      <td>11.7235</td>\n",
       "      <td>2.5185</td>\n",
       "      <td>0.5303</td>\n",
       "      <td>0.3773</td>\n",
       "      <td>26.2722</td>\n",
       "      <td>23.8238</td>\n",
       "      <td>-9.9574</td>\n",
       "      <td>6.3609</td>\n",
       "      <td>205.2610</td>\n",
       "      <td>g</td>\n",
       "    </tr>\n",
       "    <tr>\n",
       "      <th>2</th>\n",
       "      <td>162.0520</td>\n",
       "      <td>136.0310</td>\n",
       "      <td>4.0612</td>\n",
       "      <td>0.0374</td>\n",
       "      <td>0.0187</td>\n",
       "      <td>116.7410</td>\n",
       "      <td>-64.8580</td>\n",
       "      <td>-45.2160</td>\n",
       "      <td>76.9600</td>\n",
       "      <td>256.7880</td>\n",
       "      <td>g</td>\n",
       "    </tr>\n",
       "    <tr>\n",
       "      <th>3</th>\n",
       "      <td>23.8172</td>\n",
       "      <td>9.5728</td>\n",
       "      <td>2.3385</td>\n",
       "      <td>0.6147</td>\n",
       "      <td>0.3922</td>\n",
       "      <td>27.2107</td>\n",
       "      <td>-6.4633</td>\n",
       "      <td>-7.1513</td>\n",
       "      <td>10.4490</td>\n",
       "      <td>116.7370</td>\n",
       "      <td>g</td>\n",
       "    </tr>\n",
       "    <tr>\n",
       "      <th>4</th>\n",
       "      <td>75.1362</td>\n",
       "      <td>30.9205</td>\n",
       "      <td>3.1611</td>\n",
       "      <td>0.3168</td>\n",
       "      <td>0.1832</td>\n",
       "      <td>-5.5277</td>\n",
       "      <td>28.5525</td>\n",
       "      <td>21.8393</td>\n",
       "      <td>4.6480</td>\n",
       "      <td>356.4620</td>\n",
       "      <td>g</td>\n",
       "    </tr>\n",
       "  </tbody>\n",
       "</table>\n",
       "</div>"
      ],
      "text/plain": [
       "    fLength    fWidth   fSize   fConc  fConc1     fAsym  fM3Lon g  fM3Trans  \\\n",
       "0   28.7967   16.0021  2.6449  0.3918  0.1982   27.7004   22.0110   -8.2027   \n",
       "1   31.6036   11.7235  2.5185  0.5303  0.3773   26.2722   23.8238   -9.9574   \n",
       "2  162.0520  136.0310  4.0612  0.0374  0.0187  116.7410  -64.8580  -45.2160   \n",
       "3   23.8172    9.5728  2.3385  0.6147  0.3922   27.2107   -6.4633   -7.1513   \n",
       "4   75.1362   30.9205  3.1611  0.3168  0.1832   -5.5277   28.5525   21.8393   \n",
       "\n",
       "    fAlpha     fDist class  \n",
       "0  40.0920   81.8828     g  \n",
       "1   6.3609  205.2610     g  \n",
       "2  76.9600  256.7880     g  \n",
       "3  10.4490  116.7370     g  \n",
       "4   4.6480  356.4620     g  "
      ]
     },
     "execution_count": 41,
     "metadata": {},
     "output_type": "execute_result"
    }
   ],
   "source": [
    "filename = 'magic04.csv'  \n",
    "\n",
    "col_names=['fLength','fWidth','fSize','fConc','fConc1','fAsym','fM3Lon g','fM3Trans','fAlpha','fDist','class'] \n",
    "\n",
    "data = read_csv(filename, names=col_names)  \n",
    "\n",
    "data.head()\n"
   ]
  },
  {
   "cell_type": "markdown",
   "id": "2a6c8313",
   "metadata": {},
   "source": [
    "#### Primero\n",
    "\n",
    "Divido los datos entre los inputs y el output"
   ]
  },
  {
   "cell_type": "code",
   "execution_count": 42,
   "id": "5e8ba73e",
   "metadata": {},
   "outputs": [],
   "source": [
    "X = data[data.columns[:-1]] \n",
    "Y = data['class']  "
   ]
  },
  {
   "cell_type": "markdown",
   "id": "54284a8a",
   "metadata": {},
   "source": [
    "#### Segundo\n",
    "\n",
    "Divido con la funcion **train_test_split**. Esto es más para juguetear con los datos , no para realizar experimentos sistematizados\n",
    "\n",
    "Le paso todo el conjunto de datos\n",
    "\n",
    "Ento me divide en 70% para entrenamiento y 30% para test\n",
    "\n",
    "Vamos a continuar utilizando <span style=\"color:red\"> **X_train** y **y_train** </span> en los modelos de validación"
   ]
  },
  {
   "cell_type": "code",
   "execution_count": 43,
   "id": "717cde79",
   "metadata": {},
   "outputs": [],
   "source": [
    "X_train, X_test, y_train, y_test = train_test_split(X, Y, test_size = 0.7, random_state=seed) "
   ]
  },
  {
   "cell_type": "markdown",
   "id": "9ab56fea",
   "metadata": {},
   "source": [
    "**Terecero**\n",
    "\n",
    "\n",
    "Como los arboles de decision no estan relacionados con la <span style=\"color:red\">**DISTANCIA**</span>  no es necesario realizar el preprocesado de datos.\n",
    "\n",
    "Si fuera una regresion lineal se haría de la siguiente manera.\n",
    "\n",
    "scaler =StandardScaler() \n",
    "\n",
    "X_train = scaler.fit_transform(X_train) \n",
    "X_test= scaler.transform(X_test)  \n"
   ]
  },
  {
   "cell_type": "markdown",
   "id": "7cf7120c",
   "metadata": {},
   "source": [
    "**Cuarto**\n",
    "\n",
    "Declaro un modelo base.\n",
    "\n",
    "Este va a ser un Arbol de desicion con una estrategia de **Pre-Poda**\n",
    "\n",
    "La produndidad maxima que le damos es de 5 niveles **max_Depth=5**"
   ]
  },
  {
   "cell_type": "code",
   "execution_count": 44,
   "id": "02ab138e",
   "metadata": {},
   "outputs": [
    {
     "data": {
      "text/html": [
       "<style>#sk-container-id-5 {color: black;background-color: white;}#sk-container-id-5 pre{padding: 0;}#sk-container-id-5 div.sk-toggleable {background-color: white;}#sk-container-id-5 label.sk-toggleable__label {cursor: pointer;display: block;width: 100%;margin-bottom: 0;padding: 0.3em;box-sizing: border-box;text-align: center;}#sk-container-id-5 label.sk-toggleable__label-arrow:before {content: \"▸\";float: left;margin-right: 0.25em;color: #696969;}#sk-container-id-5 label.sk-toggleable__label-arrow:hover:before {color: black;}#sk-container-id-5 div.sk-estimator:hover label.sk-toggleable__label-arrow:before {color: black;}#sk-container-id-5 div.sk-toggleable__content {max-height: 0;max-width: 0;overflow: hidden;text-align: left;background-color: #f0f8ff;}#sk-container-id-5 div.sk-toggleable__content pre {margin: 0.2em;color: black;border-radius: 0.25em;background-color: #f0f8ff;}#sk-container-id-5 input.sk-toggleable__control:checked~div.sk-toggleable__content {max-height: 200px;max-width: 100%;overflow: auto;}#sk-container-id-5 input.sk-toggleable__control:checked~label.sk-toggleable__label-arrow:before {content: \"▾\";}#sk-container-id-5 div.sk-estimator input.sk-toggleable__control:checked~label.sk-toggleable__label {background-color: #d4ebff;}#sk-container-id-5 div.sk-label input.sk-toggleable__control:checked~label.sk-toggleable__label {background-color: #d4ebff;}#sk-container-id-5 input.sk-hidden--visually {border: 0;clip: rect(1px 1px 1px 1px);clip: rect(1px, 1px, 1px, 1px);height: 1px;margin: -1px;overflow: hidden;padding: 0;position: absolute;width: 1px;}#sk-container-id-5 div.sk-estimator {font-family: monospace;background-color: #f0f8ff;border: 1px dotted black;border-radius: 0.25em;box-sizing: border-box;margin-bottom: 0.5em;}#sk-container-id-5 div.sk-estimator:hover {background-color: #d4ebff;}#sk-container-id-5 div.sk-parallel-item::after {content: \"\";width: 100%;border-bottom: 1px solid gray;flex-grow: 1;}#sk-container-id-5 div.sk-label:hover label.sk-toggleable__label {background-color: #d4ebff;}#sk-container-id-5 div.sk-serial::before {content: \"\";position: absolute;border-left: 1px solid gray;box-sizing: border-box;top: 0;bottom: 0;left: 50%;z-index: 0;}#sk-container-id-5 div.sk-serial {display: flex;flex-direction: column;align-items: center;background-color: white;padding-right: 0.2em;padding-left: 0.2em;position: relative;}#sk-container-id-5 div.sk-item {position: relative;z-index: 1;}#sk-container-id-5 div.sk-parallel {display: flex;align-items: stretch;justify-content: center;background-color: white;position: relative;}#sk-container-id-5 div.sk-item::before, #sk-container-id-5 div.sk-parallel-item::before {content: \"\";position: absolute;border-left: 1px solid gray;box-sizing: border-box;top: 0;bottom: 0;left: 50%;z-index: -1;}#sk-container-id-5 div.sk-parallel-item {display: flex;flex-direction: column;z-index: 1;position: relative;background-color: white;}#sk-container-id-5 div.sk-parallel-item:first-child::after {align-self: flex-end;width: 50%;}#sk-container-id-5 div.sk-parallel-item:last-child::after {align-self: flex-start;width: 50%;}#sk-container-id-5 div.sk-parallel-item:only-child::after {width: 0;}#sk-container-id-5 div.sk-dashed-wrapped {border: 1px dashed gray;margin: 0 0.4em 0.5em 0.4em;box-sizing: border-box;padding-bottom: 0.4em;background-color: white;}#sk-container-id-5 div.sk-label label {font-family: monospace;font-weight: bold;display: inline-block;line-height: 1.2em;}#sk-container-id-5 div.sk-label-container {text-align: center;}#sk-container-id-5 div.sk-container {/* jupyter's `normalize.less` sets `[hidden] { display: none; }` but bootstrap.min.css set `[hidden] { display: none !important; }` so we also need the `!important` here to be able to override the default hidden behavior on the sphinx rendered scikit-learn.org. See: https://github.com/scikit-learn/scikit-learn/issues/21755 */display: inline-block !important;position: relative;}#sk-container-id-5 div.sk-text-repr-fallback {display: none;}</style><div id=\"sk-container-id-5\" class=\"sk-top-container\"><div class=\"sk-text-repr-fallback\"><pre>DecisionTreeClassifier(max_depth=5)</pre><b>In a Jupyter environment, please rerun this cell to show the HTML representation or trust the notebook. <br />On GitHub, the HTML representation is unable to render, please try loading this page with nbviewer.org.</b></div><div class=\"sk-container\" hidden><div class=\"sk-item\"><div class=\"sk-estimator sk-toggleable\"><input class=\"sk-toggleable__control sk-hidden--visually\" id=\"sk-estimator-id-9\" type=\"checkbox\" checked><label for=\"sk-estimator-id-9\" class=\"sk-toggleable__label sk-toggleable__label-arrow\">DecisionTreeClassifier</label><div class=\"sk-toggleable__content\"><pre>DecisionTreeClassifier(max_depth=5)</pre></div></div></div></div></div>"
      ],
      "text/plain": [
       "DecisionTreeClassifier(max_depth=5)"
      ]
     },
     "execution_count": 44,
     "metadata": {},
     "output_type": "execute_result"
    }
   ],
   "source": [
    "base_model= DecisionTreeClassifier(max_depth=5) \n",
    "base_model.fit(X_train, y_train) "
   ]
  },
  {
   "cell_type": "markdown",
   "id": "51424623",
   "metadata": {},
   "source": [
    "<span style=\"color:red\">**Quinto**</span> \n",
    "\n",
    "Aqui esta la magia\n",
    "\n",
    "Necesito meter el arbol de decision que acabo de crear dentro de un classificador de Emsemble"
   ]
  },
  {
   "cell_type": "markdown",
   "id": "925e0306",
   "metadata": {},
   "source": [
    "Para ello creo un modelo de **bagging**.\n",
    "\n",
    "Le tengo q indicar cual es el modelo base que deo utilizar.\n",
    "\n",
    "Para ello utilizo el parametro = <span style=\"color:red\">**base_estimator**</span>   y le paso el arbol \n",
    "\n",
    "<span style=\"color:red\">**n_estimator**</span> le indico cuantos arboles de desicion quiero que genere"
   ]
  },
  {
   "cell_type": "markdown",
   "id": "b4e2807b",
   "metadata": {},
   "source": [
    "Hay que acordarse que <span style=\"color:blue\">**Bagging**</span> se construye con una estrategia de muestreo con repeticion\n",
    "\n",
    "Entonces ahora tenemos que decidir cuanto muestreo queremos que utilice cada arbol de decision.\n",
    "\n",
    "Para ello utilizo el parametro = <span style=\"color:red\">**max_sample**</span> y le indicamos que utilice un 10%"
   ]
  },
  {
   "cell_type": "code",
   "execution_count": 45,
   "id": "73984b19",
   "metadata": {},
   "outputs": [],
   "source": [
    "model = BaggingClassifier(base_estimator=base_model, n_estimators=100, max_samples=0.1 , random_state=seed) "
   ]
  },
  {
   "cell_type": "markdown",
   "id": "13e45384",
   "metadata": {},
   "source": [
    "**Sexto**\n",
    "\n",
    "Una vez que tengo integrado mi arbol dentro del modelo de enseble realizo el entrenamiento."
   ]
  },
  {
   "cell_type": "code",
   "execution_count": 46,
   "id": "d982bd41",
   "metadata": {},
   "outputs": [
    {
     "data": {
      "text/html": [
       "<style>#sk-container-id-6 {color: black;background-color: white;}#sk-container-id-6 pre{padding: 0;}#sk-container-id-6 div.sk-toggleable {background-color: white;}#sk-container-id-6 label.sk-toggleable__label {cursor: pointer;display: block;width: 100%;margin-bottom: 0;padding: 0.3em;box-sizing: border-box;text-align: center;}#sk-container-id-6 label.sk-toggleable__label-arrow:before {content: \"▸\";float: left;margin-right: 0.25em;color: #696969;}#sk-container-id-6 label.sk-toggleable__label-arrow:hover:before {color: black;}#sk-container-id-6 div.sk-estimator:hover label.sk-toggleable__label-arrow:before {color: black;}#sk-container-id-6 div.sk-toggleable__content {max-height: 0;max-width: 0;overflow: hidden;text-align: left;background-color: #f0f8ff;}#sk-container-id-6 div.sk-toggleable__content pre {margin: 0.2em;color: black;border-radius: 0.25em;background-color: #f0f8ff;}#sk-container-id-6 input.sk-toggleable__control:checked~div.sk-toggleable__content {max-height: 200px;max-width: 100%;overflow: auto;}#sk-container-id-6 input.sk-toggleable__control:checked~label.sk-toggleable__label-arrow:before {content: \"▾\";}#sk-container-id-6 div.sk-estimator input.sk-toggleable__control:checked~label.sk-toggleable__label {background-color: #d4ebff;}#sk-container-id-6 div.sk-label input.sk-toggleable__control:checked~label.sk-toggleable__label {background-color: #d4ebff;}#sk-container-id-6 input.sk-hidden--visually {border: 0;clip: rect(1px 1px 1px 1px);clip: rect(1px, 1px, 1px, 1px);height: 1px;margin: -1px;overflow: hidden;padding: 0;position: absolute;width: 1px;}#sk-container-id-6 div.sk-estimator {font-family: monospace;background-color: #f0f8ff;border: 1px dotted black;border-radius: 0.25em;box-sizing: border-box;margin-bottom: 0.5em;}#sk-container-id-6 div.sk-estimator:hover {background-color: #d4ebff;}#sk-container-id-6 div.sk-parallel-item::after {content: \"\";width: 100%;border-bottom: 1px solid gray;flex-grow: 1;}#sk-container-id-6 div.sk-label:hover label.sk-toggleable__label {background-color: #d4ebff;}#sk-container-id-6 div.sk-serial::before {content: \"\";position: absolute;border-left: 1px solid gray;box-sizing: border-box;top: 0;bottom: 0;left: 50%;z-index: 0;}#sk-container-id-6 div.sk-serial {display: flex;flex-direction: column;align-items: center;background-color: white;padding-right: 0.2em;padding-left: 0.2em;position: relative;}#sk-container-id-6 div.sk-item {position: relative;z-index: 1;}#sk-container-id-6 div.sk-parallel {display: flex;align-items: stretch;justify-content: center;background-color: white;position: relative;}#sk-container-id-6 div.sk-item::before, #sk-container-id-6 div.sk-parallel-item::before {content: \"\";position: absolute;border-left: 1px solid gray;box-sizing: border-box;top: 0;bottom: 0;left: 50%;z-index: -1;}#sk-container-id-6 div.sk-parallel-item {display: flex;flex-direction: column;z-index: 1;position: relative;background-color: white;}#sk-container-id-6 div.sk-parallel-item:first-child::after {align-self: flex-end;width: 50%;}#sk-container-id-6 div.sk-parallel-item:last-child::after {align-self: flex-start;width: 50%;}#sk-container-id-6 div.sk-parallel-item:only-child::after {width: 0;}#sk-container-id-6 div.sk-dashed-wrapped {border: 1px dashed gray;margin: 0 0.4em 0.5em 0.4em;box-sizing: border-box;padding-bottom: 0.4em;background-color: white;}#sk-container-id-6 div.sk-label label {font-family: monospace;font-weight: bold;display: inline-block;line-height: 1.2em;}#sk-container-id-6 div.sk-label-container {text-align: center;}#sk-container-id-6 div.sk-container {/* jupyter's `normalize.less` sets `[hidden] { display: none; }` but bootstrap.min.css set `[hidden] { display: none !important; }` so we also need the `!important` here to be able to override the default hidden behavior on the sphinx rendered scikit-learn.org. See: https://github.com/scikit-learn/scikit-learn/issues/21755 */display: inline-block !important;position: relative;}#sk-container-id-6 div.sk-text-repr-fallback {display: none;}</style><div id=\"sk-container-id-6\" class=\"sk-top-container\"><div class=\"sk-text-repr-fallback\"><pre>BaggingClassifier(base_estimator=DecisionTreeClassifier(max_depth=5),\n",
       "                  max_samples=0.1, n_estimators=100)</pre><b>In a Jupyter environment, please rerun this cell to show the HTML representation or trust the notebook. <br />On GitHub, the HTML representation is unable to render, please try loading this page with nbviewer.org.</b></div><div class=\"sk-container\" hidden><div class=\"sk-item sk-dashed-wrapped\"><div class=\"sk-label-container\"><div class=\"sk-label sk-toggleable\"><input class=\"sk-toggleable__control sk-hidden--visually\" id=\"sk-estimator-id-10\" type=\"checkbox\" ><label for=\"sk-estimator-id-10\" class=\"sk-toggleable__label sk-toggleable__label-arrow\">BaggingClassifier</label><div class=\"sk-toggleable__content\"><pre>BaggingClassifier(base_estimator=DecisionTreeClassifier(max_depth=5),\n",
       "                  max_samples=0.1, n_estimators=100)</pre></div></div></div><div class=\"sk-parallel\"><div class=\"sk-parallel-item\"><div class=\"sk-item\"><div class=\"sk-label-container\"><div class=\"sk-label sk-toggleable\"><input class=\"sk-toggleable__control sk-hidden--visually\" id=\"sk-estimator-id-11\" type=\"checkbox\" ><label for=\"sk-estimator-id-11\" class=\"sk-toggleable__label sk-toggleable__label-arrow\">base_estimator: DecisionTreeClassifier</label><div class=\"sk-toggleable__content\"><pre>DecisionTreeClassifier(max_depth=5)</pre></div></div></div><div class=\"sk-serial\"><div class=\"sk-item\"><div class=\"sk-estimator sk-toggleable\"><input class=\"sk-toggleable__control sk-hidden--visually\" id=\"sk-estimator-id-12\" type=\"checkbox\" ><label for=\"sk-estimator-id-12\" class=\"sk-toggleable__label sk-toggleable__label-arrow\">DecisionTreeClassifier</label><div class=\"sk-toggleable__content\"><pre>DecisionTreeClassifier(max_depth=5)</pre></div></div></div></div></div></div></div></div></div></div>"
      ],
      "text/plain": [
       "BaggingClassifier(base_estimator=DecisionTreeClassifier(max_depth=5),\n",
       "                  max_samples=0.1, n_estimators=100)"
      ]
     },
     "execution_count": 46,
     "metadata": {},
     "output_type": "execute_result"
    }
   ],
   "source": [
    "\n",
    "model.fit(X_train, y_train) \n"
   ]
  },
  {
   "cell_type": "markdown",
   "id": "06661b95",
   "metadata": {},
   "source": [
    "**Septimo**\n",
    "\n",
    "Una vez entrenado mi modelo realizo la prediccion"
   ]
  },
  {
   "cell_type": "code",
   "execution_count": 47,
   "id": "22d79d15",
   "metadata": {},
   "outputs": [],
   "source": [
    "y_pred = model.predict(X_test)   "
   ]
  },
  {
   "cell_type": "markdown",
   "id": "b869959d",
   "metadata": {},
   "source": [
    "Finalmente calculo la metrica correspondiente."
   ]
  },
  {
   "cell_type": "code",
   "execution_count": 48,
   "id": "12fd80fc",
   "metadata": {},
   "outputs": [],
   "source": [
    "acc= accuracy_score(y_test, y_pred)  "
   ]
  },
  {
   "cell_type": "code",
   "execution_count": 49,
   "id": "bc3b07ab",
   "metadata": {},
   "outputs": [
    {
     "name": "stdout",
     "output_type": "stream",
     "text": [
      "0.8442241249812228\n"
     ]
    }
   ],
   "source": [
    "print(acc)"
   ]
  },
  {
   "cell_type": "markdown",
   "id": "76cc3064",
   "metadata": {},
   "source": [
    "<span style=\"color:red\"> RANDOM Forest </span>"
   ]
  },
  {
   "cell_type": "markdown",
   "id": "f6ab9f38",
   "metadata": {},
   "source": [
    "Este es un tipo de classificador Bagging pero mas completo.\n",
    "\n",
    "No solo trabajar con patrones al azar sino que para darle mas diversidad a la muestra elige las caracteristicas con las que entrena.\n"
   ]
  },
  {
   "cell_type": "code",
   "execution_count": 51,
   "id": "da4e96c4",
   "metadata": {},
   "outputs": [
    {
     "name": "stdout",
     "output_type": "stream",
     "text": [
      "0.859321015472435\n"
     ]
    }
   ],
   "source": [
    "model = RandomForestClassifier(n_estimators=100, max_samples=0.1 , random_state=seed) \n",
    "model.fit(X_train, y_train) \n",
    "y_pred = model.predict(X_test)   \n",
    "acc= accuracy_score(y_test, y_pred)  \n",
    "print(acc)"
   ]
  },
  {
   "cell_type": "markdown",
   "id": "be3ce310",
   "metadata": {},
   "source": [
    "<h1><span style=\"color:blue\"> Implementacion con repeticiones </span></h1>\n",
    "\n",
    "Uno de los probelmas de los arboles de decision es la estabilidad.\n",
    "\n",
    "Entonces para solucionar esto realizo un bucle for para que me lanze TODO 10 veces:\n",
    "    \n",
    "    - Arbol de decision\n",
    "    - Bagging\n",
    "    - Ramdom Forest\n",
    "\n",
    "El rendimiento sera mejor:\n",
    "    - error más pequeño\n",
    "    - accuracy más alta\n",
    "    - tambien vamosa ganar **estabilidad** ---- La varianza(desviacion tipica) sera menor.\n",
    "    \n",
    "Vamos almacenando la informacion en una lista "
   ]
  },
  {
   "cell_type": "code",
   "execution_count": 54,
   "id": "749ac760",
   "metadata": {},
   "outputs": [
    {
     "name": "stdout",
     "output_type": "stream",
     "text": [
      "0\n",
      "1\n",
      "2\n",
      "3\n",
      "4\n",
      "5\n",
      "6\n",
      "7\n",
      "8\n",
      "9\n"
     ]
    }
   ],
   "source": [
    "bagging=[]\n",
    "random_forest=[]\n",
    "arbol_decision=[]\n",
    "\n",
    "for i in range(10):\n",
    "    print(i)\n",
    "    X_train, X_test, y_train, y_test = train_test_split(X, Y, test_size = 0.7, random_state=seed) \n",
    "    \n",
    "    base_model= DecisionTreeClassifier(max_depth=5) \n",
    "    base_model.fit(X_train, y_train) \n",
    "    y_pred = base_model.predict(X_test)   \n",
    "    acc= accuracy_score(y_test, y_pred) \n",
    "    arbol_decision.append(acc)\n",
    "    \n",
    "    model = BaggingClassifier(base_estimator=base_model, n_estimators=100, max_samples=0.1 , random_state=seed) \n",
    "    model.fit(X_train, y_train) \n",
    "    y_pred = model.predict(X_test) \n",
    "    acc= accuracy_score(y_test, y_pred)  \n",
    "    bagging.append(acc)\n",
    "    \n",
    "    model = RandomForestClassifier(n_estimators=100, max_samples=0.1 , random_state=seed) \n",
    "    model.fit(X_train, y_train) \n",
    "    y_pred = model.predict(X_test)   \n",
    "    acc= accuracy_score(y_test, y_pred)  \n",
    "    random_forest.append(acc)\n"
   ]
  },
  {
   "cell_type": "markdown",
   "id": "a719ee30",
   "metadata": {},
   "source": [
    "Finalmente voy a presentar la desviacion tipica **STD** y la media **mean**"
   ]
  },
  {
   "cell_type": "code",
   "execution_count": 55,
   "id": "55bf86b6",
   "metadata": {},
   "outputs": [
    {
     "name": "stdout",
     "output_type": "stream",
     "text": [
      "0.8243878624004808 0.0026860125847855023\n",
      "0.8476490911822141 0.0024481817376470617\n",
      "0.8580591858194383 0.0020214764090494518\n"
     ]
    }
   ],
   "source": [
    "\n",
    "print(numpy.mean(arbol_decision),numpy.std(arbol_decision))\n",
    "print(numpy.mean(bagging),numpy.std(bagging))\n",
    "print(numpy.mean(random_forest),numpy.std(random_forest))"
   ]
  },
  {
   "cell_type": "markdown",
   "id": "48392270",
   "metadata": {},
   "source": [
    "Aqui lo que se observa es como el rendimiento incrementa y se reduce la desviacion tipica que es uno de los probelmas de los arboels de desicion."
   ]
  },
  {
   "cell_type": "code",
   "execution_count": null,
   "id": "6dc5b839",
   "metadata": {},
   "outputs": [],
   "source": []
  }
 ],
 "metadata": {
  "kernelspec": {
   "display_name": "Python 3 (ipykernel)",
   "language": "python",
   "name": "python3"
  },
  "language_info": {
   "codemirror_mode": {
    "name": "ipython",
    "version": 3
   },
   "file_extension": ".py",
   "mimetype": "text/x-python",
   "name": "python",
   "nbconvert_exporter": "python",
   "pygments_lexer": "ipython3",
   "version": "3.8.5"
  }
 },
 "nbformat": 4,
 "nbformat_minor": 5
}
