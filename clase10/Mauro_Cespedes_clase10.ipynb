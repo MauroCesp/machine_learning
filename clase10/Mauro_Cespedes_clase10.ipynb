{
 "cells": [
  {
   "cell_type": "markdown",
   "id": "a09ccbba",
   "metadata": {},
   "source": [
    "<h1><span style=\"color:blue\"> Selecciona dos conjuntos de datos de los múltiples repositorios\n",
    "existentes, uno correspondiente a un problema de clasificación y otro\n",
    "de regresión </span></h1>"
   ]
  },
  {
   "cell_type": "code",
   "execution_count": 1,
   "id": "015f8960",
   "metadata": {},
   "outputs": [],
   "source": [
    "import pandas as pd\n",
    "from pandas import read_csv \n",
    "import csv\n",
    "\n",
    "import time, random, numpy \n",
    "from sklearn.model_selection import train_test_split\n",
    "from sklearn.preprocessing import StandardScaler\n",
    "\n",
    "#--------------------------\n",
    "# Librerías para Bagging\n",
    "#--------------------------\n",
    "from sklearn.ensemble import BaggingClassifier \n",
    "from sklearn.ensemble import RandomForestClassifier\n",
    "#--------------------------------------------------------\n",
    "# Esto es lo que selecciono para mimodelo base.\n",
    "from sklearn.tree import DecisionTreeClassifier\n",
    "#--------------------------------------------------------\n",
    "from sklearn.metrics import confusion_matrix, accuracy_score, balanced_accuracy_score  \n",
    "from sklearn.neighbors import KNeighborsClassifier  \n",
    "\n",
    "\n",
    "#--------------------------\n",
    "# Librerías para boosting\n",
    "#--------------------------\n",
    "from sklearn.ensemble import AdaBoostRegressor\n",
    "from sklearn.metrics import mean_squared_error\n",
    "#--------------------------------------------------------\n",
    "# Esto es lo que selecciono para mimodelo base.\n",
    "from sklearn.neighbors import KNeighborsRegressor\n",
    "#--------------------------------------------------------\n",
    "\n",
    "\n",
    "seed=random.seed(time.time()) "
   ]
  },
  {
   "cell_type": "markdown",
   "id": "6c12d518",
   "metadata": {},
   "source": [
    "Ahora importo los datasets."
   ]
  },
  {
   "cell_type": "markdown",
   "id": "544fc911",
   "metadata": {},
   "source": [
    "<span style=\"color:green\"> **Regresión** </span> "
   ]
  },
  {
   "cell_type": "markdown",
   "id": "cb55b841",
   "metadata": {},
   "source": [
    "Primero importo un dataset de regression para medir la toxicidad del agua.\n",
    "\n",
    "Viene separado por (;) entonces primero tengo que cambiarlo a (,)"
   ]
  },
  {
   "cell_type": "code",
   "execution_count": 2,
   "id": "ae7c7c88",
   "metadata": {},
   "outputs": [
    {
     "data": {
      "text/html": [
       "<div>\n",
       "<style scoped>\n",
       "    .dataframe tbody tr th:only-of-type {\n",
       "        vertical-align: middle;\n",
       "    }\n",
       "\n",
       "    .dataframe tbody tr th {\n",
       "        vertical-align: top;\n",
       "    }\n",
       "\n",
       "    .dataframe thead th {\n",
       "        text-align: right;\n",
       "    }\n",
       "</style>\n",
       "<table border=\"1\" class=\"dataframe\">\n",
       "  <thead>\n",
       "    <tr style=\"text-align: right;\">\n",
       "      <th></th>\n",
       "      <th>TPSA(Tot)</th>\n",
       "      <th>SAacc</th>\n",
       "      <th>H-050</th>\n",
       "      <th>MLOGP</th>\n",
       "      <th>RDCHI</th>\n",
       "      <th>GATS1p</th>\n",
       "      <th>nN</th>\n",
       "      <th>C-040</th>\n",
       "      <th>response</th>\n",
       "    </tr>\n",
       "  </thead>\n",
       "  <tbody>\n",
       "    <tr>\n",
       "      <th>0</th>\n",
       "      <td>0.00</td>\n",
       "      <td>0.0</td>\n",
       "      <td>0</td>\n",
       "      <td>2.419</td>\n",
       "      <td>1.225</td>\n",
       "      <td>0.667</td>\n",
       "      <td>0</td>\n",
       "      <td>0</td>\n",
       "      <td>3.740</td>\n",
       "    </tr>\n",
       "    <tr>\n",
       "      <th>1</th>\n",
       "      <td>0.00</td>\n",
       "      <td>0.0</td>\n",
       "      <td>0</td>\n",
       "      <td>2.638</td>\n",
       "      <td>1.401</td>\n",
       "      <td>0.632</td>\n",
       "      <td>0</td>\n",
       "      <td>0</td>\n",
       "      <td>4.330</td>\n",
       "    </tr>\n",
       "    <tr>\n",
       "      <th>2</th>\n",
       "      <td>9.23</td>\n",
       "      <td>11.0</td>\n",
       "      <td>0</td>\n",
       "      <td>5.799</td>\n",
       "      <td>2.930</td>\n",
       "      <td>0.486</td>\n",
       "      <td>0</td>\n",
       "      <td>0</td>\n",
       "      <td>7.019</td>\n",
       "    </tr>\n",
       "    <tr>\n",
       "      <th>3</th>\n",
       "      <td>9.23</td>\n",
       "      <td>11.0</td>\n",
       "      <td>0</td>\n",
       "      <td>5.453</td>\n",
       "      <td>2.887</td>\n",
       "      <td>0.495</td>\n",
       "      <td>0</td>\n",
       "      <td>0</td>\n",
       "      <td>6.723</td>\n",
       "    </tr>\n",
       "    <tr>\n",
       "      <th>4</th>\n",
       "      <td>9.23</td>\n",
       "      <td>11.0</td>\n",
       "      <td>0</td>\n",
       "      <td>4.068</td>\n",
       "      <td>2.758</td>\n",
       "      <td>0.695</td>\n",
       "      <td>0</td>\n",
       "      <td>0</td>\n",
       "      <td>5.979</td>\n",
       "    </tr>\n",
       "  </tbody>\n",
       "</table>\n",
       "</div>"
      ],
      "text/plain": [
       "   TPSA(Tot)  SAacc  H-050  MLOGP  RDCHI  GATS1p  nN   C-040  response\n",
       "0       0.00    0.0      0  2.419  1.225   0.667    0      0     3.740\n",
       "1       0.00    0.0      0  2.638  1.401   0.632    0      0     4.330\n",
       "2       9.23   11.0      0  5.799  2.930   0.486    0      0     7.019\n",
       "3       9.23   11.0      0  5.453  2.887   0.495    0      0     6.723\n",
       "4       9.23   11.0      0  4.068  2.758   0.695    0      0     5.979"
      ]
     },
     "execution_count": 2,
     "metadata": {},
     "output_type": "execute_result"
    }
   ],
   "source": [
    "file = 'qsar_aquatic_toxicity.csv'\n",
    "\n",
    "reader = csv.reader(open('qsar_aquatic_toxicity.csv', \"r\"), delimiter=';')\n",
    "writer = csv.writer(open('aquatic_toxicity.csv', 'w'), delimiter=',')\n",
    "writer.writerows(reader)\n",
    "\n",
    "file1 = 'aquatic_toxicity.csv'\n",
    "\n",
    "col_names = ['TPSA(Tot)','SAacc','H-050','MLOGP','RDCHI','GATS1p','nN ', 'C-040','response']\n",
    "\n",
    "data = pd.read_csv(file1, names = col_names)\n",
    "\n",
    "\n",
    "data.head()\n"
   ]
  },
  {
   "cell_type": "markdown",
   "id": "6d11c1df",
   "metadata": {},
   "source": [
    "<span style=\"color:green\"> **Clasificación** </span> "
   ]
  },
  {
   "cell_type": "markdown",
   "id": "9fbfa83f",
   "metadata": {},
   "source": [
    "Ahora abro un dataset de clasificación. Voy a utilizar el Iris dataset."
   ]
  },
  {
   "cell_type": "code",
   "execution_count": 3,
   "id": "31a56066",
   "metadata": {},
   "outputs": [
    {
     "data": {
      "text/html": [
       "<div>\n",
       "<style scoped>\n",
       "    .dataframe tbody tr th:only-of-type {\n",
       "        vertical-align: middle;\n",
       "    }\n",
       "\n",
       "    .dataframe tbody tr th {\n",
       "        vertical-align: top;\n",
       "    }\n",
       "\n",
       "    .dataframe thead th {\n",
       "        text-align: right;\n",
       "    }\n",
       "</style>\n",
       "<table border=\"1\" class=\"dataframe\">\n",
       "  <thead>\n",
       "    <tr style=\"text-align: right;\">\n",
       "      <th></th>\n",
       "      <th>sepal_length</th>\n",
       "      <th>sepal_width</th>\n",
       "      <th>petal_length</th>\n",
       "      <th>petal_width</th>\n",
       "      <th>species</th>\n",
       "    </tr>\n",
       "  </thead>\n",
       "  <tbody>\n",
       "    <tr>\n",
       "      <th>0</th>\n",
       "      <td>5.1</td>\n",
       "      <td>3.5</td>\n",
       "      <td>1.4</td>\n",
       "      <td>0.2</td>\n",
       "      <td>setosa</td>\n",
       "    </tr>\n",
       "    <tr>\n",
       "      <th>1</th>\n",
       "      <td>4.9</td>\n",
       "      <td>3.0</td>\n",
       "      <td>1.4</td>\n",
       "      <td>0.2</td>\n",
       "      <td>setosa</td>\n",
       "    </tr>\n",
       "    <tr>\n",
       "      <th>2</th>\n",
       "      <td>4.7</td>\n",
       "      <td>3.2</td>\n",
       "      <td>1.3</td>\n",
       "      <td>0.2</td>\n",
       "      <td>setosa</td>\n",
       "    </tr>\n",
       "    <tr>\n",
       "      <th>3</th>\n",
       "      <td>4.6</td>\n",
       "      <td>3.1</td>\n",
       "      <td>1.5</td>\n",
       "      <td>0.2</td>\n",
       "      <td>setosa</td>\n",
       "    </tr>\n",
       "    <tr>\n",
       "      <th>4</th>\n",
       "      <td>5.0</td>\n",
       "      <td>3.6</td>\n",
       "      <td>1.4</td>\n",
       "      <td>0.2</td>\n",
       "      <td>setosa</td>\n",
       "    </tr>\n",
       "  </tbody>\n",
       "</table>\n",
       "</div>"
      ],
      "text/plain": [
       "   sepal_length  sepal_width  petal_length  petal_width species\n",
       "0           5.1          3.5           1.4          0.2  setosa\n",
       "1           4.9          3.0           1.4          0.2  setosa\n",
       "2           4.7          3.2           1.3          0.2  setosa\n",
       "3           4.6          3.1           1.5          0.2  setosa\n",
       "4           5.0          3.6           1.4          0.2  setosa"
      ]
     },
     "execution_count": 3,
     "metadata": {},
     "output_type": "execute_result"
    }
   ],
   "source": [
    "file2 = 'iris.csv'\n",
    "\n",
    "data1 = pd.read_csv(file2)\n",
    "\n",
    "data1.head()"
   ]
  },
  {
   "cell_type": "markdown",
   "id": "d79dfc17",
   "metadata": {},
   "source": [
    "<h1><span style=\"color:blue\"> Para cada problema, realiza una comparativa del rendimiento de:\n",
    " </span></h1>\n",
    "\n",
    "1. Un modelo base.\n",
    "2. Una estrategia de bagging con el modelo base.\n",
    "3. Una estrategia de boosting con el modelo base."
   ]
  },
  {
   "cell_type": "markdown",
   "id": "ec05a2c5",
   "metadata": {},
   "source": [
    "Antes de comenzar vreo un dataset para guardar los datos y poder compararlos."
   ]
  },
  {
   "cell_type": "code",
   "execution_count": 4,
   "id": "15a20e98",
   "metadata": {},
   "outputs": [],
   "source": [
    "cols = ['Tipo de clasificador','Balanced Accuracy','Accuracy', 'Confusion Matrix', 'RMSE']\n",
    "\n",
    "df_all = pd.DataFrame(columns=cols)"
   ]
  },
  {
   "cell_type": "markdown",
   "id": "72a80714",
   "metadata": {},
   "source": [
    "<h3><span style=\"color:blue\"> Bagging </span></h3>"
   ]
  },
  {
   "cell_type": "markdown",
   "id": "a3b3de83",
   "metadata": {},
   "source": [
    "<span style=\"color:green\"> **Primero** </span> \n",
    "\n",
    "Divido los datos entre los inputs y el output"
   ]
  },
  {
   "cell_type": "code",
   "execution_count": 5,
   "id": "9678aec6",
   "metadata": {},
   "outputs": [],
   "source": [
    "X = data1[data1.columns[:-1]] \n",
    "Y = data1['species'] "
   ]
  },
  {
   "cell_type": "markdown",
   "id": "b82a8163",
   "metadata": {},
   "source": [
    "<span style=\"color:green\"> **Segundo** </span> \n",
    "\n",
    "Divido con la función **train_test_split**. \n",
    "\n",
    "Le paso todo el conjunto de datos.\n",
    "\n",
    "Esto me divide en 70% para entrenamiento y 30% para test.\n",
    "\n",
    "Vamos a continuar utilizando <span style=\"color:red\"> **X_train** y **y_train** </span> en los modelos de validación"
   ]
  },
  {
   "cell_type": "code",
   "execution_count": 6,
   "id": "7ef5bfe9",
   "metadata": {},
   "outputs": [],
   "source": [
    "X_train, X_test, y_train, y_test = train_test_split(X, Y, test_size = 0.7, random_state=seed) "
   ]
  },
  {
   "cell_type": "markdown",
   "id": "66ac40c0",
   "metadata": {},
   "source": [
    "<span style=\"color:green\"> **Tercero** </span> \n",
    "\n",
    "Como los arboles de decision **No** estan relacionados con la <span style=\"color:red\">**DISTANCIA**</span>  no es necesario realizar el preprocesado de datos."
   ]
  },
  {
   "cell_type": "markdown",
   "id": "9c9c2ffb",
   "metadata": {},
   "source": [
    "<span style=\"color:green\"> **Cuarto** </span> \n",
    "\n",
    "Declaro un modelo base.\n",
    "\n",
    "Este va a ser un Arbol de decisión con una estrategia de **Pre-Poda**\n",
    "\n",
    "La produndidad máxima que le doy es de 5 niveles **max_Depth=5**"
   ]
  },
  {
   "cell_type": "code",
   "execution_count": 7,
   "id": "a8fc009f",
   "metadata": {},
   "outputs": [
    {
     "data": {
      "text/html": [
       "<style>#sk-container-id-1 {color: black;background-color: white;}#sk-container-id-1 pre{padding: 0;}#sk-container-id-1 div.sk-toggleable {background-color: white;}#sk-container-id-1 label.sk-toggleable__label {cursor: pointer;display: block;width: 100%;margin-bottom: 0;padding: 0.3em;box-sizing: border-box;text-align: center;}#sk-container-id-1 label.sk-toggleable__label-arrow:before {content: \"▸\";float: left;margin-right: 0.25em;color: #696969;}#sk-container-id-1 label.sk-toggleable__label-arrow:hover:before {color: black;}#sk-container-id-1 div.sk-estimator:hover label.sk-toggleable__label-arrow:before {color: black;}#sk-container-id-1 div.sk-toggleable__content {max-height: 0;max-width: 0;overflow: hidden;text-align: left;background-color: #f0f8ff;}#sk-container-id-1 div.sk-toggleable__content pre {margin: 0.2em;color: black;border-radius: 0.25em;background-color: #f0f8ff;}#sk-container-id-1 input.sk-toggleable__control:checked~div.sk-toggleable__content {max-height: 200px;max-width: 100%;overflow: auto;}#sk-container-id-1 input.sk-toggleable__control:checked~label.sk-toggleable__label-arrow:before {content: \"▾\";}#sk-container-id-1 div.sk-estimator input.sk-toggleable__control:checked~label.sk-toggleable__label {background-color: #d4ebff;}#sk-container-id-1 div.sk-label input.sk-toggleable__control:checked~label.sk-toggleable__label {background-color: #d4ebff;}#sk-container-id-1 input.sk-hidden--visually {border: 0;clip: rect(1px 1px 1px 1px);clip: rect(1px, 1px, 1px, 1px);height: 1px;margin: -1px;overflow: hidden;padding: 0;position: absolute;width: 1px;}#sk-container-id-1 div.sk-estimator {font-family: monospace;background-color: #f0f8ff;border: 1px dotted black;border-radius: 0.25em;box-sizing: border-box;margin-bottom: 0.5em;}#sk-container-id-1 div.sk-estimator:hover {background-color: #d4ebff;}#sk-container-id-1 div.sk-parallel-item::after {content: \"\";width: 100%;border-bottom: 1px solid gray;flex-grow: 1;}#sk-container-id-1 div.sk-label:hover label.sk-toggleable__label {background-color: #d4ebff;}#sk-container-id-1 div.sk-serial::before {content: \"\";position: absolute;border-left: 1px solid gray;box-sizing: border-box;top: 0;bottom: 0;left: 50%;z-index: 0;}#sk-container-id-1 div.sk-serial {display: flex;flex-direction: column;align-items: center;background-color: white;padding-right: 0.2em;padding-left: 0.2em;position: relative;}#sk-container-id-1 div.sk-item {position: relative;z-index: 1;}#sk-container-id-1 div.sk-parallel {display: flex;align-items: stretch;justify-content: center;background-color: white;position: relative;}#sk-container-id-1 div.sk-item::before, #sk-container-id-1 div.sk-parallel-item::before {content: \"\";position: absolute;border-left: 1px solid gray;box-sizing: border-box;top: 0;bottom: 0;left: 50%;z-index: -1;}#sk-container-id-1 div.sk-parallel-item {display: flex;flex-direction: column;z-index: 1;position: relative;background-color: white;}#sk-container-id-1 div.sk-parallel-item:first-child::after {align-self: flex-end;width: 50%;}#sk-container-id-1 div.sk-parallel-item:last-child::after {align-self: flex-start;width: 50%;}#sk-container-id-1 div.sk-parallel-item:only-child::after {width: 0;}#sk-container-id-1 div.sk-dashed-wrapped {border: 1px dashed gray;margin: 0 0.4em 0.5em 0.4em;box-sizing: border-box;padding-bottom: 0.4em;background-color: white;}#sk-container-id-1 div.sk-label label {font-family: monospace;font-weight: bold;display: inline-block;line-height: 1.2em;}#sk-container-id-1 div.sk-label-container {text-align: center;}#sk-container-id-1 div.sk-container {/* jupyter's `normalize.less` sets `[hidden] { display: none; }` but bootstrap.min.css set `[hidden] { display: none !important; }` so we also need the `!important` here to be able to override the default hidden behavior on the sphinx rendered scikit-learn.org. See: https://github.com/scikit-learn/scikit-learn/issues/21755 */display: inline-block !important;position: relative;}#sk-container-id-1 div.sk-text-repr-fallback {display: none;}</style><div id=\"sk-container-id-1\" class=\"sk-top-container\"><div class=\"sk-text-repr-fallback\"><pre>DecisionTreeClassifier(max_depth=5)</pre><b>In a Jupyter environment, please rerun this cell to show the HTML representation or trust the notebook. <br />On GitHub, the HTML representation is unable to render, please try loading this page with nbviewer.org.</b></div><div class=\"sk-container\" hidden><div class=\"sk-item\"><div class=\"sk-estimator sk-toggleable\"><input class=\"sk-toggleable__control sk-hidden--visually\" id=\"sk-estimator-id-1\" type=\"checkbox\" checked><label for=\"sk-estimator-id-1\" class=\"sk-toggleable__label sk-toggleable__label-arrow\">DecisionTreeClassifier</label><div class=\"sk-toggleable__content\"><pre>DecisionTreeClassifier(max_depth=5)</pre></div></div></div></div></div>"
      ],
      "text/plain": [
       "DecisionTreeClassifier(max_depth=5)"
      ]
     },
     "execution_count": 7,
     "metadata": {},
     "output_type": "execute_result"
    }
   ],
   "source": [
    "base_model= DecisionTreeClassifier(max_depth=5) \n",
    "base_model.fit(X_train, y_train)"
   ]
  },
  {
   "cell_type": "markdown",
   "id": "8ef6176e",
   "metadata": {},
   "source": [
    "Una vez generado el árbol hago el predict con los patrónes de test y ver la métrica de rendimiento.\n",
    "\n",
    "Aquí obtengo las métricas del modelo base por sí mismo."
   ]
  },
  {
   "cell_type": "code",
   "execution_count": 8,
   "id": "28124afc",
   "metadata": {},
   "outputs": [],
   "source": [
    "y_pred = base_model.predict(X_test) "
   ]
  },
  {
   "cell_type": "code",
   "execution_count": 9,
   "id": "3fb77dec",
   "metadata": {},
   "outputs": [],
   "source": [
    "bacc =  balanced_accuracy_score(y_pred, y_test) \n",
    "acc =  accuracy_score(y_pred, y_test) \n",
    "cm =  confusion_matrix(y_pred, y_test)"
   ]
  },
  {
   "cell_type": "code",
   "execution_count": 10,
   "id": "a6dc9b6c",
   "metadata": {},
   "outputs": [
    {
     "name": "stdout",
     "output_type": "stream",
     "text": [
      "0.9472934472934472 0.9433962264150944\n",
      "[[31  0  0]\n",
      " [ 0 35  4]\n",
      " [ 0  2 34]]\n"
     ]
    },
    {
     "name": "stderr",
     "output_type": "stream",
     "text": [
      "C:\\Users\\Mauro.CespedesAraya\\AppData\\Local\\Temp\\ipykernel_2288\\1439135152.py:7: FutureWarning: The frame.append method is deprecated and will be removed from pandas in a future version. Use pandas.concat instead.\n",
      "  df_all = df_all.append(new_row, ignore_index=True)\n"
     ]
    }
   ],
   "source": [
    "print(bacc, acc) \n",
    "print(cm) \n",
    "\n",
    "\n",
    "# Añado oala información al dataset\n",
    "new_row = {'Tipo de clasificador':'Decision tree','Balanced Accuracy':bacc,'Accuracy':acc, 'Confusion Matrix':cm, 'RMSE':'none'}\n",
    "df_all = df_all.append(new_row, ignore_index=True) "
   ]
  },
  {
   "cell_type": "markdown",
   "id": "355d84ed",
   "metadata": {},
   "source": [
    "<span style=\"color:red\">**Quinto**</span> \n",
    "\n",
    "Aquí esta la magia.\n",
    "\n",
    "Necesito meter el arbol de decision que acabo de crear dentro de un classificador de Emsemble"
   ]
  },
  {
   "cell_type": "markdown",
   "id": "2fae08ba",
   "metadata": {},
   "source": [
    "Para ello creo un modelo de **bagging**.\n",
    "\n",
    "Le tengo q indicar cual es el modelo base que deo utilizar.\n",
    "\n",
    "Para ello utilizo el parametro = <span style=\"color:red\">**base_estimator**</span>   y le paso el árbol de decisión\n",
    "\n",
    "<span style=\"color:red\">**n_estimator**</span> le indico cuántos árboles de decisión quiero que genere"
   ]
  },
  {
   "cell_type": "markdown",
   "id": "4507541c",
   "metadata": {},
   "source": [
    "Hay que recordar que <span style=\"color:blue\">**Bagging**</span> se construye con una estrategia de muestreo con repetición\n",
    "\n",
    "Entonces ahora tengo que decidir cuanto muestreo quiero que utilice cada árbol de decisión.\n",
    "\n",
    "Para ello utilizo el parámetro = <span style=\"color:red\">**max_sample**</span> y le indico que utilice un 10%"
   ]
  },
  {
   "cell_type": "code",
   "execution_count": 11,
   "id": "47b7199d",
   "metadata": {},
   "outputs": [],
   "source": [
    "model = BaggingClassifier(base_estimator=base_model, n_estimators=100, max_samples=0.1 , random_state=seed) "
   ]
  },
  {
   "cell_type": "markdown",
   "id": "794ce95f",
   "metadata": {},
   "source": [
    "<span style=\"color:green\"> **Sexto** </span> \n",
    "\n",
    "Una vez que tengo integrado mi arbol dentro del modelo de enseble realizo el entrenamiento."
   ]
  },
  {
   "cell_type": "code",
   "execution_count": 12,
   "id": "c2ff40ab",
   "metadata": {},
   "outputs": [
    {
     "data": {
      "text/html": [
       "<style>#sk-container-id-2 {color: black;background-color: white;}#sk-container-id-2 pre{padding: 0;}#sk-container-id-2 div.sk-toggleable {background-color: white;}#sk-container-id-2 label.sk-toggleable__label {cursor: pointer;display: block;width: 100%;margin-bottom: 0;padding: 0.3em;box-sizing: border-box;text-align: center;}#sk-container-id-2 label.sk-toggleable__label-arrow:before {content: \"▸\";float: left;margin-right: 0.25em;color: #696969;}#sk-container-id-2 label.sk-toggleable__label-arrow:hover:before {color: black;}#sk-container-id-2 div.sk-estimator:hover label.sk-toggleable__label-arrow:before {color: black;}#sk-container-id-2 div.sk-toggleable__content {max-height: 0;max-width: 0;overflow: hidden;text-align: left;background-color: #f0f8ff;}#sk-container-id-2 div.sk-toggleable__content pre {margin: 0.2em;color: black;border-radius: 0.25em;background-color: #f0f8ff;}#sk-container-id-2 input.sk-toggleable__control:checked~div.sk-toggleable__content {max-height: 200px;max-width: 100%;overflow: auto;}#sk-container-id-2 input.sk-toggleable__control:checked~label.sk-toggleable__label-arrow:before {content: \"▾\";}#sk-container-id-2 div.sk-estimator input.sk-toggleable__control:checked~label.sk-toggleable__label {background-color: #d4ebff;}#sk-container-id-2 div.sk-label input.sk-toggleable__control:checked~label.sk-toggleable__label {background-color: #d4ebff;}#sk-container-id-2 input.sk-hidden--visually {border: 0;clip: rect(1px 1px 1px 1px);clip: rect(1px, 1px, 1px, 1px);height: 1px;margin: -1px;overflow: hidden;padding: 0;position: absolute;width: 1px;}#sk-container-id-2 div.sk-estimator {font-family: monospace;background-color: #f0f8ff;border: 1px dotted black;border-radius: 0.25em;box-sizing: border-box;margin-bottom: 0.5em;}#sk-container-id-2 div.sk-estimator:hover {background-color: #d4ebff;}#sk-container-id-2 div.sk-parallel-item::after {content: \"\";width: 100%;border-bottom: 1px solid gray;flex-grow: 1;}#sk-container-id-2 div.sk-label:hover label.sk-toggleable__label {background-color: #d4ebff;}#sk-container-id-2 div.sk-serial::before {content: \"\";position: absolute;border-left: 1px solid gray;box-sizing: border-box;top: 0;bottom: 0;left: 50%;z-index: 0;}#sk-container-id-2 div.sk-serial {display: flex;flex-direction: column;align-items: center;background-color: white;padding-right: 0.2em;padding-left: 0.2em;position: relative;}#sk-container-id-2 div.sk-item {position: relative;z-index: 1;}#sk-container-id-2 div.sk-parallel {display: flex;align-items: stretch;justify-content: center;background-color: white;position: relative;}#sk-container-id-2 div.sk-item::before, #sk-container-id-2 div.sk-parallel-item::before {content: \"\";position: absolute;border-left: 1px solid gray;box-sizing: border-box;top: 0;bottom: 0;left: 50%;z-index: -1;}#sk-container-id-2 div.sk-parallel-item {display: flex;flex-direction: column;z-index: 1;position: relative;background-color: white;}#sk-container-id-2 div.sk-parallel-item:first-child::after {align-self: flex-end;width: 50%;}#sk-container-id-2 div.sk-parallel-item:last-child::after {align-self: flex-start;width: 50%;}#sk-container-id-2 div.sk-parallel-item:only-child::after {width: 0;}#sk-container-id-2 div.sk-dashed-wrapped {border: 1px dashed gray;margin: 0 0.4em 0.5em 0.4em;box-sizing: border-box;padding-bottom: 0.4em;background-color: white;}#sk-container-id-2 div.sk-label label {font-family: monospace;font-weight: bold;display: inline-block;line-height: 1.2em;}#sk-container-id-2 div.sk-label-container {text-align: center;}#sk-container-id-2 div.sk-container {/* jupyter's `normalize.less` sets `[hidden] { display: none; }` but bootstrap.min.css set `[hidden] { display: none !important; }` so we also need the `!important` here to be able to override the default hidden behavior on the sphinx rendered scikit-learn.org. See: https://github.com/scikit-learn/scikit-learn/issues/21755 */display: inline-block !important;position: relative;}#sk-container-id-2 div.sk-text-repr-fallback {display: none;}</style><div id=\"sk-container-id-2\" class=\"sk-top-container\"><div class=\"sk-text-repr-fallback\"><pre>BaggingClassifier(base_estimator=DecisionTreeClassifier(max_depth=5),\n",
       "                  max_samples=0.1, n_estimators=100)</pre><b>In a Jupyter environment, please rerun this cell to show the HTML representation or trust the notebook. <br />On GitHub, the HTML representation is unable to render, please try loading this page with nbviewer.org.</b></div><div class=\"sk-container\" hidden><div class=\"sk-item sk-dashed-wrapped\"><div class=\"sk-label-container\"><div class=\"sk-label sk-toggleable\"><input class=\"sk-toggleable__control sk-hidden--visually\" id=\"sk-estimator-id-2\" type=\"checkbox\" ><label for=\"sk-estimator-id-2\" class=\"sk-toggleable__label sk-toggleable__label-arrow\">BaggingClassifier</label><div class=\"sk-toggleable__content\"><pre>BaggingClassifier(base_estimator=DecisionTreeClassifier(max_depth=5),\n",
       "                  max_samples=0.1, n_estimators=100)</pre></div></div></div><div class=\"sk-parallel\"><div class=\"sk-parallel-item\"><div class=\"sk-item\"><div class=\"sk-label-container\"><div class=\"sk-label sk-toggleable\"><input class=\"sk-toggleable__control sk-hidden--visually\" id=\"sk-estimator-id-3\" type=\"checkbox\" ><label for=\"sk-estimator-id-3\" class=\"sk-toggleable__label sk-toggleable__label-arrow\">base_estimator: DecisionTreeClassifier</label><div class=\"sk-toggleable__content\"><pre>DecisionTreeClassifier(max_depth=5)</pre></div></div></div><div class=\"sk-serial\"><div class=\"sk-item\"><div class=\"sk-estimator sk-toggleable\"><input class=\"sk-toggleable__control sk-hidden--visually\" id=\"sk-estimator-id-4\" type=\"checkbox\" ><label for=\"sk-estimator-id-4\" class=\"sk-toggleable__label sk-toggleable__label-arrow\">DecisionTreeClassifier</label><div class=\"sk-toggleable__content\"><pre>DecisionTreeClassifier(max_depth=5)</pre></div></div></div></div></div></div></div></div></div></div>"
      ],
      "text/plain": [
       "BaggingClassifier(base_estimator=DecisionTreeClassifier(max_depth=5),\n",
       "                  max_samples=0.1, n_estimators=100)"
      ]
     },
     "execution_count": 12,
     "metadata": {},
     "output_type": "execute_result"
    }
   ],
   "source": [
    "\n",
    "model.fit(X_train, y_train)"
   ]
  },
  {
   "cell_type": "markdown",
   "id": "0df14f3c",
   "metadata": {},
   "source": [
    "<span style=\"color:green\"> **Séptimo** </span> \n",
    "\n",
    "Una vez entrenado mi modelo realizo la predicción"
   ]
  },
  {
   "cell_type": "code",
   "execution_count": 13,
   "id": "c087aa63",
   "metadata": {},
   "outputs": [],
   "source": [
    "y_pred = model.predict(X_test)  "
   ]
  },
  {
   "cell_type": "markdown",
   "id": "95c8a95c",
   "metadata": {},
   "source": [
    "Finalmente calculo la metrica correspondiente."
   ]
  },
  {
   "cell_type": "code",
   "execution_count": 14,
   "id": "b6f0dd6d",
   "metadata": {},
   "outputs": [],
   "source": [
    "acc= accuracy_score(y_test, y_pred)"
   ]
  },
  {
   "cell_type": "code",
   "execution_count": 15,
   "id": "89558dab",
   "metadata": {},
   "outputs": [
    {
     "name": "stdout",
     "output_type": "stream",
     "text": [
      "0.8679245283018868\n"
     ]
    },
    {
     "name": "stderr",
     "output_type": "stream",
     "text": [
      "C:\\Users\\Mauro.CespedesAraya\\AppData\\Local\\Temp\\ipykernel_2288\\1926984437.py:5: FutureWarning: The frame.append method is deprecated and will be removed from pandas in a future version. Use pandas.concat instead.\n",
      "  df_all = df_all.append(new_row, ignore_index=True)\n"
     ]
    }
   ],
   "source": [
    "print(acc)\n",
    "\n",
    "# Añado oala información al dataset\n",
    "new_row = {'Tipo de clasificador':'Bagging','Balanced Accuracy':'none','Accuracy':acc, 'Confusion Matrix':'none', 'RMSE':'none'}\n",
    "df_all = df_all.append(new_row, ignore_index=True) "
   ]
  },
  {
   "cell_type": "markdown",
   "id": "b0901343",
   "metadata": {},
   "source": [
    "Uno de los problemas de los árboles de decisián es la estabilidad.\n",
    "\n",
    "Entonces para solucionar esto realizo un bucle for para que me lanze TODO 10 veces:\n",
    "    \n",
    "    - Arbol de decisión\n",
    "    - Bagging\n",
    "    - Ramdom Forest\n",
    "\n",
    "El rendimiento será mejor:\n",
    "    - error más pequeño\n",
    "    - accuracy más alta\n",
    "    - también gano **estabilidad** ---- La varianza(desviacion típica) será menor.\n",
    "    \n",
    "Voy almacenando la información en una lista "
   ]
  },
  {
   "cell_type": "code",
   "execution_count": 16,
   "id": "4dcf87af",
   "metadata": {},
   "outputs": [
    {
     "name": "stdout",
     "output_type": "stream",
     "text": [
      "0\n",
      "1\n",
      "2\n",
      "3\n",
      "4\n",
      "5\n",
      "6\n",
      "7\n",
      "8\n",
      "9\n"
     ]
    }
   ],
   "source": [
    "bagging=[]\n",
    "random_forest=[]\n",
    "arbol_decision=[]\n",
    "\n",
    "for i in range(10):\n",
    "    print(i)\n",
    "    X_train, X_test, y_train, y_test = train_test_split(X, Y, test_size = 0.7, random_state=seed) \n",
    "    \n",
    "    base_model= DecisionTreeClassifier(max_depth=5) \n",
    "    base_model.fit(X_train, y_train) \n",
    "    y_pred = base_model.predict(X_test)   \n",
    "    acc= accuracy_score(y_test, y_pred) \n",
    "    arbol_decision.append(acc)\n",
    "    \n",
    "    model = BaggingClassifier(base_estimator=base_model, n_estimators=100, max_samples=0.1 , random_state=seed) \n",
    "    model.fit(X_train, y_train) \n",
    "    y_pred = model.predict(X_test) \n",
    "    acc= accuracy_score(y_test, y_pred)  \n",
    "    bagging.append(acc)\n",
    "    \n",
    "    model = RandomForestClassifier(n_estimators=100, max_samples=0.1 , random_state=seed) \n",
    "    model.fit(X_train, y_train) \n",
    "    y_pred = model.predict(X_test)   \n",
    "    acc= accuracy_score(y_test, y_pred)  \n",
    "    random_forest.append(acc)"
   ]
  },
  {
   "cell_type": "markdown",
   "id": "80b5cb13",
   "metadata": {},
   "source": [
    "Finalmente voy a presentar la desviacion tipica **STD** y la media **mean**"
   ]
  },
  {
   "cell_type": "code",
   "execution_count": 17,
   "id": "d81c5660",
   "metadata": {},
   "outputs": [
    {
     "name": "stdout",
     "output_type": "stream",
     "text": [
      "Arbol de decisión:\n",
      "0.95 0.011970356170235393\n",
      "--------------------------\n",
      "Bagging:\n",
      "0.9207547169811321 0.03077265364207564\n",
      "--------------------------\n",
      "Random Forest:\n",
      "0.9160377358490566 0.03615805263535245\n"
     ]
    }
   ],
   "source": [
    "print('Arbol de decisión:')\n",
    "print(numpy.mean(arbol_decision),numpy.std(arbol_decision))\n",
    "print('--------------------------')\n",
    "print('Bagging:')\n",
    "print(numpy.mean(bagging),numpy.std(bagging))\n",
    "print('--------------------------')\n",
    "print('Random Forest:')\n",
    "print(numpy.mean(random_forest),numpy.std(random_forest))"
   ]
  },
  {
   "cell_type": "markdown",
   "id": "c9b7d139",
   "metadata": {},
   "source": [
    "**Aqui lo que se observa es como el rendimiento es mucho mejor con el Arbol de decisión con con las estrategias de Ensemble o Random Forest**"
   ]
  },
  {
   "cell_type": "markdown",
   "id": "244c1952",
   "metadata": {},
   "source": [
    "<h3><span style=\"color:blue\"> Boosting </span></h3>"
   ]
  },
  {
   "cell_type": "markdown",
   "id": "9697a3c9",
   "metadata": {},
   "source": [
    "<span style=\"color:green\"> **Primero** </span> \n",
    "\n",
    "Divido los datos entre los inputs y el output"
   ]
  },
  {
   "cell_type": "code",
   "execution_count": 18,
   "id": "2e373312",
   "metadata": {},
   "outputs": [],
   "source": [
    "X = data[data.columns[:-1]] \n",
    "Y = data['response']  "
   ]
  },
  {
   "cell_type": "markdown",
   "id": "386091ee",
   "metadata": {},
   "source": [
    "<span style=\"color:green\"> **Segundo** </span> \n",
    "\n",
    "Divido con la funcion **train_test_split**. Le paso todo el conjunto de datos\n",
    "\n",
    "Ento me divide en 70% para entrenamiento y 30% para test\n",
    "\n",
    "Voy a continuar utilizando <span style=\"color:red\"> **X_train** y **y_train** </span> en los modelos de validación"
   ]
  },
  {
   "cell_type": "code",
   "execution_count": 19,
   "id": "d205b690",
   "metadata": {},
   "outputs": [],
   "source": [
    "X_train, X_test, y_train, y_test = train_test_split(X, Y, test_size = 0.7, random_state=seed) "
   ]
  },
  {
   "cell_type": "markdown",
   "id": "92bd72f4",
   "metadata": {},
   "source": [
    "<span style=\"color:green\"> **Tercero** </span> \n",
    "\n",
    "Las regresiones **Si** que estan relacionadas con <span style=\"color:red\">**DISTANCIA**</span>   es necesario realizar el preprocesado de datos."
   ]
  },
  {
   "cell_type": "code",
   "execution_count": 20,
   "id": "c9fd999d",
   "metadata": {},
   "outputs": [],
   "source": [
    "scaler =StandardScaler() \n",
    "\n",
    "X_train = scaler.fit_transform(X_train) \n",
    "X_test= scaler.transform(X_test)  \n"
   ]
  },
  {
   "cell_type": "markdown",
   "id": "e27bbbe2",
   "metadata": {},
   "source": [
    "<span style=\"color:green\"> **Cuarto** </span> \n",
    "\n",
    "Declaro un modelo base.\n",
    "\n",
    "En esta caso utilizo un KNN\n",
    "\n",
    "Primero veo como funciona el KNN de manera individual "
   ]
  },
  {
   "cell_type": "code",
   "execution_count": 21,
   "id": "5c719657",
   "metadata": {},
   "outputs": [
    {
     "name": "stdout",
     "output_type": "stream",
     "text": [
      "1.3436311852339113\n"
     ]
    },
    {
     "name": "stderr",
     "output_type": "stream",
     "text": [
      "C:\\Users\\Mauro.CespedesAraya\\AppData\\Local\\Temp\\ipykernel_2288\\2276631897.py:12: FutureWarning: The frame.append method is deprecated and will be removed from pandas in a future version. Use pandas.concat instead.\n",
      "  df_all = df_all.append(new_row, ignore_index=True)\n"
     ]
    }
   ],
   "source": [
    "base_model= KNeighborsRegressor() \n",
    "base_model.fit(X_train, y_train)\n",
    "\n",
    "y_pred = base_model.predict(X_test) \n",
    "\n",
    "rmse= numpy.sqrt(mean_squared_error(y_test, y_pred))  \n",
    "\n",
    "print(rmse)\n",
    "\n",
    "# Añado oala información al dataset\n",
    "new_row = {'Tipo de clasificador':'KNN','Balanced Accuracy':'none','Accuracy':'none', 'Confusion Matrix':'none', 'RMSE':rmse}\n",
    "df_all = df_all.append(new_row, ignore_index=True) "
   ]
  },
  {
   "cell_type": "markdown",
   "id": "d3417c90",
   "metadata": {},
   "source": [
    "<span style=\"color:green\">**Quinto**</span> \n",
    "\n",
    "Aquí esta la magia\n",
    "\n",
    "Necesito meter el KNN que acabo de crear dentro de un classificador de Emsemble"
   ]
  },
  {
   "cell_type": "code",
   "execution_count": 22,
   "id": "f5e4f0cf",
   "metadata": {},
   "outputs": [],
   "source": [
    "model = AdaBoostRegressor(base_estimator=base_model, n_estimators=5) "
   ]
  },
  {
   "cell_type": "markdown",
   "id": "ad1f1755",
   "metadata": {},
   "source": [
    "<span style=\"color:green\"> **Sexto** </span> \n",
    "\n",
    "Una vez que tengo integrado el KNN dentro del clasificador de Ensemble realizo el entrenamiento."
   ]
  },
  {
   "cell_type": "code",
   "execution_count": 23,
   "id": "30bb5926",
   "metadata": {},
   "outputs": [
    {
     "data": {
      "text/html": [
       "<style>#sk-container-id-3 {color: black;background-color: white;}#sk-container-id-3 pre{padding: 0;}#sk-container-id-3 div.sk-toggleable {background-color: white;}#sk-container-id-3 label.sk-toggleable__label {cursor: pointer;display: block;width: 100%;margin-bottom: 0;padding: 0.3em;box-sizing: border-box;text-align: center;}#sk-container-id-3 label.sk-toggleable__label-arrow:before {content: \"▸\";float: left;margin-right: 0.25em;color: #696969;}#sk-container-id-3 label.sk-toggleable__label-arrow:hover:before {color: black;}#sk-container-id-3 div.sk-estimator:hover label.sk-toggleable__label-arrow:before {color: black;}#sk-container-id-3 div.sk-toggleable__content {max-height: 0;max-width: 0;overflow: hidden;text-align: left;background-color: #f0f8ff;}#sk-container-id-3 div.sk-toggleable__content pre {margin: 0.2em;color: black;border-radius: 0.25em;background-color: #f0f8ff;}#sk-container-id-3 input.sk-toggleable__control:checked~div.sk-toggleable__content {max-height: 200px;max-width: 100%;overflow: auto;}#sk-container-id-3 input.sk-toggleable__control:checked~label.sk-toggleable__label-arrow:before {content: \"▾\";}#sk-container-id-3 div.sk-estimator input.sk-toggleable__control:checked~label.sk-toggleable__label {background-color: #d4ebff;}#sk-container-id-3 div.sk-label input.sk-toggleable__control:checked~label.sk-toggleable__label {background-color: #d4ebff;}#sk-container-id-3 input.sk-hidden--visually {border: 0;clip: rect(1px 1px 1px 1px);clip: rect(1px, 1px, 1px, 1px);height: 1px;margin: -1px;overflow: hidden;padding: 0;position: absolute;width: 1px;}#sk-container-id-3 div.sk-estimator {font-family: monospace;background-color: #f0f8ff;border: 1px dotted black;border-radius: 0.25em;box-sizing: border-box;margin-bottom: 0.5em;}#sk-container-id-3 div.sk-estimator:hover {background-color: #d4ebff;}#sk-container-id-3 div.sk-parallel-item::after {content: \"\";width: 100%;border-bottom: 1px solid gray;flex-grow: 1;}#sk-container-id-3 div.sk-label:hover label.sk-toggleable__label {background-color: #d4ebff;}#sk-container-id-3 div.sk-serial::before {content: \"\";position: absolute;border-left: 1px solid gray;box-sizing: border-box;top: 0;bottom: 0;left: 50%;z-index: 0;}#sk-container-id-3 div.sk-serial {display: flex;flex-direction: column;align-items: center;background-color: white;padding-right: 0.2em;padding-left: 0.2em;position: relative;}#sk-container-id-3 div.sk-item {position: relative;z-index: 1;}#sk-container-id-3 div.sk-parallel {display: flex;align-items: stretch;justify-content: center;background-color: white;position: relative;}#sk-container-id-3 div.sk-item::before, #sk-container-id-3 div.sk-parallel-item::before {content: \"\";position: absolute;border-left: 1px solid gray;box-sizing: border-box;top: 0;bottom: 0;left: 50%;z-index: -1;}#sk-container-id-3 div.sk-parallel-item {display: flex;flex-direction: column;z-index: 1;position: relative;background-color: white;}#sk-container-id-3 div.sk-parallel-item:first-child::after {align-self: flex-end;width: 50%;}#sk-container-id-3 div.sk-parallel-item:last-child::after {align-self: flex-start;width: 50%;}#sk-container-id-3 div.sk-parallel-item:only-child::after {width: 0;}#sk-container-id-3 div.sk-dashed-wrapped {border: 1px dashed gray;margin: 0 0.4em 0.5em 0.4em;box-sizing: border-box;padding-bottom: 0.4em;background-color: white;}#sk-container-id-3 div.sk-label label {font-family: monospace;font-weight: bold;display: inline-block;line-height: 1.2em;}#sk-container-id-3 div.sk-label-container {text-align: center;}#sk-container-id-3 div.sk-container {/* jupyter's `normalize.less` sets `[hidden] { display: none; }` but bootstrap.min.css set `[hidden] { display: none !important; }` so we also need the `!important` here to be able to override the default hidden behavior on the sphinx rendered scikit-learn.org. See: https://github.com/scikit-learn/scikit-learn/issues/21755 */display: inline-block !important;position: relative;}#sk-container-id-3 div.sk-text-repr-fallback {display: none;}</style><div id=\"sk-container-id-3\" class=\"sk-top-container\"><div class=\"sk-text-repr-fallback\"><pre>AdaBoostRegressor(base_estimator=KNeighborsRegressor(), n_estimators=5)</pre><b>In a Jupyter environment, please rerun this cell to show the HTML representation or trust the notebook. <br />On GitHub, the HTML representation is unable to render, please try loading this page with nbviewer.org.</b></div><div class=\"sk-container\" hidden><div class=\"sk-item sk-dashed-wrapped\"><div class=\"sk-label-container\"><div class=\"sk-label sk-toggleable\"><input class=\"sk-toggleable__control sk-hidden--visually\" id=\"sk-estimator-id-5\" type=\"checkbox\" ><label for=\"sk-estimator-id-5\" class=\"sk-toggleable__label sk-toggleable__label-arrow\">AdaBoostRegressor</label><div class=\"sk-toggleable__content\"><pre>AdaBoostRegressor(base_estimator=KNeighborsRegressor(), n_estimators=5)</pre></div></div></div><div class=\"sk-parallel\"><div class=\"sk-parallel-item\"><div class=\"sk-item\"><div class=\"sk-label-container\"><div class=\"sk-label sk-toggleable\"><input class=\"sk-toggleable__control sk-hidden--visually\" id=\"sk-estimator-id-6\" type=\"checkbox\" ><label for=\"sk-estimator-id-6\" class=\"sk-toggleable__label sk-toggleable__label-arrow\">base_estimator: KNeighborsRegressor</label><div class=\"sk-toggleable__content\"><pre>KNeighborsRegressor()</pre></div></div></div><div class=\"sk-serial\"><div class=\"sk-item\"><div class=\"sk-estimator sk-toggleable\"><input class=\"sk-toggleable__control sk-hidden--visually\" id=\"sk-estimator-id-7\" type=\"checkbox\" ><label for=\"sk-estimator-id-7\" class=\"sk-toggleable__label sk-toggleable__label-arrow\">KNeighborsRegressor</label><div class=\"sk-toggleable__content\"><pre>KNeighborsRegressor()</pre></div></div></div></div></div></div></div></div></div></div>"
      ],
      "text/plain": [
       "AdaBoostRegressor(base_estimator=KNeighborsRegressor(), n_estimators=5)"
      ]
     },
     "execution_count": 23,
     "metadata": {},
     "output_type": "execute_result"
    }
   ],
   "source": [
    "model.fit(X_train, y_train)"
   ]
  },
  {
   "cell_type": "markdown",
   "id": "5c373d73",
   "metadata": {},
   "source": [
    "<span style=\"color:green\"> **Séptimo** </span> \n",
    "\n",
    "Una vez entrenado mi modelo realizo la predicción"
   ]
  },
  {
   "cell_type": "code",
   "execution_count": 24,
   "id": "2f1be0ba",
   "metadata": {},
   "outputs": [],
   "source": [
    "y_pred = model.predict(X_test)  "
   ]
  },
  {
   "cell_type": "markdown",
   "id": "7d471b5d",
   "metadata": {},
   "source": [
    "Finalmente calculo la metrica correspondiente."
   ]
  },
  {
   "cell_type": "code",
   "execution_count": 25,
   "id": "697c1776",
   "metadata": {},
   "outputs": [
    {
     "name": "stdout",
     "output_type": "stream",
     "text": [
      "1.395036768805648\n"
     ]
    },
    {
     "name": "stderr",
     "output_type": "stream",
     "text": [
      "C:\\Users\\Mauro.CespedesAraya\\AppData\\Local\\Temp\\ipykernel_2288\\2555580829.py:6: FutureWarning: The frame.append method is deprecated and will be removed from pandas in a future version. Use pandas.concat instead.\n",
      "  df_all = df_all.append(new_row, ignore_index=True)\n"
     ]
    }
   ],
   "source": [
    "rmse= numpy.sqrt(mean_squared_error(y_test, y_pred)) \n",
    "print(rmse)\n",
    "\n",
    "# Añado oala información al dataset\n",
    "new_row = {'Tipo de clasificador':'Boosting','Balanced Accuracy':'none','Accuracy':'none', 'Confusion Matrix':'none', 'RMSE':rmse}\n",
    "df_all = df_all.append(new_row, ignore_index=True) "
   ]
  },
  {
   "cell_type": "markdown",
   "id": "d6dd9a64",
   "metadata": {},
   "source": [
    "Ahora presento los datos y comparo cuál estrategia me ha resultado mejor para estos datasets"
   ]
  },
  {
   "cell_type": "code",
   "execution_count": 26,
   "id": "c12f9bff",
   "metadata": {},
   "outputs": [
    {
     "data": {
      "text/html": [
       "<div>\n",
       "<style scoped>\n",
       "    .dataframe tbody tr th:only-of-type {\n",
       "        vertical-align: middle;\n",
       "    }\n",
       "\n",
       "    .dataframe tbody tr th {\n",
       "        vertical-align: top;\n",
       "    }\n",
       "\n",
       "    .dataframe thead th {\n",
       "        text-align: right;\n",
       "    }\n",
       "</style>\n",
       "<table border=\"1\" class=\"dataframe\">\n",
       "  <thead>\n",
       "    <tr style=\"text-align: right;\">\n",
       "      <th></th>\n",
       "      <th>Tipo de clasificador</th>\n",
       "      <th>Balanced Accuracy</th>\n",
       "      <th>Accuracy</th>\n",
       "      <th>Confusion Matrix</th>\n",
       "      <th>RMSE</th>\n",
       "    </tr>\n",
       "  </thead>\n",
       "  <tbody>\n",
       "    <tr>\n",
       "      <th>0</th>\n",
       "      <td>Decision tree</td>\n",
       "      <td>0.947293</td>\n",
       "      <td>0.943396</td>\n",
       "      <td>[[31, 0, 0], [0, 35, 4], [0, 2, 34]]</td>\n",
       "      <td>none</td>\n",
       "    </tr>\n",
       "    <tr>\n",
       "      <th>1</th>\n",
       "      <td>Bagging</td>\n",
       "      <td>none</td>\n",
       "      <td>0.867925</td>\n",
       "      <td>none</td>\n",
       "      <td>none</td>\n",
       "    </tr>\n",
       "    <tr>\n",
       "      <th>2</th>\n",
       "      <td>KNN</td>\n",
       "      <td>none</td>\n",
       "      <td>none</td>\n",
       "      <td>none</td>\n",
       "      <td>1.343631</td>\n",
       "    </tr>\n",
       "    <tr>\n",
       "      <th>3</th>\n",
       "      <td>Boosting</td>\n",
       "      <td>none</td>\n",
       "      <td>none</td>\n",
       "      <td>none</td>\n",
       "      <td>1.395037</td>\n",
       "    </tr>\n",
       "  </tbody>\n",
       "</table>\n",
       "</div>"
      ],
      "text/plain": [
       "  Tipo de clasificador Balanced Accuracy  Accuracy  \\\n",
       "0        Decision tree          0.947293  0.943396   \n",
       "1              Bagging              none  0.867925   \n",
       "2                  KNN              none      none   \n",
       "3             Boosting              none      none   \n",
       "\n",
       "                       Confusion Matrix      RMSE  \n",
       "0  [[31, 0, 0], [0, 35, 4], [0, 2, 34]]      none  \n",
       "1                                  none      none  \n",
       "2                                  none  1.343631  \n",
       "3                                  none  1.395037  "
      ]
     },
     "execution_count": 26,
     "metadata": {},
     "output_type": "execute_result"
    }
   ],
   "source": [
    "df_all"
   ]
  },
  {
   "cell_type": "markdown",
   "id": "c62b41f2",
   "metadata": {},
   "source": [
    "Según estos resultados para estos datsets el mejor rendimiento se obtiene utilizando los modelos por si mismo en lugar de las estrategis de Ensemble.\n"
   ]
  },
  {
   "cell_type": "code",
   "execution_count": null,
   "id": "ac8f3cbc",
   "metadata": {},
   "outputs": [],
   "source": []
  },
  {
   "cell_type": "code",
   "execution_count": null,
   "id": "e28395ec",
   "metadata": {},
   "outputs": [],
   "source": []
  }
 ],
 "metadata": {
  "kernelspec": {
   "display_name": "Python 3 (ipykernel)",
   "language": "python",
   "name": "python3"
  },
  "language_info": {
   "codemirror_mode": {
    "name": "ipython",
    "version": 3
   },
   "file_extension": ".py",
   "mimetype": "text/x-python",
   "name": "python",
   "nbconvert_exporter": "python",
   "pygments_lexer": "ipython3",
   "version": "3.8.5"
  }
 },
 "nbformat": 4,
 "nbformat_minor": 5
}
