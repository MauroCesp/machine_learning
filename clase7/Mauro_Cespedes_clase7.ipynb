{
 "cells": [
  {
   "cell_type": "markdown",
   "id": "ee1c47ad",
   "metadata": {},
   "source": [
    "<h1><span style=\"color:blue\"> Busca y descarga el conjunto de datos “Climate Model Simulation\n",
    "Crashes” del repositorio UCI Machine Learning. Tiene los datos de un\n",
    "problema de clasificación binaria. Cárgalo adecuadamente en un\n",
    "Pandas DataFrame.   </span></h1>"
   ]
  },
  {
   "cell_type": "code",
   "execution_count": 1,
   "id": "09e1094d",
   "metadata": {},
   "outputs": [],
   "source": [
    "import numpy as np\n",
    "import pandas as pd\n",
    "import random, time\n",
    "\n",
    "from sklearn.model_selection import train_test_split\n",
    "from sklearn.metrics import confusion_matrix, balanced_accuracy_score\n",
    "from sklearn.svm import SVC\n",
    "from sklearn.preprocessing import StandardScaler, OneHotEncoder\n",
    "\n"
   ]
  },
  {
   "cell_type": "code",
   "execution_count": 2,
   "id": "804e390d",
   "metadata": {},
   "outputs": [
    {
     "data": {
      "text/html": [
       "<div>\n",
       "<style scoped>\n",
       "    .dataframe tbody tr th:only-of-type {\n",
       "        vertical-align: middle;\n",
       "    }\n",
       "\n",
       "    .dataframe tbody tr th {\n",
       "        vertical-align: top;\n",
       "    }\n",
       "\n",
       "    .dataframe thead th {\n",
       "        text-align: right;\n",
       "    }\n",
       "</style>\n",
       "<table border=\"1\" class=\"dataframe\">\n",
       "  <thead>\n",
       "    <tr style=\"text-align: right;\">\n",
       "      <th></th>\n",
       "      <th>Study</th>\n",
       "      <th>Run</th>\n",
       "      <th>vconst_corr</th>\n",
       "      <th>vconst_2</th>\n",
       "      <th>vconst_3</th>\n",
       "      <th>vconst_4</th>\n",
       "      <th>vconst_5</th>\n",
       "      <th>vconst_6</th>\n",
       "      <th>vconst_7</th>\n",
       "      <th>ah_corr</th>\n",
       "      <th>...</th>\n",
       "      <th>slm_corr</th>\n",
       "      <th>efficiency_factor</th>\n",
       "      <th>tidal_mix_max</th>\n",
       "      <th>vertical_decay_scale</th>\n",
       "      <th>convect_corr</th>\n",
       "      <th>bckgrnd_vdc1</th>\n",
       "      <th>bckgrnd_vdc_ban</th>\n",
       "      <th>bckgrnd_vdc_eq</th>\n",
       "      <th>bckgrnd_vdc_psim</th>\n",
       "      <th>outcome</th>\n",
       "    </tr>\n",
       "  </thead>\n",
       "  <tbody>\n",
       "    <tr>\n",
       "      <th>535</th>\n",
       "      <td>3</td>\n",
       "      <td>176</td>\n",
       "      <td>0.657136</td>\n",
       "      <td>0.489375</td>\n",
       "      <td>0.133713</td>\n",
       "      <td>0.411950</td>\n",
       "      <td>0.087780</td>\n",
       "      <td>0.356289</td>\n",
       "      <td>0.480204</td>\n",
       "      <td>0.029678</td>\n",
       "      <td>...</td>\n",
       "      <td>0.280546</td>\n",
       "      <td>0.384117</td>\n",
       "      <td>0.885948</td>\n",
       "      <td>0.768482</td>\n",
       "      <td>0.459479</td>\n",
       "      <td>0.334482</td>\n",
       "      <td>0.573002</td>\n",
       "      <td>0.610183</td>\n",
       "      <td>0.737706</td>\n",
       "      <td>1</td>\n",
       "    </tr>\n",
       "    <tr>\n",
       "      <th>536</th>\n",
       "      <td>3</td>\n",
       "      <td>177</td>\n",
       "      <td>0.915894</td>\n",
       "      <td>0.842720</td>\n",
       "      <td>0.518947</td>\n",
       "      <td>0.090622</td>\n",
       "      <td>0.336981</td>\n",
       "      <td>0.893576</td>\n",
       "      <td>0.978703</td>\n",
       "      <td>0.674868</td>\n",
       "      <td>...</td>\n",
       "      <td>0.798108</td>\n",
       "      <td>0.353546</td>\n",
       "      <td>0.044796</td>\n",
       "      <td>0.990900</td>\n",
       "      <td>0.347027</td>\n",
       "      <td>0.512499</td>\n",
       "      <td>0.810549</td>\n",
       "      <td>0.593332</td>\n",
       "      <td>0.142565</td>\n",
       "      <td>0</td>\n",
       "    </tr>\n",
       "    <tr>\n",
       "      <th>537</th>\n",
       "      <td>3</td>\n",
       "      <td>178</td>\n",
       "      <td>0.478600</td>\n",
       "      <td>0.941185</td>\n",
       "      <td>0.769245</td>\n",
       "      <td>0.950776</td>\n",
       "      <td>0.189406</td>\n",
       "      <td>0.112743</td>\n",
       "      <td>0.745645</td>\n",
       "      <td>0.527096</td>\n",
       "      <td>...</td>\n",
       "      <td>0.193103</td>\n",
       "      <td>0.829563</td>\n",
       "      <td>0.101506</td>\n",
       "      <td>0.548878</td>\n",
       "      <td>0.381966</td>\n",
       "      <td>0.198811</td>\n",
       "      <td>0.867108</td>\n",
       "      <td>0.461632</td>\n",
       "      <td>0.652817</td>\n",
       "      <td>1</td>\n",
       "    </tr>\n",
       "    <tr>\n",
       "      <th>538</th>\n",
       "      <td>3</td>\n",
       "      <td>179</td>\n",
       "      <td>0.007793</td>\n",
       "      <td>0.779287</td>\n",
       "      <td>0.867468</td>\n",
       "      <td>0.704820</td>\n",
       "      <td>0.983282</td>\n",
       "      <td>0.420303</td>\n",
       "      <td>0.710612</td>\n",
       "      <td>0.174746</td>\n",
       "      <td>...</td>\n",
       "      <td>0.761134</td>\n",
       "      <td>0.436714</td>\n",
       "      <td>0.690132</td>\n",
       "      <td>0.825133</td>\n",
       "      <td>0.981656</td>\n",
       "      <td>0.113193</td>\n",
       "      <td>0.364799</td>\n",
       "      <td>0.201469</td>\n",
       "      <td>0.536535</td>\n",
       "      <td>1</td>\n",
       "    </tr>\n",
       "    <tr>\n",
       "      <th>539</th>\n",
       "      <td>3</td>\n",
       "      <td>180</td>\n",
       "      <td>0.608075</td>\n",
       "      <td>0.031556</td>\n",
       "      <td>0.598264</td>\n",
       "      <td>0.794771</td>\n",
       "      <td>0.145680</td>\n",
       "      <td>0.378183</td>\n",
       "      <td>0.461948</td>\n",
       "      <td>0.425291</td>\n",
       "      <td>...</td>\n",
       "      <td>0.480938</td>\n",
       "      <td>0.307816</td>\n",
       "      <td>0.231638</td>\n",
       "      <td>0.464152</td>\n",
       "      <td>0.583558</td>\n",
       "      <td>0.969365</td>\n",
       "      <td>0.464331</td>\n",
       "      <td>0.760344</td>\n",
       "      <td>0.762439</td>\n",
       "      <td>1</td>\n",
       "    </tr>\n",
       "  </tbody>\n",
       "</table>\n",
       "<p>5 rows × 21 columns</p>\n",
       "</div>"
      ],
      "text/plain": [
       "     Study  Run  vconst_corr  vconst_2  vconst_3  vconst_4  vconst_5  \\\n",
       "535      3  176     0.657136  0.489375  0.133713  0.411950  0.087780   \n",
       "536      3  177     0.915894  0.842720  0.518947  0.090622  0.336981   \n",
       "537      3  178     0.478600  0.941185  0.769245  0.950776  0.189406   \n",
       "538      3  179     0.007793  0.779287  0.867468  0.704820  0.983282   \n",
       "539      3  180     0.608075  0.031556  0.598264  0.794771  0.145680   \n",
       "\n",
       "     vconst_6  vconst_7   ah_corr  ...  slm_corr  efficiency_factor  \\\n",
       "535  0.356289  0.480204  0.029678  ...  0.280546           0.384117   \n",
       "536  0.893576  0.978703  0.674868  ...  0.798108           0.353546   \n",
       "537  0.112743  0.745645  0.527096  ...  0.193103           0.829563   \n",
       "538  0.420303  0.710612  0.174746  ...  0.761134           0.436714   \n",
       "539  0.378183  0.461948  0.425291  ...  0.480938           0.307816   \n",
       "\n",
       "     tidal_mix_max  vertical_decay_scale  convect_corr  bckgrnd_vdc1  \\\n",
       "535       0.885948              0.768482      0.459479      0.334482   \n",
       "536       0.044796              0.990900      0.347027      0.512499   \n",
       "537       0.101506              0.548878      0.381966      0.198811   \n",
       "538       0.690132              0.825133      0.981656      0.113193   \n",
       "539       0.231638              0.464152      0.583558      0.969365   \n",
       "\n",
       "     bckgrnd_vdc_ban  bckgrnd_vdc_eq  bckgrnd_vdc_psim  outcome  \n",
       "535         0.573002        0.610183          0.737706        1  \n",
       "536         0.810549        0.593332          0.142565        0  \n",
       "537         0.867108        0.461632          0.652817        1  \n",
       "538         0.364799        0.201469          0.536535        1  \n",
       "539         0.464331        0.760344          0.762439        1  \n",
       "\n",
       "[5 rows x 21 columns]"
      ]
     },
     "execution_count": 2,
     "metadata": {},
     "output_type": "execute_result"
    }
   ],
   "source": [
    "df = pd.read_excel(\"climate_dataset.xlsx\")\n",
    "df.tail()"
   ]
  },
  {
   "cell_type": "code",
   "execution_count": 3,
   "id": "5d81c056",
   "metadata": {},
   "outputs": [
    {
     "data": {
      "text/html": [
       "<div>\n",
       "<style scoped>\n",
       "    .dataframe tbody tr th:only-of-type {\n",
       "        vertical-align: middle;\n",
       "    }\n",
       "\n",
       "    .dataframe tbody tr th {\n",
       "        vertical-align: top;\n",
       "    }\n",
       "\n",
       "    .dataframe thead th {\n",
       "        text-align: right;\n",
       "    }\n",
       "</style>\n",
       "<table border=\"1\" class=\"dataframe\">\n",
       "  <thead>\n",
       "    <tr style=\"text-align: right;\">\n",
       "      <th></th>\n",
       "      <th>vconst_corr</th>\n",
       "      <th>vconst_2</th>\n",
       "      <th>vconst_3</th>\n",
       "      <th>vconst_4</th>\n",
       "      <th>vconst_5</th>\n",
       "      <th>vconst_6</th>\n",
       "      <th>vconst_7</th>\n",
       "      <th>ah_corr</th>\n",
       "      <th>ah_bolus</th>\n",
       "      <th>slm_corr</th>\n",
       "      <th>efficiency_factor</th>\n",
       "      <th>tidal_mix_max</th>\n",
       "      <th>vertical_decay_scale</th>\n",
       "      <th>convect_corr</th>\n",
       "      <th>bckgrnd_vdc1</th>\n",
       "      <th>bckgrnd_vdc_ban</th>\n",
       "      <th>bckgrnd_vdc_eq</th>\n",
       "      <th>bckgrnd_vdc_psim</th>\n",
       "      <th>outcome</th>\n",
       "    </tr>\n",
       "  </thead>\n",
       "  <tbody>\n",
       "    <tr>\n",
       "      <th>0</th>\n",
       "      <td>0.859036</td>\n",
       "      <td>0.927825</td>\n",
       "      <td>0.252866</td>\n",
       "      <td>0.298838</td>\n",
       "      <td>0.170521</td>\n",
       "      <td>0.735936</td>\n",
       "      <td>0.428325</td>\n",
       "      <td>0.567947</td>\n",
       "      <td>0.474370</td>\n",
       "      <td>0.245675</td>\n",
       "      <td>0.104226</td>\n",
       "      <td>0.869091</td>\n",
       "      <td>0.997518</td>\n",
       "      <td>0.448620</td>\n",
       "      <td>0.307522</td>\n",
       "      <td>0.858310</td>\n",
       "      <td>0.796997</td>\n",
       "      <td>0.869893</td>\n",
       "      <td>0</td>\n",
       "    </tr>\n",
       "    <tr>\n",
       "      <th>1</th>\n",
       "      <td>0.606041</td>\n",
       "      <td>0.457728</td>\n",
       "      <td>0.359448</td>\n",
       "      <td>0.306957</td>\n",
       "      <td>0.843331</td>\n",
       "      <td>0.934851</td>\n",
       "      <td>0.444572</td>\n",
       "      <td>0.828015</td>\n",
       "      <td>0.296618</td>\n",
       "      <td>0.616870</td>\n",
       "      <td>0.975786</td>\n",
       "      <td>0.914344</td>\n",
       "      <td>0.845247</td>\n",
       "      <td>0.864152</td>\n",
       "      <td>0.346713</td>\n",
       "      <td>0.356573</td>\n",
       "      <td>0.438447</td>\n",
       "      <td>0.512256</td>\n",
       "      <td>1</td>\n",
       "    </tr>\n",
       "    <tr>\n",
       "      <th>2</th>\n",
       "      <td>0.997600</td>\n",
       "      <td>0.373238</td>\n",
       "      <td>0.517399</td>\n",
       "      <td>0.504993</td>\n",
       "      <td>0.618903</td>\n",
       "      <td>0.605571</td>\n",
       "      <td>0.746225</td>\n",
       "      <td>0.195928</td>\n",
       "      <td>0.815667</td>\n",
       "      <td>0.679355</td>\n",
       "      <td>0.803413</td>\n",
       "      <td>0.643995</td>\n",
       "      <td>0.718441</td>\n",
       "      <td>0.924775</td>\n",
       "      <td>0.315371</td>\n",
       "      <td>0.250642</td>\n",
       "      <td>0.285636</td>\n",
       "      <td>0.365858</td>\n",
       "      <td>1</td>\n",
       "    </tr>\n",
       "    <tr>\n",
       "      <th>3</th>\n",
       "      <td>0.783408</td>\n",
       "      <td>0.104055</td>\n",
       "      <td>0.197533</td>\n",
       "      <td>0.421837</td>\n",
       "      <td>0.742056</td>\n",
       "      <td>0.490828</td>\n",
       "      <td>0.005525</td>\n",
       "      <td>0.392123</td>\n",
       "      <td>0.010015</td>\n",
       "      <td>0.471463</td>\n",
       "      <td>0.597879</td>\n",
       "      <td>0.761659</td>\n",
       "      <td>0.362751</td>\n",
       "      <td>0.912819</td>\n",
       "      <td>0.977971</td>\n",
       "      <td>0.845921</td>\n",
       "      <td>0.699431</td>\n",
       "      <td>0.475987</td>\n",
       "      <td>1</td>\n",
       "    </tr>\n",
       "    <tr>\n",
       "      <th>4</th>\n",
       "      <td>0.406250</td>\n",
       "      <td>0.513199</td>\n",
       "      <td>0.061812</td>\n",
       "      <td>0.635837</td>\n",
       "      <td>0.844798</td>\n",
       "      <td>0.441502</td>\n",
       "      <td>0.191926</td>\n",
       "      <td>0.487546</td>\n",
       "      <td>0.358534</td>\n",
       "      <td>0.551543</td>\n",
       "      <td>0.743877</td>\n",
       "      <td>0.312349</td>\n",
       "      <td>0.650223</td>\n",
       "      <td>0.522261</td>\n",
       "      <td>0.043545</td>\n",
       "      <td>0.376660</td>\n",
       "      <td>0.280098</td>\n",
       "      <td>0.132283</td>\n",
       "      <td>1</td>\n",
       "    </tr>\n",
       "  </tbody>\n",
       "</table>\n",
       "</div>"
      ],
      "text/plain": [
       "   vconst_corr  vconst_2  vconst_3  vconst_4  vconst_5  vconst_6  vconst_7  \\\n",
       "0     0.859036  0.927825  0.252866  0.298838  0.170521  0.735936  0.428325   \n",
       "1     0.606041  0.457728  0.359448  0.306957  0.843331  0.934851  0.444572   \n",
       "2     0.997600  0.373238  0.517399  0.504993  0.618903  0.605571  0.746225   \n",
       "3     0.783408  0.104055  0.197533  0.421837  0.742056  0.490828  0.005525   \n",
       "4     0.406250  0.513199  0.061812  0.635837  0.844798  0.441502  0.191926   \n",
       "\n",
       "    ah_corr  ah_bolus  slm_corr  efficiency_factor  tidal_mix_max  \\\n",
       "0  0.567947  0.474370  0.245675           0.104226       0.869091   \n",
       "1  0.828015  0.296618  0.616870           0.975786       0.914344   \n",
       "2  0.195928  0.815667  0.679355           0.803413       0.643995   \n",
       "3  0.392123  0.010015  0.471463           0.597879       0.761659   \n",
       "4  0.487546  0.358534  0.551543           0.743877       0.312349   \n",
       "\n",
       "   vertical_decay_scale  convect_corr  bckgrnd_vdc1  bckgrnd_vdc_ban  \\\n",
       "0              0.997518      0.448620      0.307522         0.858310   \n",
       "1              0.845247      0.864152      0.346713         0.356573   \n",
       "2              0.718441      0.924775      0.315371         0.250642   \n",
       "3              0.362751      0.912819      0.977971         0.845921   \n",
       "4              0.650223      0.522261      0.043545         0.376660   \n",
       "\n",
       "   bckgrnd_vdc_eq  bckgrnd_vdc_psim  outcome  \n",
       "0        0.796997          0.869893        0  \n",
       "1        0.438447          0.512256        1  \n",
       "2        0.285636          0.365858        1  \n",
       "3        0.699431          0.475987        1  \n",
       "4        0.280098          0.132283        1  "
      ]
     },
     "execution_count": 3,
     "metadata": {},
     "output_type": "execute_result"
    }
   ],
   "source": [
    "#Elimino las primeras dos columnas\n",
    "\n",
    "df = df.drop('Study', axis=1)\n",
    "df = df.drop('Run', axis=1)\n",
    "df.head()"
   ]
  },
  {
   "cell_type": "markdown",
   "id": "fb900974",
   "metadata": {},
   "source": [
    "<h1><span style=\"color:blue\"> Realiza un conteo de las clases y analiza si hay desequilibrio.   </span></h1>"
   ]
  },
  {
   "cell_type": "markdown",
   "id": "8203abbf",
   "metadata": {},
   "source": [
    "Utilizo la clase **groupby** para ver cuantos datos hay de cada clase."
   ]
  },
  {
   "cell_type": "code",
   "execution_count": 4,
   "id": "6a7d8c19",
   "metadata": {},
   "outputs": [
    {
     "name": "stdout",
     "output_type": "stream",
     "text": [
      "outcome\n",
      "0     46\n",
      "1    494\n",
      "dtype: int64\n"
     ]
    }
   ],
   "source": [
    "class_distribution = df.groupby('outcome').size()\n",
    "print(class_distribution)"
   ]
  },
  {
   "cell_type": "markdown",
   "id": "76aad385",
   "metadata": {},
   "source": [
    "Este es un caso de clasificación binaria en donde existe un claro desquilibrio entre clases.\n",
    "\n",
    "Por lo tanto el **ACCURACY**  <span style=\"color:red\">NO</span> será la mejor métrica para calcular el rendimiento del modelo predictivo.\n",
    "\n",
    "Tendré que utilizar otras metricas para lograr compensar ese desequilibrio de clases."
   ]
  },
  {
   "cell_type": "markdown",
   "id": "c9fd65dc",
   "metadata": {},
   "source": [
    "<h1><span style=\"color:blue\">  Segmenta el conjunto de datos en entrenamiento y test.\n",
    "  </span></h1>"
   ]
  },
  {
   "cell_type": "markdown",
   "id": "26d81e7d",
   "metadata": {},
   "source": [
    "#### Primero\n",
    "\n",
    "Divido los datos entre los inputs y el output"
   ]
  },
  {
   "cell_type": "code",
   "execution_count": 5,
   "id": "601004f8",
   "metadata": {},
   "outputs": [],
   "source": [
    "X = df[df.columns[:-1]]\n",
    "Y = df['outcome']"
   ]
  },
  {
   "cell_type": "markdown",
   "id": "d90213c9",
   "metadata": {},
   "source": [
    "#### Segundo\n",
    "\n",
    "Divido con la funcion **train_test_split**. \n",
    "\n",
    "Le paso todo el conjunto de datos\n",
    "\n",
    "Esto me divide en 70% para entrenamiento y 30% para test\n",
    "\n",
    "Continuo utilizando <span style=\"color:red\"> **X_train** y **y_train** </span> en los modelos de validación"
   ]
  },
  {
   "cell_type": "code",
   "execution_count": 6,
   "id": "a6d05516",
   "metadata": {},
   "outputs": [],
   "source": [
    "test_portion = 0.3\n",
    "\n",
    "seed = random.randint(0,10)\n",
    "\n",
    "# Aqui genero 4 dataframes nuevos (2 train, 2 test) \n",
    "#Usamos el 30% de instancias para test y 70% para train\n",
    "X_train, X_test, y_train, y_test = train_test_split(X, Y, test_size = test_portion, random_state=seed)"
   ]
  },
  {
   "cell_type": "markdown",
   "id": "efa012ee",
   "metadata": {},
   "source": [
    "<h1><span style=\"color:blue\">  Realiza el preprocesamiento más adecuando para los datos. No\n",
    "olvides eliminar las dos primeras columnas.  </span></h1>"
   ]
  },
  {
   "cell_type": "markdown",
   "id": "6a89b7e6",
   "metadata": {},
   "source": [
    "<h3><span style=\"color:red\">Escalado de datos</span></h3>\n",
    "\n",
    "Separar las variables que sean de tipo numerico de las categoricas.\n",
    "\n",
    "Y con **EstandardScaler** le aplico un escaldo a esas variables numericas.\n"
   ]
  },
  {
   "cell_type": "markdown",
   "id": "f962f1c4",
   "metadata": {},
   "source": [
    "#### **NUMERICAS** ---------------> StandardScaler"
   ]
  },
  {
   "cell_type": "code",
   "execution_count": 7,
   "id": "e07d48c9",
   "metadata": {},
   "outputs": [],
   "source": [
    "num_X_train = X_train.select_dtypes(include=['int','float'])\n",
    "num_X_test = X_test.select_dtypes(include=['int','float'])"
   ]
  },
  {
   "cell_type": "code",
   "execution_count": 8,
   "id": "318065cd",
   "metadata": {},
   "outputs": [
    {
     "data": {
      "text/html": [
       "<style>#sk-container-id-1 {color: black;background-color: white;}#sk-container-id-1 pre{padding: 0;}#sk-container-id-1 div.sk-toggleable {background-color: white;}#sk-container-id-1 label.sk-toggleable__label {cursor: pointer;display: block;width: 100%;margin-bottom: 0;padding: 0.3em;box-sizing: border-box;text-align: center;}#sk-container-id-1 label.sk-toggleable__label-arrow:before {content: \"▸\";float: left;margin-right: 0.25em;color: #696969;}#sk-container-id-1 label.sk-toggleable__label-arrow:hover:before {color: black;}#sk-container-id-1 div.sk-estimator:hover label.sk-toggleable__label-arrow:before {color: black;}#sk-container-id-1 div.sk-toggleable__content {max-height: 0;max-width: 0;overflow: hidden;text-align: left;background-color: #f0f8ff;}#sk-container-id-1 div.sk-toggleable__content pre {margin: 0.2em;color: black;border-radius: 0.25em;background-color: #f0f8ff;}#sk-container-id-1 input.sk-toggleable__control:checked~div.sk-toggleable__content {max-height: 200px;max-width: 100%;overflow: auto;}#sk-container-id-1 input.sk-toggleable__control:checked~label.sk-toggleable__label-arrow:before {content: \"▾\";}#sk-container-id-1 div.sk-estimator input.sk-toggleable__control:checked~label.sk-toggleable__label {background-color: #d4ebff;}#sk-container-id-1 div.sk-label input.sk-toggleable__control:checked~label.sk-toggleable__label {background-color: #d4ebff;}#sk-container-id-1 input.sk-hidden--visually {border: 0;clip: rect(1px 1px 1px 1px);clip: rect(1px, 1px, 1px, 1px);height: 1px;margin: -1px;overflow: hidden;padding: 0;position: absolute;width: 1px;}#sk-container-id-1 div.sk-estimator {font-family: monospace;background-color: #f0f8ff;border: 1px dotted black;border-radius: 0.25em;box-sizing: border-box;margin-bottom: 0.5em;}#sk-container-id-1 div.sk-estimator:hover {background-color: #d4ebff;}#sk-container-id-1 div.sk-parallel-item::after {content: \"\";width: 100%;border-bottom: 1px solid gray;flex-grow: 1;}#sk-container-id-1 div.sk-label:hover label.sk-toggleable__label {background-color: #d4ebff;}#sk-container-id-1 div.sk-serial::before {content: \"\";position: absolute;border-left: 1px solid gray;box-sizing: border-box;top: 0;bottom: 0;left: 50%;z-index: 0;}#sk-container-id-1 div.sk-serial {display: flex;flex-direction: column;align-items: center;background-color: white;padding-right: 0.2em;padding-left: 0.2em;position: relative;}#sk-container-id-1 div.sk-item {position: relative;z-index: 1;}#sk-container-id-1 div.sk-parallel {display: flex;align-items: stretch;justify-content: center;background-color: white;position: relative;}#sk-container-id-1 div.sk-item::before, #sk-container-id-1 div.sk-parallel-item::before {content: \"\";position: absolute;border-left: 1px solid gray;box-sizing: border-box;top: 0;bottom: 0;left: 50%;z-index: -1;}#sk-container-id-1 div.sk-parallel-item {display: flex;flex-direction: column;z-index: 1;position: relative;background-color: white;}#sk-container-id-1 div.sk-parallel-item:first-child::after {align-self: flex-end;width: 50%;}#sk-container-id-1 div.sk-parallel-item:last-child::after {align-self: flex-start;width: 50%;}#sk-container-id-1 div.sk-parallel-item:only-child::after {width: 0;}#sk-container-id-1 div.sk-dashed-wrapped {border: 1px dashed gray;margin: 0 0.4em 0.5em 0.4em;box-sizing: border-box;padding-bottom: 0.4em;background-color: white;}#sk-container-id-1 div.sk-label label {font-family: monospace;font-weight: bold;display: inline-block;line-height: 1.2em;}#sk-container-id-1 div.sk-label-container {text-align: center;}#sk-container-id-1 div.sk-container {/* jupyter's `normalize.less` sets `[hidden] { display: none; }` but bootstrap.min.css set `[hidden] { display: none !important; }` so we also need the `!important` here to be able to override the default hidden behavior on the sphinx rendered scikit-learn.org. See: https://github.com/scikit-learn/scikit-learn/issues/21755 */display: inline-block !important;position: relative;}#sk-container-id-1 div.sk-text-repr-fallback {display: none;}</style><div id=\"sk-container-id-1\" class=\"sk-top-container\"><div class=\"sk-text-repr-fallback\"><pre>StandardScaler()</pre><b>In a Jupyter environment, please rerun this cell to show the HTML representation or trust the notebook. <br />On GitHub, the HTML representation is unable to render, please try loading this page with nbviewer.org.</b></div><div class=\"sk-container\" hidden><div class=\"sk-item\"><div class=\"sk-estimator sk-toggleable\"><input class=\"sk-toggleable__control sk-hidden--visually\" id=\"sk-estimator-id-1\" type=\"checkbox\" checked><label for=\"sk-estimator-id-1\" class=\"sk-toggleable__label sk-toggleable__label-arrow\">StandardScaler</label><div class=\"sk-toggleable__content\"><pre>StandardScaler()</pre></div></div></div></div></div>"
      ],
      "text/plain": [
       "StandardScaler()"
      ]
     },
     "execution_count": 8,
     "metadata": {},
     "output_type": "execute_result"
    }
   ],
   "source": [
    "stdScaler = StandardScaler()\n",
    "stdScaler.fit(num_X_train)"
   ]
  },
  {
   "cell_type": "code",
   "execution_count": 9,
   "id": "a99e70d9",
   "metadata": {},
   "outputs": [],
   "source": [
    "resc_X_train = pd.DataFrame(stdScaler.transform(num_X_train),columns=num_X_train.columns)\n",
    "resc_X_test = pd.DataFrame(stdScaler.transform(num_X_test),columns=num_X_test.columns)"
   ]
  },
  {
   "cell_type": "markdown",
   "id": "da3567d9",
   "metadata": {},
   "source": [
    "#### **CATEGORICAS** ---------------> OneHotEncoding\n",
    "\n",
    "En este caso no tengo ninguna variable de tipo numerico.\n",
    "\n",
    "La funcion **.select_dtypes()** devuelve un dataframe"
   ]
  },
  {
   "cell_type": "code",
   "execution_count": 10,
   "id": "534f388e",
   "metadata": {},
   "outputs": [],
   "source": [
    "cat_X_train = X_train.select_dtypes(include=['object'])\n",
    "cat_X_test = X_test.select_dtypes(include=['object'])"
   ]
  },
  {
   "cell_type": "markdown",
   "id": "c886663c",
   "metadata": {},
   "source": [
    "**Instancio la clase ONEHOT ENCODER**\n",
    "\n",
    "Genero un objeto para trabajar con él \n",
    "\n",
    "COmo solo tengo dos clases elimino el segundo parametro del objeto.\n",
    "\n",
    "Si tueviera mas clases lo agrego ahí"
   ]
  },
  {
   "cell_type": "code",
   "execution_count": 11,
   "id": "8951b94b",
   "metadata": {},
   "outputs": [],
   "source": [
    "ohe = OneHotEncoder(drop = 'if_binary')"
   ]
  },
  {
   "cell_type": "markdown",
   "id": "abda196b",
   "metadata": {},
   "source": [
    "Ahora entreno y genero un **modelo de transformacion** con OneHot Encoder\n",
    "\n",
    "Va a mirar en las variables catagoricas cuantas etiquetas diferentes hay, y se las va a guardar\n",
    "\n",
    "Para cada etiqueta generar una transformacion\n",
    "\n",
    "El modelo ha sido creado solamente con los datos de **entrenamiento**"
   ]
  },
  {
   "cell_type": "code",
   "execution_count": 12,
   "id": "8d641845",
   "metadata": {},
   "outputs": [
    {
     "data": {
      "text/html": [
       "<style>#sk-container-id-2 {color: black;background-color: white;}#sk-container-id-2 pre{padding: 0;}#sk-container-id-2 div.sk-toggleable {background-color: white;}#sk-container-id-2 label.sk-toggleable__label {cursor: pointer;display: block;width: 100%;margin-bottom: 0;padding: 0.3em;box-sizing: border-box;text-align: center;}#sk-container-id-2 label.sk-toggleable__label-arrow:before {content: \"▸\";float: left;margin-right: 0.25em;color: #696969;}#sk-container-id-2 label.sk-toggleable__label-arrow:hover:before {color: black;}#sk-container-id-2 div.sk-estimator:hover label.sk-toggleable__label-arrow:before {color: black;}#sk-container-id-2 div.sk-toggleable__content {max-height: 0;max-width: 0;overflow: hidden;text-align: left;background-color: #f0f8ff;}#sk-container-id-2 div.sk-toggleable__content pre {margin: 0.2em;color: black;border-radius: 0.25em;background-color: #f0f8ff;}#sk-container-id-2 input.sk-toggleable__control:checked~div.sk-toggleable__content {max-height: 200px;max-width: 100%;overflow: auto;}#sk-container-id-2 input.sk-toggleable__control:checked~label.sk-toggleable__label-arrow:before {content: \"▾\";}#sk-container-id-2 div.sk-estimator input.sk-toggleable__control:checked~label.sk-toggleable__label {background-color: #d4ebff;}#sk-container-id-2 div.sk-label input.sk-toggleable__control:checked~label.sk-toggleable__label {background-color: #d4ebff;}#sk-container-id-2 input.sk-hidden--visually {border: 0;clip: rect(1px 1px 1px 1px);clip: rect(1px, 1px, 1px, 1px);height: 1px;margin: -1px;overflow: hidden;padding: 0;position: absolute;width: 1px;}#sk-container-id-2 div.sk-estimator {font-family: monospace;background-color: #f0f8ff;border: 1px dotted black;border-radius: 0.25em;box-sizing: border-box;margin-bottom: 0.5em;}#sk-container-id-2 div.sk-estimator:hover {background-color: #d4ebff;}#sk-container-id-2 div.sk-parallel-item::after {content: \"\";width: 100%;border-bottom: 1px solid gray;flex-grow: 1;}#sk-container-id-2 div.sk-label:hover label.sk-toggleable__label {background-color: #d4ebff;}#sk-container-id-2 div.sk-serial::before {content: \"\";position: absolute;border-left: 1px solid gray;box-sizing: border-box;top: 0;bottom: 0;left: 50%;z-index: 0;}#sk-container-id-2 div.sk-serial {display: flex;flex-direction: column;align-items: center;background-color: white;padding-right: 0.2em;padding-left: 0.2em;position: relative;}#sk-container-id-2 div.sk-item {position: relative;z-index: 1;}#sk-container-id-2 div.sk-parallel {display: flex;align-items: stretch;justify-content: center;background-color: white;position: relative;}#sk-container-id-2 div.sk-item::before, #sk-container-id-2 div.sk-parallel-item::before {content: \"\";position: absolute;border-left: 1px solid gray;box-sizing: border-box;top: 0;bottom: 0;left: 50%;z-index: -1;}#sk-container-id-2 div.sk-parallel-item {display: flex;flex-direction: column;z-index: 1;position: relative;background-color: white;}#sk-container-id-2 div.sk-parallel-item:first-child::after {align-self: flex-end;width: 50%;}#sk-container-id-2 div.sk-parallel-item:last-child::after {align-self: flex-start;width: 50%;}#sk-container-id-2 div.sk-parallel-item:only-child::after {width: 0;}#sk-container-id-2 div.sk-dashed-wrapped {border: 1px dashed gray;margin: 0 0.4em 0.5em 0.4em;box-sizing: border-box;padding-bottom: 0.4em;background-color: white;}#sk-container-id-2 div.sk-label label {font-family: monospace;font-weight: bold;display: inline-block;line-height: 1.2em;}#sk-container-id-2 div.sk-label-container {text-align: center;}#sk-container-id-2 div.sk-container {/* jupyter's `normalize.less` sets `[hidden] { display: none; }` but bootstrap.min.css set `[hidden] { display: none !important; }` so we also need the `!important` here to be able to override the default hidden behavior on the sphinx rendered scikit-learn.org. See: https://github.com/scikit-learn/scikit-learn/issues/21755 */display: inline-block !important;position: relative;}#sk-container-id-2 div.sk-text-repr-fallback {display: none;}</style><div id=\"sk-container-id-2\" class=\"sk-top-container\"><div class=\"sk-text-repr-fallback\"><pre>OneHotEncoder(drop=&#x27;if_binary&#x27;)</pre><b>In a Jupyter environment, please rerun this cell to show the HTML representation or trust the notebook. <br />On GitHub, the HTML representation is unable to render, please try loading this page with nbviewer.org.</b></div><div class=\"sk-container\" hidden><div class=\"sk-item\"><div class=\"sk-estimator sk-toggleable\"><input class=\"sk-toggleable__control sk-hidden--visually\" id=\"sk-estimator-id-2\" type=\"checkbox\" checked><label for=\"sk-estimator-id-2\" class=\"sk-toggleable__label sk-toggleable__label-arrow\">OneHotEncoder</label><div class=\"sk-toggleable__content\"><pre>OneHotEncoder(drop=&#x27;if_binary&#x27;)</pre></div></div></div></div></div>"
      ],
      "text/plain": [
       "OneHotEncoder(drop='if_binary')"
      ]
     },
     "execution_count": 12,
     "metadata": {},
     "output_type": "execute_result"
    }
   ],
   "source": [
    "ohe.fit(cat_X_train)"
   ]
  },
  {
   "cell_type": "code",
   "execution_count": 13,
   "id": "18b8420c",
   "metadata": {},
   "outputs": [],
   "source": [
    "resc_X_train[ohe.get_feature_names_out()] = ohe.transform(cat_X_train).toarray()\n",
    "resc_X_test[ohe.get_feature_names_out()] = ohe.transform(cat_X_test).toarray()"
   ]
  },
  {
   "cell_type": "markdown",
   "id": "898dc718",
   "metadata": {},
   "source": [
    "Ahora transformo esas variabels categoricas del conjunto de entrenamiento con el **objeto** que he creado, y que ya previmente he entrenado\n",
    "\n",
    "De esta manera genero un modelo de transformacion\n",
    "\n",
    "Es decir un nuevo dataframe con los datos ya trasformados:\n",
    "\n",
    "- <span style=\"color:red\">Los datos Categoricos pasados a numericos</span>\n",
    "- <span style=\"color:red\">Los datos Numericos escalados</span>"
   ]
  },
  {
   "cell_type": "markdown",
   "id": "c845e62b",
   "metadata": {},
   "source": [
    "<h1><span style=\"color:blue\"> Entrena un modelo SVM para clasificación y evalúa su rendimiento.</span></h1>"
   ]
  },
  {
   "cell_type": "code",
   "execution_count": 14,
   "id": "b1b47783",
   "metadata": {},
   "outputs": [
    {
     "data": {
      "text/html": [
       "<style>#sk-container-id-3 {color: black;background-color: white;}#sk-container-id-3 pre{padding: 0;}#sk-container-id-3 div.sk-toggleable {background-color: white;}#sk-container-id-3 label.sk-toggleable__label {cursor: pointer;display: block;width: 100%;margin-bottom: 0;padding: 0.3em;box-sizing: border-box;text-align: center;}#sk-container-id-3 label.sk-toggleable__label-arrow:before {content: \"▸\";float: left;margin-right: 0.25em;color: #696969;}#sk-container-id-3 label.sk-toggleable__label-arrow:hover:before {color: black;}#sk-container-id-3 div.sk-estimator:hover label.sk-toggleable__label-arrow:before {color: black;}#sk-container-id-3 div.sk-toggleable__content {max-height: 0;max-width: 0;overflow: hidden;text-align: left;background-color: #f0f8ff;}#sk-container-id-3 div.sk-toggleable__content pre {margin: 0.2em;color: black;border-radius: 0.25em;background-color: #f0f8ff;}#sk-container-id-3 input.sk-toggleable__control:checked~div.sk-toggleable__content {max-height: 200px;max-width: 100%;overflow: auto;}#sk-container-id-3 input.sk-toggleable__control:checked~label.sk-toggleable__label-arrow:before {content: \"▾\";}#sk-container-id-3 div.sk-estimator input.sk-toggleable__control:checked~label.sk-toggleable__label {background-color: #d4ebff;}#sk-container-id-3 div.sk-label input.sk-toggleable__control:checked~label.sk-toggleable__label {background-color: #d4ebff;}#sk-container-id-3 input.sk-hidden--visually {border: 0;clip: rect(1px 1px 1px 1px);clip: rect(1px, 1px, 1px, 1px);height: 1px;margin: -1px;overflow: hidden;padding: 0;position: absolute;width: 1px;}#sk-container-id-3 div.sk-estimator {font-family: monospace;background-color: #f0f8ff;border: 1px dotted black;border-radius: 0.25em;box-sizing: border-box;margin-bottom: 0.5em;}#sk-container-id-3 div.sk-estimator:hover {background-color: #d4ebff;}#sk-container-id-3 div.sk-parallel-item::after {content: \"\";width: 100%;border-bottom: 1px solid gray;flex-grow: 1;}#sk-container-id-3 div.sk-label:hover label.sk-toggleable__label {background-color: #d4ebff;}#sk-container-id-3 div.sk-serial::before {content: \"\";position: absolute;border-left: 1px solid gray;box-sizing: border-box;top: 0;bottom: 0;left: 50%;z-index: 0;}#sk-container-id-3 div.sk-serial {display: flex;flex-direction: column;align-items: center;background-color: white;padding-right: 0.2em;padding-left: 0.2em;position: relative;}#sk-container-id-3 div.sk-item {position: relative;z-index: 1;}#sk-container-id-3 div.sk-parallel {display: flex;align-items: stretch;justify-content: center;background-color: white;position: relative;}#sk-container-id-3 div.sk-item::before, #sk-container-id-3 div.sk-parallel-item::before {content: \"\";position: absolute;border-left: 1px solid gray;box-sizing: border-box;top: 0;bottom: 0;left: 50%;z-index: -1;}#sk-container-id-3 div.sk-parallel-item {display: flex;flex-direction: column;z-index: 1;position: relative;background-color: white;}#sk-container-id-3 div.sk-parallel-item:first-child::after {align-self: flex-end;width: 50%;}#sk-container-id-3 div.sk-parallel-item:last-child::after {align-self: flex-start;width: 50%;}#sk-container-id-3 div.sk-parallel-item:only-child::after {width: 0;}#sk-container-id-3 div.sk-dashed-wrapped {border: 1px dashed gray;margin: 0 0.4em 0.5em 0.4em;box-sizing: border-box;padding-bottom: 0.4em;background-color: white;}#sk-container-id-3 div.sk-label label {font-family: monospace;font-weight: bold;display: inline-block;line-height: 1.2em;}#sk-container-id-3 div.sk-label-container {text-align: center;}#sk-container-id-3 div.sk-container {/* jupyter's `normalize.less` sets `[hidden] { display: none; }` but bootstrap.min.css set `[hidden] { display: none !important; }` so we also need the `!important` here to be able to override the default hidden behavior on the sphinx rendered scikit-learn.org. See: https://github.com/scikit-learn/scikit-learn/issues/21755 */display: inline-block !important;position: relative;}#sk-container-id-3 div.sk-text-repr-fallback {display: none;}</style><div id=\"sk-container-id-3\" class=\"sk-top-container\"><div class=\"sk-text-repr-fallback\"><pre>SVC(C=10, class_weight=&#x27;balanced&#x27;, gamma=0.01, kernel=&#x27;sigmoid&#x27;)</pre><b>In a Jupyter environment, please rerun this cell to show the HTML representation or trust the notebook. <br />On GitHub, the HTML representation is unable to render, please try loading this page with nbviewer.org.</b></div><div class=\"sk-container\" hidden><div class=\"sk-item\"><div class=\"sk-estimator sk-toggleable\"><input class=\"sk-toggleable__control sk-hidden--visually\" id=\"sk-estimator-id-3\" type=\"checkbox\" checked><label for=\"sk-estimator-id-3\" class=\"sk-toggleable__label sk-toggleable__label-arrow\">SVC</label><div class=\"sk-toggleable__content\"><pre>SVC(C=10, class_weight=&#x27;balanced&#x27;, gamma=0.01, kernel=&#x27;sigmoid&#x27;)</pre></div></div></div></div></div>"
      ],
      "text/plain": [
       "SVC(C=10, class_weight='balanced', gamma=0.01, kernel='sigmoid')"
      ]
     },
     "execution_count": 14,
     "metadata": {},
     "output_type": "execute_result"
    }
   ],
   "source": [
    "modelo = SVC(C=10, class_weight='balanced', kernel='sigmoid',gamma=0.01)\n",
    "\n",
    "# ALimento mi modelo unicamente con los patrones de entrenamiento.\n",
    "modelo.fit(resc_X_train, y_train)"
   ]
  },
  {
   "cell_type": "markdown",
   "id": "229f5042",
   "metadata": {},
   "source": [
    "Averiguo el rendimiento de las distintas metricas.\n",
    "\n",
    "Lo utilizo como parametro para averiguar las metricas."
   ]
  },
  {
   "cell_type": "code",
   "execution_count": 15,
   "id": "e7e7342a",
   "metadata": {},
   "outputs": [],
   "source": [
    "y_pred= modelo.predict(resc_X_test)\n",
    "cm = confusion_matrix(y_test,y_pred)\n",
    "acc = balanced_accuracy_score(y_test, y_pred)"
   ]
  },
  {
   "cell_type": "code",
   "execution_count": 16,
   "id": "e5a59940",
   "metadata": {},
   "outputs": [
    {
     "name": "stdout",
     "output_type": "stream",
     "text": [
      "[[ 15   1]\n",
      " [ 22 124]] 0.8934075342465753\n"
     ]
    }
   ],
   "source": [
    "print(cm,acc)"
   ]
  },
  {
   "cell_type": "markdown",
   "id": "c0fa48e8",
   "metadata": {},
   "source": [
    "<h1><span style=\"color:blue\">  Trata de buscar la mejor combinación para los distintos parámetros\n",
    "del modelo.  </span></h1>"
   ]
  },
  {
   "cell_type": "code",
   "execution_count": 59,
   "id": "9e7f1dc9",
   "metadata": {},
   "outputs": [
    {
     "name": "stdout",
     "output_type": "stream",
     "text": [
      "{'C': 0.001, 'G': 0.001, 'RENDIMIENTO': 0.5}\n",
      "{'C': 0.001, 'G': 0.01, 'RENDIMIENTO': 0.5}\n",
      "{'C': 0.001, 'G': 0.1, 'RENDIMIENTO': 0.5}\n",
      "{'C': 0.001, 'G': 1, 'RENDIMIENTO': 0.5}\n",
      "{'C': 0.001, 'G': 10, 'RENDIMIENTO': 0.5}\n",
      "{'C': 0.001, 'G': 100, 'RENDIMIENTO': 0.5}\n",
      "{'C': 0.01, 'G': 0.001, 'RENDIMIENTO': 0.5}\n",
      "{'C': 0.01, 'G': 0.01, 'RENDIMIENTO': 0.5}\n",
      "{'C': 0.01, 'G': 0.1, 'RENDIMIENTO': 0.6575342465753424}\n",
      "{'C': 0.01, 'G': 1, 'RENDIMIENTO': 0.8424657534246576}\n",
      "{'C': 0.01, 'G': 10, 'RENDIMIENTO': 0.7975171232876712}\n",
      "{'C': 0.01, 'G': 100, 'RENDIMIENTO': 0.807791095890411}\n",
      "{'C': 0.1, 'G': 0.001, 'RENDIMIENTO': 0.5}\n",
      "{'C': 0.1, 'G': 0.01, 'RENDIMIENTO': 0.821917808219178}\n",
      "{'C': 0.1, 'G': 0.1, 'RENDIMIENTO': 0.9075342465753424}\n",
      "{'C': 0.1, 'G': 1, 'RENDIMIENTO': 0.7696917808219178}\n",
      "{'C': 0.1, 'G': 10, 'RENDIMIENTO': 0.7658390410958904}\n",
      "{'C': 0.1, 'G': 100, 'RENDIMIENTO': 0.7589897260273972}\n",
      "{'C': 1, 'G': 0.001, 'RENDIMIENTO': 0.8184931506849316}\n",
      "{'C': 1, 'G': 0.01, 'RENDIMIENTO': 0.9143835616438356}\n",
      "{'C': 1, 'G': 0.1, 'RENDIMIENTO': 0.8454623287671232}\n",
      "{'C': 1, 'G': 1, 'RENDIMIENTO': 0.7559931506849316}\n",
      "{'C': 1, 'G': 10, 'RENDIMIENTO': 0.7110445205479452}\n",
      "{'C': 1, 'G': 100, 'RENDIMIENTO': 0.7178938356164384}\n",
      "{'C': 10, 'G': 0.001, 'RENDIMIENTO': 0.9212328767123288}\n",
      "{'C': 10, 'G': 0.01, 'RENDIMIENTO': 0.8934075342465753}\n",
      "{'C': 10, 'G': 0.1, 'RENDIMIENTO': 0.8595890410958904}\n",
      "{'C': 10, 'G': 1, 'RENDIMIENTO': 0.7388698630136986}\n",
      "{'C': 10, 'G': 10, 'RENDIMIENTO': 0.7076198630136986}\n",
      "{'C': 10, 'G': 100, 'RENDIMIENTO': 0.7144691780821918}\n",
      "{'C': 100, 'G': 0.001, 'RENDIMIENTO': 0.8690068493150684}\n",
      "{'C': 100, 'G': 0.01, 'RENDIMIENTO': 0.771832191780822}\n",
      "{'C': 100, 'G': 0.1, 'RENDIMIENTO': 0.8553082191780822}\n",
      "{'C': 100, 'G': 1, 'RENDIMIENTO': 0.7388698630136986}\n",
      "{'C': 100, 'G': 10, 'RENDIMIENTO': 0.7076198630136986}\n",
      "{'C': 100, 'G': 100, 'RENDIMIENTO': 0.7144691780821918}\n"
     ]
    }
   ],
   "source": [
    "# initialize list elements\n",
    "dic = {'C':0,'G':0,'RENDIMIENTO':0}\n",
    "\n",
    "for c in (10**p for p in range(-3, 3)):\n",
    "    \n",
    "    for g in (10**p for p in range(-3, 3)):\n",
    "        \n",
    "        dic['C'] = c\n",
    "        dic['G'] = g\n",
    "        \n",
    "    \n",
    "        modelo = SVC(C=c, class_weight='balanced', kernel='sigmoid',gamma=g)\n",
    "        # ALimento mi modelo unicamente con los patrones de entrenamiento.\n",
    "        modelo.fit(resc_X_train, y_train)\n",
    "        y_pred= modelo.predict(resc_X_test)\n",
    "\n",
    "        cm = confusion_matrix(y_test,y_pred)\n",
    "        acc = balanced_accuracy_score(y_test, y_pred)\n",
    "        \n",
    "        dic['RENDIMIENTO'] = acc\n",
    "        \n",
    "\n",
    "        print(dic)"
   ]
  },
  {
   "cell_type": "markdown",
   "id": "d8d9fa96",
   "metadata": {},
   "source": [
    "Como se puede observar este modelo funciona mejor cuando la **C** es 1 y la **G** es 0.01. Aquí logra un rendimiento del 91%"
   ]
  },
  {
   "cell_type": "code",
   "execution_count": null,
   "id": "9cd17505",
   "metadata": {},
   "outputs": [],
   "source": []
  }
 ],
 "metadata": {
  "kernelspec": {
   "display_name": "Python 3 (ipykernel)",
   "language": "python",
   "name": "python3"
  },
  "language_info": {
   "codemirror_mode": {
    "name": "ipython",
    "version": 3
   },
   "file_extension": ".py",
   "mimetype": "text/x-python",
   "name": "python",
   "nbconvert_exporter": "python",
   "pygments_lexer": "ipython3",
   "version": "3.8.5"
  }
 },
 "nbformat": 4,
 "nbformat_minor": 5
}
