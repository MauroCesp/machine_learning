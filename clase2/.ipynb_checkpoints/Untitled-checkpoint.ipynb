{
 "cells": [
  {
   "cell_type": "code",
   "execution_count": null,
   "id": "0358a631",
   "metadata": {},
   "outputs": [],
   "source": [
    "Actividad relacionada con la lección 2:\n",
    "1. Carga el dataset Indian-Liver-Patient.\n",
    "2. Identifica numérica o gráficamente aquellas variables que son\n",
    "susceptibles de aplicar una transformación.\n",
    "3. Elige una variable numérica y aplica uno a uno todos los métodos de\n",
    "escalado de variables que de datos que se han visto en la lección.\n",
    "4. Compara gráficamente mediante un gráfico de densidad los efectos\n",
    "producidos en la variable."
   ]
  }
 ],
 "metadata": {
  "kernelspec": {
   "display_name": "Python 3 (ipykernel)",
   "language": "python",
   "name": "python3"
  },
  "language_info": {
   "codemirror_mode": {
    "name": "ipython",
    "version": 3
   },
   "file_extension": ".py",
   "mimetype": "text/x-python",
   "name": "python",
   "nbconvert_exporter": "python",
   "pygments_lexer": "ipython3",
   "version": "3.8.5"
  }
 },
 "nbformat": 4,
 "nbformat_minor": 5
}
