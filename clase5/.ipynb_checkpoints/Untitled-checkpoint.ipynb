{
 "cells": [
  {
   "cell_type": "markdown",
   "id": "6e1d96e0",
   "metadata": {},
   "source": [
    "### Busca y descarga el conjunto de datos “Climate Model Simulation Crashes” del repositorio UCI Machine Learning. Tiene los datos de un problema de clasificación."
   ]
  },
  {
   "cell_type": "code",
   "execution_count": null,
   "id": "3773b28e",
   "metadata": {},
   "outputs": [],
   "source": []
  },
  {
   "cell_type": "markdown",
   "id": "9f995940",
   "metadata": {},
   "source": [
    "### Cárgalo adecuadamente en un Pandas DataFrame."
   ]
  },
  {
   "cell_type": "code",
   "execution_count": null,
   "id": "4b08f689",
   "metadata": {},
   "outputs": [],
   "source": []
  },
  {
   "cell_type": "markdown",
   "id": "e1a8f3e8",
   "metadata": {},
   "source": [
    "### Realiza un conteo de las clases y analiza si hay desequilibrio."
   ]
  },
  {
   "cell_type": "code",
   "execution_count": null,
   "id": "84700e72",
   "metadata": {},
   "outputs": [],
   "source": []
  },
  {
   "cell_type": "markdown",
   "id": "76940962",
   "metadata": {},
   "source": [
    "### Evalua el rendimiento del modelo k-Nearest Neigbours mediante las tres estrategias de validación cruzada estudiados y utilizando la métrica que consideres más adecuada."
   ]
  },
  {
   "cell_type": "code",
   "execution_count": null,
   "id": "e450a877",
   "metadata": {},
   "outputs": [],
   "source": []
  }
 ],
 "metadata": {
  "kernelspec": {
   "display_name": "Python 3 (ipykernel)",
   "language": "python",
   "name": "python3"
  },
  "language_info": {
   "codemirror_mode": {
    "name": "ipython",
    "version": 3
   },
   "file_extension": ".py",
   "mimetype": "text/x-python",
   "name": "python",
   "nbconvert_exporter": "python",
   "pygments_lexer": "ipython3",
   "version": "3.8.5"
  }
 },
 "nbformat": 4,
 "nbformat_minor": 5
}
