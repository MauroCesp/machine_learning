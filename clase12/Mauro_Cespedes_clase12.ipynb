{
 "cells": [
  {
   "cell_type": "markdown",
   "id": "81334c7c",
   "metadata": {},
   "source": [
    "<h1><span style=\"color:blue\"> Descarga el conjunto de datos User Knowledge Modeling del\n",
    "repositorio UCI Machine Learning. Se trata de un conjunto de datos en\n",
    "el que las instancias están etiquetadas. </span></h1>"
   ]
  },
  {
   "cell_type": "code",
   "execution_count": 18,
   "id": "800be76c",
   "metadata": {},
   "outputs": [
    {
     "data": {
      "text/html": [
       "<div>\n",
       "<style scoped>\n",
       "    .dataframe tbody tr th:only-of-type {\n",
       "        vertical-align: middle;\n",
       "    }\n",
       "\n",
       "    .dataframe tbody tr th {\n",
       "        vertical-align: top;\n",
       "    }\n",
       "\n",
       "    .dataframe thead th {\n",
       "        text-align: right;\n",
       "    }\n",
       "</style>\n",
       "<table border=\"1\" class=\"dataframe\">\n",
       "  <thead>\n",
       "    <tr style=\"text-align: right;\">\n",
       "      <th></th>\n",
       "      <th>STG</th>\n",
       "      <th>SCG</th>\n",
       "      <th>STR</th>\n",
       "      <th>LPR</th>\n",
       "      <th>PEG</th>\n",
       "      <th>UNS</th>\n",
       "    </tr>\n",
       "  </thead>\n",
       "  <tbody>\n",
       "    <tr>\n",
       "      <th>0</th>\n",
       "      <td>0.00</td>\n",
       "      <td>0.00</td>\n",
       "      <td>0.00</td>\n",
       "      <td>0.00</td>\n",
       "      <td>0.00</td>\n",
       "      <td>very_low</td>\n",
       "    </tr>\n",
       "    <tr>\n",
       "      <th>1</th>\n",
       "      <td>0.08</td>\n",
       "      <td>0.08</td>\n",
       "      <td>0.10</td>\n",
       "      <td>0.24</td>\n",
       "      <td>0.90</td>\n",
       "      <td>High</td>\n",
       "    </tr>\n",
       "    <tr>\n",
       "      <th>2</th>\n",
       "      <td>0.06</td>\n",
       "      <td>0.06</td>\n",
       "      <td>0.05</td>\n",
       "      <td>0.25</td>\n",
       "      <td>0.33</td>\n",
       "      <td>Low</td>\n",
       "    </tr>\n",
       "    <tr>\n",
       "      <th>3</th>\n",
       "      <td>0.10</td>\n",
       "      <td>0.10</td>\n",
       "      <td>0.15</td>\n",
       "      <td>0.65</td>\n",
       "      <td>0.30</td>\n",
       "      <td>Middle</td>\n",
       "    </tr>\n",
       "    <tr>\n",
       "      <th>4</th>\n",
       "      <td>0.08</td>\n",
       "      <td>0.08</td>\n",
       "      <td>0.08</td>\n",
       "      <td>0.98</td>\n",
       "      <td>0.24</td>\n",
       "      <td>Low</td>\n",
       "    </tr>\n",
       "  </tbody>\n",
       "</table>\n",
       "</div>"
      ],
      "text/plain": [
       "    STG   SCG   STR   LPR   PEG       UNS\n",
       "0  0.00  0.00  0.00  0.00  0.00  very_low\n",
       "1  0.08  0.08  0.10  0.24  0.90      High\n",
       "2  0.06  0.06  0.05  0.25  0.33       Low\n",
       "3  0.10  0.10  0.15  0.65  0.30    Middle\n",
       "4  0.08  0.08  0.08  0.98  0.24       Low"
      ]
     },
     "execution_count": 18,
     "metadata": {},
     "output_type": "execute_result"
    }
   ],
   "source": [
    "import pandas\n",
    "\n",
    "df = pandas.read_excel('Data_User_Modeling.xls', sheet_name='Training_Data')\n",
    "\n",
    "df.drop(['Attribute Information:','Unnamed: 6','Unnamed: 7'], axis=1, inplace=True)\n",
    "\n",
    "#test_df = pandas.read_excel('Data_User_Modeling.xls', sheet_name='Test_Data')\n",
    "\n",
    "#train_df.head()\n",
    "\n",
    "df.head()"
   ]
  },
  {
   "cell_type": "markdown",
   "id": "92cb4df7",
   "metadata": {},
   "source": [
    "<span style=\"color:green\">Escalado de datos</span>"
   ]
  },
  {
   "cell_type": "markdown",
   "id": "2445be86",
   "metadata": {},
   "source": [
    "Separar las variables que sean de tipo numerico de las categoricas.\n",
    "\n",
    "Y con **EstandardScaler** le aplico un escaldo a esas variables numericas.\n",
    "\n",
    "Aqui sigo trabajando unicamente con el set de training que dividí en dos , para trabajar despues con la optimizacion de parametros"
   ]
  },
  {
   "cell_type": "code",
   "execution_count": 29,
   "id": "2036b5bc",
   "metadata": {},
   "outputs": [],
   "source": [
    "from sklearn.preprocessing import StandardScaler \n",
    "from sklearn.model_selection import train_test_split \n",
    "from sklearn.metrics import confusion_matrix, accuracy_score, balanced_accuracy_score\n",
    "import pandas as pd"
   ]
  },
  {
   "cell_type": "code",
   "execution_count": 30,
   "id": "87799d27",
   "metadata": {},
   "outputs": [],
   "source": [
    "\n",
    "X= df\n",
    "\n",
    "#### **NUMERICAS** ---------------> StandardScaler\n",
    "num_X_train = X.select_dtypes(include=['int','float'])"
   ]
  },
  {
   "cell_type": "code",
   "execution_count": 31,
   "id": "6da00abb",
   "metadata": {},
   "outputs": [
    {
     "data": {
      "text/html": [
       "<style>#sk-container-id-2 {color: black;background-color: white;}#sk-container-id-2 pre{padding: 0;}#sk-container-id-2 div.sk-toggleable {background-color: white;}#sk-container-id-2 label.sk-toggleable__label {cursor: pointer;display: block;width: 100%;margin-bottom: 0;padding: 0.3em;box-sizing: border-box;text-align: center;}#sk-container-id-2 label.sk-toggleable__label-arrow:before {content: \"▸\";float: left;margin-right: 0.25em;color: #696969;}#sk-container-id-2 label.sk-toggleable__label-arrow:hover:before {color: black;}#sk-container-id-2 div.sk-estimator:hover label.sk-toggleable__label-arrow:before {color: black;}#sk-container-id-2 div.sk-toggleable__content {max-height: 0;max-width: 0;overflow: hidden;text-align: left;background-color: #f0f8ff;}#sk-container-id-2 div.sk-toggleable__content pre {margin: 0.2em;color: black;border-radius: 0.25em;background-color: #f0f8ff;}#sk-container-id-2 input.sk-toggleable__control:checked~div.sk-toggleable__content {max-height: 200px;max-width: 100%;overflow: auto;}#sk-container-id-2 input.sk-toggleable__control:checked~label.sk-toggleable__label-arrow:before {content: \"▾\";}#sk-container-id-2 div.sk-estimator input.sk-toggleable__control:checked~label.sk-toggleable__label {background-color: #d4ebff;}#sk-container-id-2 div.sk-label input.sk-toggleable__control:checked~label.sk-toggleable__label {background-color: #d4ebff;}#sk-container-id-2 input.sk-hidden--visually {border: 0;clip: rect(1px 1px 1px 1px);clip: rect(1px, 1px, 1px, 1px);height: 1px;margin: -1px;overflow: hidden;padding: 0;position: absolute;width: 1px;}#sk-container-id-2 div.sk-estimator {font-family: monospace;background-color: #f0f8ff;border: 1px dotted black;border-radius: 0.25em;box-sizing: border-box;margin-bottom: 0.5em;}#sk-container-id-2 div.sk-estimator:hover {background-color: #d4ebff;}#sk-container-id-2 div.sk-parallel-item::after {content: \"\";width: 100%;border-bottom: 1px solid gray;flex-grow: 1;}#sk-container-id-2 div.sk-label:hover label.sk-toggleable__label {background-color: #d4ebff;}#sk-container-id-2 div.sk-serial::before {content: \"\";position: absolute;border-left: 1px solid gray;box-sizing: border-box;top: 0;bottom: 0;left: 50%;z-index: 0;}#sk-container-id-2 div.sk-serial {display: flex;flex-direction: column;align-items: center;background-color: white;padding-right: 0.2em;padding-left: 0.2em;position: relative;}#sk-container-id-2 div.sk-item {position: relative;z-index: 1;}#sk-container-id-2 div.sk-parallel {display: flex;align-items: stretch;justify-content: center;background-color: white;position: relative;}#sk-container-id-2 div.sk-item::before, #sk-container-id-2 div.sk-parallel-item::before {content: \"\";position: absolute;border-left: 1px solid gray;box-sizing: border-box;top: 0;bottom: 0;left: 50%;z-index: -1;}#sk-container-id-2 div.sk-parallel-item {display: flex;flex-direction: column;z-index: 1;position: relative;background-color: white;}#sk-container-id-2 div.sk-parallel-item:first-child::after {align-self: flex-end;width: 50%;}#sk-container-id-2 div.sk-parallel-item:last-child::after {align-self: flex-start;width: 50%;}#sk-container-id-2 div.sk-parallel-item:only-child::after {width: 0;}#sk-container-id-2 div.sk-dashed-wrapped {border: 1px dashed gray;margin: 0 0.4em 0.5em 0.4em;box-sizing: border-box;padding-bottom: 0.4em;background-color: white;}#sk-container-id-2 div.sk-label label {font-family: monospace;font-weight: bold;display: inline-block;line-height: 1.2em;}#sk-container-id-2 div.sk-label-container {text-align: center;}#sk-container-id-2 div.sk-container {/* jupyter's `normalize.less` sets `[hidden] { display: none; }` but bootstrap.min.css set `[hidden] { display: none !important; }` so we also need the `!important` here to be able to override the default hidden behavior on the sphinx rendered scikit-learn.org. See: https://github.com/scikit-learn/scikit-learn/issues/21755 */display: inline-block !important;position: relative;}#sk-container-id-2 div.sk-text-repr-fallback {display: none;}</style><div id=\"sk-container-id-2\" class=\"sk-top-container\"><div class=\"sk-text-repr-fallback\"><pre>StandardScaler()</pre><b>In a Jupyter environment, please rerun this cell to show the HTML representation or trust the notebook. <br />On GitHub, the HTML representation is unable to render, please try loading this page with nbviewer.org.</b></div><div class=\"sk-container\" hidden><div class=\"sk-item\"><div class=\"sk-estimator sk-toggleable\"><input class=\"sk-toggleable__control sk-hidden--visually\" id=\"sk-estimator-id-2\" type=\"checkbox\" checked><label for=\"sk-estimator-id-2\" class=\"sk-toggleable__label sk-toggleable__label-arrow\">StandardScaler</label><div class=\"sk-toggleable__content\"><pre>StandardScaler()</pre></div></div></div></div></div>"
      ],
      "text/plain": [
       "StandardScaler()"
      ]
     },
     "execution_count": 31,
     "metadata": {},
     "output_type": "execute_result"
    }
   ],
   "source": [
    "stdScaler = StandardScaler()\n",
    "stdScaler.fit(num_X_train)"
   ]
  },
  {
   "cell_type": "code",
   "execution_count": 33,
   "id": "e025c109",
   "metadata": {},
   "outputs": [],
   "source": [
    "resc_X_train = pd.DataFrame(stdScaler.transform(num_X_train),columns=num_X_train.columns)"
   ]
  },
  {
   "cell_type": "code",
   "execution_count": 35,
   "id": "3e57e7a5",
   "metadata": {},
   "outputs": [
    {
     "data": {
      "text/html": [
       "<div>\n",
       "<style scoped>\n",
       "    .dataframe tbody tr th:only-of-type {\n",
       "        vertical-align: middle;\n",
       "    }\n",
       "\n",
       "    .dataframe tbody tr th {\n",
       "        vertical-align: top;\n",
       "    }\n",
       "\n",
       "    .dataframe thead th {\n",
       "        text-align: right;\n",
       "    }\n",
       "</style>\n",
       "<table border=\"1\" class=\"dataframe\">\n",
       "  <thead>\n",
       "    <tr style=\"text-align: right;\">\n",
       "      <th></th>\n",
       "      <th>STG</th>\n",
       "      <th>SCG</th>\n",
       "      <th>STR</th>\n",
       "      <th>LPR</th>\n",
       "      <th>PEG</th>\n",
       "    </tr>\n",
       "  </thead>\n",
       "  <tbody>\n",
       "    <tr>\n",
       "      <th>0</th>\n",
       "      <td>-1.768519</td>\n",
       "      <td>-1.681269</td>\n",
       "      <td>-1.906619</td>\n",
       "      <td>-1.747441</td>\n",
       "      <td>-1.800197</td>\n",
       "    </tr>\n",
       "    <tr>\n",
       "      <th>1</th>\n",
       "      <td>-1.387319</td>\n",
       "      <td>-1.303110</td>\n",
       "      <td>-1.499225</td>\n",
       "      <td>-0.778241</td>\n",
       "      <td>1.733152</td>\n",
       "    </tr>\n",
       "    <tr>\n",
       "      <th>2</th>\n",
       "      <td>-1.482619</td>\n",
       "      <td>-1.397650</td>\n",
       "      <td>-1.702922</td>\n",
       "      <td>-0.737857</td>\n",
       "      <td>-0.504636</td>\n",
       "    </tr>\n",
       "    <tr>\n",
       "      <th>3</th>\n",
       "      <td>-1.292019</td>\n",
       "      <td>-1.208570</td>\n",
       "      <td>-1.295528</td>\n",
       "      <td>0.877477</td>\n",
       "      <td>-0.622414</td>\n",
       "    </tr>\n",
       "    <tr>\n",
       "      <th>4</th>\n",
       "      <td>-1.387319</td>\n",
       "      <td>-1.303110</td>\n",
       "      <td>-1.580704</td>\n",
       "      <td>2.210128</td>\n",
       "      <td>-0.857971</td>\n",
       "    </tr>\n",
       "  </tbody>\n",
       "</table>\n",
       "</div>"
      ],
      "text/plain": [
       "        STG       SCG       STR       LPR       PEG\n",
       "0 -1.768519 -1.681269 -1.906619 -1.747441 -1.800197\n",
       "1 -1.387319 -1.303110 -1.499225 -0.778241  1.733152\n",
       "2 -1.482619 -1.397650 -1.702922 -0.737857 -0.504636\n",
       "3 -1.292019 -1.208570 -1.295528  0.877477 -0.622414\n",
       "4 -1.387319 -1.303110 -1.580704  2.210128 -0.857971"
      ]
     },
     "execution_count": 35,
     "metadata": {},
     "output_type": "execute_result"
    }
   ],
   "source": [
    "resc_X_train.head()"
   ]
  },
  {
   "cell_type": "markdown",
   "id": "4eb7ddd5",
   "metadata": {},
   "source": [
    "**OneHotEncoder** para las variables categoricas"
   ]
  },
  {
   "cell_type": "code",
   "execution_count": 39,
   "id": "cc89c6bf",
   "metadata": {},
   "outputs": [
    {
     "data": {
      "text/html": [
       "<div>\n",
       "<style scoped>\n",
       "    .dataframe tbody tr th:only-of-type {\n",
       "        vertical-align: middle;\n",
       "    }\n",
       "\n",
       "    .dataframe tbody tr th {\n",
       "        vertical-align: top;\n",
       "    }\n",
       "\n",
       "    .dataframe thead th {\n",
       "        text-align: right;\n",
       "    }\n",
       "</style>\n",
       "<table border=\"1\" class=\"dataframe\">\n",
       "  <thead>\n",
       "    <tr style=\"text-align: right;\">\n",
       "      <th></th>\n",
       "      <th>STG</th>\n",
       "      <th>SCG</th>\n",
       "      <th>STR</th>\n",
       "      <th>LPR</th>\n",
       "      <th>PEG</th>\n",
       "      <th>UNS_High</th>\n",
       "      <th>UNS_Low</th>\n",
       "      <th>UNS_Middle</th>\n",
       "      <th>UNS_very_low</th>\n",
       "    </tr>\n",
       "  </thead>\n",
       "  <tbody>\n",
       "    <tr>\n",
       "      <th>0</th>\n",
       "      <td>-1.768519</td>\n",
       "      <td>-1.681269</td>\n",
       "      <td>-1.906619</td>\n",
       "      <td>-1.747441</td>\n",
       "      <td>-1.800197</td>\n",
       "      <td>0.0</td>\n",
       "      <td>0.0</td>\n",
       "      <td>0.0</td>\n",
       "      <td>1.0</td>\n",
       "    </tr>\n",
       "    <tr>\n",
       "      <th>1</th>\n",
       "      <td>-1.387319</td>\n",
       "      <td>-1.303110</td>\n",
       "      <td>-1.499225</td>\n",
       "      <td>-0.778241</td>\n",
       "      <td>1.733152</td>\n",
       "      <td>1.0</td>\n",
       "      <td>0.0</td>\n",
       "      <td>0.0</td>\n",
       "      <td>0.0</td>\n",
       "    </tr>\n",
       "    <tr>\n",
       "      <th>2</th>\n",
       "      <td>-1.482619</td>\n",
       "      <td>-1.397650</td>\n",
       "      <td>-1.702922</td>\n",
       "      <td>-0.737857</td>\n",
       "      <td>-0.504636</td>\n",
       "      <td>0.0</td>\n",
       "      <td>1.0</td>\n",
       "      <td>0.0</td>\n",
       "      <td>0.0</td>\n",
       "    </tr>\n",
       "    <tr>\n",
       "      <th>3</th>\n",
       "      <td>-1.292019</td>\n",
       "      <td>-1.208570</td>\n",
       "      <td>-1.295528</td>\n",
       "      <td>0.877477</td>\n",
       "      <td>-0.622414</td>\n",
       "      <td>0.0</td>\n",
       "      <td>0.0</td>\n",
       "      <td>1.0</td>\n",
       "      <td>0.0</td>\n",
       "    </tr>\n",
       "    <tr>\n",
       "      <th>4</th>\n",
       "      <td>-1.387319</td>\n",
       "      <td>-1.303110</td>\n",
       "      <td>-1.580704</td>\n",
       "      <td>2.210128</td>\n",
       "      <td>-0.857971</td>\n",
       "      <td>0.0</td>\n",
       "      <td>1.0</td>\n",
       "      <td>0.0</td>\n",
       "      <td>0.0</td>\n",
       "    </tr>\n",
       "  </tbody>\n",
       "</table>\n",
       "</div>"
      ],
      "text/plain": [
       "        STG       SCG       STR       LPR       PEG   UNS_High   UNS_Low  \\\n",
       "0 -1.768519 -1.681269 -1.906619 -1.747441 -1.800197        0.0       0.0   \n",
       "1 -1.387319 -1.303110 -1.499225 -0.778241  1.733152        1.0       0.0   \n",
       "2 -1.482619 -1.397650 -1.702922 -0.737857 -0.504636        0.0       1.0   \n",
       "3 -1.292019 -1.208570 -1.295528  0.877477 -0.622414        0.0       0.0   \n",
       "4 -1.387319 -1.303110 -1.580704  2.210128 -0.857971        0.0       1.0   \n",
       "\n",
       "    UNS_Middle   UNS_very_low  \n",
       "0          0.0            1.0  \n",
       "1          0.0            0.0  \n",
       "2          0.0            0.0  \n",
       "3          1.0            0.0  \n",
       "4          0.0            0.0  "
      ]
     },
     "execution_count": 39,
     "metadata": {},
     "output_type": "execute_result"
    }
   ],
   "source": [
    "from sklearn.preprocessing import OneHotEncoder\n",
    "\n",
    "#La funcion **.select_dtypes()** devuelve un dataframe\n",
    "cat_X_train = X.select_dtypes(include=['object'])\n",
    "\n",
    "ohe = OneHotEncoder(drop = 'if_binary')\n",
    "ohe.fit(cat_X_train)\n",
    "\n",
    "resc_X_train[ohe.get_feature_names_out()] = ohe.transform(cat_X_train).toarray()\n"
   ]
  },
  {
   "cell_type": "markdown",
   "id": "3d774373",
   "metadata": {},
   "source": [
    "<h1><span style=\"color:blue\"> Carga el conjunto de datos y considera solo las variables\n",
    "independientes.  </span></h1>"
   ]
  },
  {
   "cell_type": "markdown",
   "id": "a7e30510",
   "metadata": {},
   "source": [
    "Como ya realicé un re-escalado de los datos ya puedo utilizar todo el dataset."
   ]
  },
  {
   "cell_type": "code",
   "execution_count": 40,
   "id": "76a8d9ec",
   "metadata": {},
   "outputs": [
    {
     "data": {
      "text/html": [
       "<div>\n",
       "<style scoped>\n",
       "    .dataframe tbody tr th:only-of-type {\n",
       "        vertical-align: middle;\n",
       "    }\n",
       "\n",
       "    .dataframe tbody tr th {\n",
       "        vertical-align: top;\n",
       "    }\n",
       "\n",
       "    .dataframe thead th {\n",
       "        text-align: right;\n",
       "    }\n",
       "</style>\n",
       "<table border=\"1\" class=\"dataframe\">\n",
       "  <thead>\n",
       "    <tr style=\"text-align: right;\">\n",
       "      <th></th>\n",
       "      <th>STG</th>\n",
       "      <th>SCG</th>\n",
       "      <th>STR</th>\n",
       "      <th>LPR</th>\n",
       "      <th>PEG</th>\n",
       "      <th>UNS_High</th>\n",
       "      <th>UNS_Low</th>\n",
       "      <th>UNS_Middle</th>\n",
       "      <th>UNS_very_low</th>\n",
       "    </tr>\n",
       "  </thead>\n",
       "  <tbody>\n",
       "    <tr>\n",
       "      <th>0</th>\n",
       "      <td>-1.768519</td>\n",
       "      <td>-1.681269</td>\n",
       "      <td>-1.906619</td>\n",
       "      <td>-1.747441</td>\n",
       "      <td>-1.800197</td>\n",
       "      <td>0.0</td>\n",
       "      <td>0.0</td>\n",
       "      <td>0.0</td>\n",
       "      <td>1.0</td>\n",
       "    </tr>\n",
       "    <tr>\n",
       "      <th>1</th>\n",
       "      <td>-1.387319</td>\n",
       "      <td>-1.303110</td>\n",
       "      <td>-1.499225</td>\n",
       "      <td>-0.778241</td>\n",
       "      <td>1.733152</td>\n",
       "      <td>1.0</td>\n",
       "      <td>0.0</td>\n",
       "      <td>0.0</td>\n",
       "      <td>0.0</td>\n",
       "    </tr>\n",
       "    <tr>\n",
       "      <th>2</th>\n",
       "      <td>-1.482619</td>\n",
       "      <td>-1.397650</td>\n",
       "      <td>-1.702922</td>\n",
       "      <td>-0.737857</td>\n",
       "      <td>-0.504636</td>\n",
       "      <td>0.0</td>\n",
       "      <td>1.0</td>\n",
       "      <td>0.0</td>\n",
       "      <td>0.0</td>\n",
       "    </tr>\n",
       "    <tr>\n",
       "      <th>3</th>\n",
       "      <td>-1.292019</td>\n",
       "      <td>-1.208570</td>\n",
       "      <td>-1.295528</td>\n",
       "      <td>0.877477</td>\n",
       "      <td>-0.622414</td>\n",
       "      <td>0.0</td>\n",
       "      <td>0.0</td>\n",
       "      <td>1.0</td>\n",
       "      <td>0.0</td>\n",
       "    </tr>\n",
       "    <tr>\n",
       "      <th>4</th>\n",
       "      <td>-1.387319</td>\n",
       "      <td>-1.303110</td>\n",
       "      <td>-1.580704</td>\n",
       "      <td>2.210128</td>\n",
       "      <td>-0.857971</td>\n",
       "      <td>0.0</td>\n",
       "      <td>1.0</td>\n",
       "      <td>0.0</td>\n",
       "      <td>0.0</td>\n",
       "    </tr>\n",
       "  </tbody>\n",
       "</table>\n",
       "</div>"
      ],
      "text/plain": [
       "        STG       SCG       STR       LPR       PEG   UNS_High   UNS_Low  \\\n",
       "0 -1.768519 -1.681269 -1.906619 -1.747441 -1.800197        0.0       0.0   \n",
       "1 -1.387319 -1.303110 -1.499225 -0.778241  1.733152        1.0       0.0   \n",
       "2 -1.482619 -1.397650 -1.702922 -0.737857 -0.504636        0.0       1.0   \n",
       "3 -1.292019 -1.208570 -1.295528  0.877477 -0.622414        0.0       0.0   \n",
       "4 -1.387319 -1.303110 -1.580704  2.210128 -0.857971        0.0       1.0   \n",
       "\n",
       "    UNS_Middle   UNS_very_low  \n",
       "0          0.0            1.0  \n",
       "1          0.0            0.0  \n",
       "2          0.0            0.0  \n",
       "3          1.0            0.0  \n",
       "4          0.0            0.0  "
      ]
     },
     "execution_count": 40,
     "metadata": {},
     "output_type": "execute_result"
    }
   ],
   "source": [
    "# Estes es el dataset final con el que trabajo\n",
    "resc_X_train.head()"
   ]
  },
  {
   "cell_type": "code",
   "execution_count": 20,
   "id": "978369ea",
   "metadata": {},
   "outputs": [],
   "source": [
    "#df.drop(' UNS', axis=1, inplace=True)\n",
    "#df.head()"
   ]
  },
  {
   "cell_type": "markdown",
   "id": "251580c3",
   "metadata": {},
   "source": [
    "<h1><span style=\"color:blue\"> Realiza un estudio con los modelos no supervisados estudiados en el\n",
    "que consideres tantos grupos como clases haya en el conjunto.  </span></h1>"
   ]
  },
  {
   "cell_type": "code",
   "execution_count": null,
   "id": "af8bc65a",
   "metadata": {},
   "outputs": [],
   "source": []
  },
  {
   "cell_type": "markdown",
   "id": "20cba670",
   "metadata": {},
   "source": [
    "<h1><span style=\"color:blue\">  4. Responde a las siguientes preguntas de modo justificado: </span></h1>\n",
    "    \n",
    "1. ¿El número de clústeres sería el adecuado con los datos\n",
    "disponibles? Utiliza la regla del codo para justificar la respuesta.\n",
    "\n",
    "2. ¿Se corresponden los clústeres en los que han sido incluidos los\n",
    "patrones con las clases a la que realmente pertenecen? Utiliza\n",
    "un PCA para justificar gráficamente la respuesta."
   ]
  },
  {
   "cell_type": "code",
   "execution_count": null,
   "id": "a8a93824",
   "metadata": {},
   "outputs": [],
   "source": []
  },
  {
   "cell_type": "code",
   "execution_count": null,
   "id": "5db12ba8",
   "metadata": {},
   "outputs": [],
   "source": [
    "<h1><span style=\"color:blue\">  </span></h1>"
   ]
  },
  {
   "cell_type": "code",
   "execution_count": null,
   "id": "07d9e3db",
   "metadata": {},
   "outputs": [],
   "source": []
  },
  {
   "cell_type": "code",
   "execution_count": null,
   "id": "5c681a58",
   "metadata": {},
   "outputs": [],
   "source": [
    "<h1><span style=\"color:blue\">  </span></h1>"
   ]
  }
 ],
 "metadata": {
  "kernelspec": {
   "display_name": "Python 3 (ipykernel)",
   "language": "python",
   "name": "python3"
  },
  "language_info": {
   "codemirror_mode": {
    "name": "ipython",
    "version": 3
   },
   "file_extension": ".py",
   "mimetype": "text/x-python",
   "name": "python",
   "nbconvert_exporter": "python",
   "pygments_lexer": "ipython3",
   "version": "3.8.5"
  }
 },
 "nbformat": 4,
 "nbformat_minor": 5
}
