{
 "cells": [
  {
   "cell_type": "markdown",
   "id": "81334c7c",
   "metadata": {},
   "source": [
    "<h1><span style=\"color:blue\"> Descarga el conjunto de datos User Knowledge Modeling del\n",
    "repositorio UCI Machine Learning. Se trata de un conjunto de datos en\n",
    "el que las instancias están etiquetadas. </span></h1>"
   ]
  },
  {
   "cell_type": "code",
   "execution_count": null,
   "id": "800be76c",
   "metadata": {},
   "outputs": [],
   "source": []
  },
  {
   "cell_type": "markdown",
   "id": "3d774373",
   "metadata": {},
   "source": [
    "<h1><span style=\"color:blue\"> Carga el conjunto de datos y considera solo las variables\n",
    "independientes.  </span></h1>"
   ]
  },
  {
   "cell_type": "code",
   "execution_count": null,
   "id": "978369ea",
   "metadata": {},
   "outputs": [],
   "source": []
  },
  {
   "cell_type": "markdown",
   "id": "251580c3",
   "metadata": {},
   "source": [
    "<h1><span style=\"color:blue\"> Realiza un estudio con los modelos no supervisados estudiados en el\n",
    "que consideres tantos grupos como clases haya en el conjunto.  </span></h1>"
   ]
  },
  {
   "cell_type": "code",
   "execution_count": null,
   "id": "af8bc65a",
   "metadata": {},
   "outputs": [],
   "source": []
  },
  {
   "cell_type": "markdown",
   "id": "20cba670",
   "metadata": {},
   "source": [
    "<h1><span style=\"color:blue\">  4. Responde a las siguientes preguntas de modo justificado: </span></h1>\n",
    "    \n",
    "1. ¿El número de clústeres sería el adecuado con los datos\n",
    "disponibles? Utiliza la regla del codo para justificar la respuesta.\n",
    "\n",
    "2. ¿Se corresponden los clústeres en los que han sido incluidos los\n",
    "patrones con las clases a la que realmente pertenecen? Utiliza\n",
    "un PCA para justificar gráficamente la respuesta."
   ]
  },
  {
   "cell_type": "code",
   "execution_count": null,
   "id": "a8a93824",
   "metadata": {},
   "outputs": [],
   "source": []
  },
  {
   "cell_type": "code",
   "execution_count": null,
   "id": "5db12ba8",
   "metadata": {},
   "outputs": [],
   "source": [
    "<h1><span style=\"color:blue\">  </span></h1>"
   ]
  },
  {
   "cell_type": "code",
   "execution_count": null,
   "id": "07d9e3db",
   "metadata": {},
   "outputs": [],
   "source": []
  },
  {
   "cell_type": "code",
   "execution_count": null,
   "id": "5c681a58",
   "metadata": {},
   "outputs": [],
   "source": [
    "<h1><span style=\"color:blue\">  </span></h1>"
   ]
  }
 ],
 "metadata": {
  "kernelspec": {
   "display_name": "Python 3 (ipykernel)",
   "language": "python",
   "name": "python3"
  },
  "language_info": {
   "codemirror_mode": {
    "name": "ipython",
    "version": 3
   },
   "file_extension": ".py",
   "mimetype": "text/x-python",
   "name": "python",
   "nbconvert_exporter": "python",
   "pygments_lexer": "ipython3",
   "version": "3.8.5"
  }
 },
 "nbformat": 4,
 "nbformat_minor": 5
}
