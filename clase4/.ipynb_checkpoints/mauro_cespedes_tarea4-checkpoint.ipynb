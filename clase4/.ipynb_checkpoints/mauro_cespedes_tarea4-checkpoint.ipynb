{
 "cells": [
  {
   "cell_type": "markdown",
   "id": "6bb1d640",
   "metadata": {},
   "source": [
    "\n",
    "<h2><span style=\"color:blue\">1. Busca y descarga el conjunto de datos “Chess” del repositorio UCI\n",
    "Machine Learning.</span></h2>"
   ]
  },
  {
   "cell_type": "code",
   "execution_count": 1,
   "id": "e5ad22ef",
   "metadata": {},
   "outputs": [],
   "source": [
    "import pandas as pd\n",
    "\n",
    "file = 'krkopt.data'\n",
    "col_names = ['King-W col','King-W row','Rook-W col','Rook-W row','King-B col','King-B row','result']"
   ]
  },
  {
   "cell_type": "markdown",
   "id": "cb3410ab",
   "metadata": {},
   "source": [
    "\n",
    "<h2><span style=\"color:blue\">2. Cárgalo adecuadamente en un Pandas DataFrame.</span></h2>"
   ]
  },
  {
   "cell_type": "code",
   "execution_count": 2,
   "id": "92b7d871",
   "metadata": {},
   "outputs": [
    {
     "data": {
      "text/plain": [
       "King-W col    object\n",
       "King-W row     int64\n",
       "Rook-W col    object\n",
       "Rook-W row     int64\n",
       "King-B col    object\n",
       "King-B row     int64\n",
       "result        object\n",
       "dtype: object"
      ]
     },
     "execution_count": 2,
     "metadata": {},
     "output_type": "execute_result"
    }
   ],
   "source": [
    "df = pd.read_csv(file, names = col_names)\n",
    "df.dtypes"
   ]
  },
  {
   "cell_type": "code",
   "execution_count": 3,
   "id": "9aa1c3e8",
   "metadata": {},
   "outputs": [
    {
     "data": {
      "text/plain": [
       "(28056, 7)"
      ]
     },
     "execution_count": 3,
     "metadata": {},
     "output_type": "execute_result"
    }
   ],
   "source": [
    "df.shape"
   ]
  },
  {
   "cell_type": "code",
   "execution_count": 4,
   "id": "a6c20c9d",
   "metadata": {},
   "outputs": [
    {
     "data": {
      "text/html": [
       "<div>\n",
       "<style scoped>\n",
       "    .dataframe tbody tr th:only-of-type {\n",
       "        vertical-align: middle;\n",
       "    }\n",
       "\n",
       "    .dataframe tbody tr th {\n",
       "        vertical-align: top;\n",
       "    }\n",
       "\n",
       "    .dataframe thead th {\n",
       "        text-align: right;\n",
       "    }\n",
       "</style>\n",
       "<table border=\"1\" class=\"dataframe\">\n",
       "  <thead>\n",
       "    <tr style=\"text-align: right;\">\n",
       "      <th></th>\n",
       "      <th>King-W col</th>\n",
       "      <th>King-W row</th>\n",
       "      <th>Rook-W col</th>\n",
       "      <th>Rook-W row</th>\n",
       "      <th>King-B col</th>\n",
       "      <th>King-B row</th>\n",
       "      <th>result</th>\n",
       "    </tr>\n",
       "  </thead>\n",
       "  <tbody>\n",
       "    <tr>\n",
       "      <th>0</th>\n",
       "      <td>a</td>\n",
       "      <td>1</td>\n",
       "      <td>b</td>\n",
       "      <td>3</td>\n",
       "      <td>c</td>\n",
       "      <td>2</td>\n",
       "      <td>draw</td>\n",
       "    </tr>\n",
       "    <tr>\n",
       "      <th>1</th>\n",
       "      <td>a</td>\n",
       "      <td>1</td>\n",
       "      <td>c</td>\n",
       "      <td>1</td>\n",
       "      <td>c</td>\n",
       "      <td>2</td>\n",
       "      <td>draw</td>\n",
       "    </tr>\n",
       "    <tr>\n",
       "      <th>2</th>\n",
       "      <td>a</td>\n",
       "      <td>1</td>\n",
       "      <td>c</td>\n",
       "      <td>1</td>\n",
       "      <td>d</td>\n",
       "      <td>1</td>\n",
       "      <td>draw</td>\n",
       "    </tr>\n",
       "    <tr>\n",
       "      <th>3</th>\n",
       "      <td>a</td>\n",
       "      <td>1</td>\n",
       "      <td>c</td>\n",
       "      <td>1</td>\n",
       "      <td>d</td>\n",
       "      <td>2</td>\n",
       "      <td>draw</td>\n",
       "    </tr>\n",
       "    <tr>\n",
       "      <th>4</th>\n",
       "      <td>a</td>\n",
       "      <td>1</td>\n",
       "      <td>c</td>\n",
       "      <td>2</td>\n",
       "      <td>c</td>\n",
       "      <td>1</td>\n",
       "      <td>draw</td>\n",
       "    </tr>\n",
       "  </tbody>\n",
       "</table>\n",
       "</div>"
      ],
      "text/plain": [
       "  King-W col  King-W row Rook-W col  Rook-W row King-B col  King-B row result\n",
       "0          a           1          b           3          c           2   draw\n",
       "1          a           1          c           1          c           2   draw\n",
       "2          a           1          c           1          d           1   draw\n",
       "3          a           1          c           1          d           2   draw\n",
       "4          a           1          c           2          c           1   draw"
      ]
     },
     "execution_count": 4,
     "metadata": {},
     "output_type": "execute_result"
    }
   ],
   "source": [
    "df.head()"
   ]
  },
  {
   "cell_type": "code",
   "execution_count": 5,
   "id": "d756337f",
   "metadata": {},
   "outputs": [
    {
     "name": "stdout",
     "output_type": "stream",
     "text": [
      "result\n",
      "draw        2796\n",
      "eight       1433\n",
      "eleven      2854\n",
      "fifteen     2166\n",
      "five         471\n",
      "four         198\n",
      "fourteen    4553\n",
      "nine        1712\n",
      "one           78\n",
      "seven        683\n",
      "six          592\n",
      "sixteen      390\n",
      "ten         1985\n",
      "thirteen    4194\n",
      "three         81\n",
      "twelve      3597\n",
      "two          246\n",
      "zero          27\n",
      "dtype: int64\n"
     ]
    }
   ],
   "source": [
    "# Identificar desequilibrio de clases\n",
    "class_distribution = df.groupby('result').size()\n",
    "print(class_distribution)"
   ]
  },
  {
   "cell_type": "code",
   "execution_count": 6,
   "id": "13577362",
   "metadata": {},
   "outputs": [
    {
     "data": {
      "text/plain": [
       "array([[<AxesSubplot: ylabel='Density'>, <AxesSubplot: ylabel='Density'>,\n",
       "        <AxesSubplot: ylabel='Density'>],\n",
       "       [<AxesSubplot: ylabel='Density'>, <AxesSubplot: ylabel='Density'>,\n",
       "        <AxesSubplot: ylabel='Density'>],\n",
       "       [<AxesSubplot: ylabel='Density'>, <AxesSubplot: ylabel='Density'>,\n",
       "        <AxesSubplot: ylabel='Density'>]], dtype=object)"
      ]
     },
     "execution_count": 6,
     "metadata": {},
     "output_type": "execute_result"
    },
    {
     "data": {
      "image/png": "[encoded data removed]",
      "text/plain": [
       "<Figure size 640x480 with 9 Axes>"
      ]
     },
     "metadata": {},
     "output_type": "display_data"
    }
   ],
   "source": [
    "df.plot(kind='density', subplots=True, layout=(3,3), sharex=False)"
   ]
  },
  {
   "cell_type": "markdown",
   "id": "54e5d3ed",
   "metadata": {},
   "source": [
    "\n",
    "<h2><span style=\"color:blue\">3. Transforma las variables, que son todas categóricas, en numéricas.</span></h2>"
   ]
  },
  {
   "cell_type": "markdown",
   "id": "4813230b",
   "metadata": {},
   "source": [
    "Se va a utilizar **OneHotENcoder**"
   ]
  },
  {
   "cell_type": "code",
   "execution_count": 7,
   "id": "1a7e84b9",
   "metadata": {},
   "outputs": [],
   "source": [
    "from pandas import read_csv \n",
    "import matplotlib.pyplot as plt\n",
    "import numpy as np\n",
    "import pandas as pd\n",
    "import random, time, numpy\n",
    "\n",
    "from sklearn.model_selection import train_test_split\n",
    "from sklearn.metrics import mean_squared_error\n",
    "from sklearn.preprocessing import StandardScaler\n",
    "from sklearn.preprocessing import OneHotEncoder\n",
    "from sklearn import svm \n",
    "\n",
    "SVC = svm.SVC()\n",
    "seed = random.seed(time.time())"
   ]
  },
  {
   "cell_type": "markdown",
   "id": "b3ede996",
   "metadata": {},
   "source": [
    "Se asignan los **INPUTS** a una variable para que sea **X**\n",
    "\n",
    "También, se rellenan los valores nulos con un 0"
   ]
  },
  {
   "cell_type": "code",
   "execution_count": 8,
   "id": "b71e0a5b",
   "metadata": {},
   "outputs": [],
   "source": [
    "input_data = df[df.columns[:-1]]\n",
    "input_data= input_data.fillna(0)\n"
   ]
  },
  {
   "cell_type": "markdown",
   "id": "c53e116a",
   "metadata": {},
   "source": [
    "### Primero\n",
    "\n",
    "Divido los datos entre los inputs y el output"
   ]
  },
  {
   "cell_type": "code",
   "execution_count": 9,
   "id": "e8def3e5",
   "metadata": {},
   "outputs": [],
   "source": [
    "X = input_data\n",
    "\n",
    "# Scaler ya detecta la variable y sabe que es un problema de clasificacion\n",
    "# Nunca se transforma la variable de salida\n",
    "Y = df['result']"
   ]
  },
  {
   "cell_type": "markdown",
   "id": "5cb44ab3",
   "metadata": {},
   "source": [
    "### Segundo\n",
    "\n",
    "Divido con la funcion **train_test_split**\n",
    "\n",
    "Le paso todo el conjunto de datos\n",
    "\n",
    "Esto me divide en 70% para entrenamiento y 30% para test"
   ]
  },
  {
   "cell_type": "code",
   "execution_count": 10,
   "id": "39005bf5",
   "metadata": {},
   "outputs": [],
   "source": [
    "X_train, X_test, y_train, y_test = train_test_split(X, Y, test_size = 0.3, random_state=seed)"
   ]
  },
  {
   "cell_type": "markdown",
   "id": "299dbbdb",
   "metadata": {},
   "source": [
    "### Variables de tipo numerico\n",
    "\n",
    "Dentro del conjunto de entrenamiento selecciono las variables que sean de tipo numerico\n",
    "\n",
    "No van a necesitar ningun atransformacion con ONE HOT ENCODER"
   ]
  },
  {
   "cell_type": "code",
   "execution_count": 11,
   "id": "5058f6a7",
   "metadata": {},
   "outputs": [],
   "source": [
    "num_X_train = X_train.select_dtypes(include=['int','float'])\n",
    "num_X_test = X_test.select_dtypes(include=['int','float'])"
   ]
  },
  {
   "cell_type": "markdown",
   "id": "9aee0e91",
   "metadata": {},
   "source": [
    "#### Standar Scaler"
   ]
  },
  {
   "cell_type": "code",
   "execution_count": 12,
   "id": "a1a59f1f",
   "metadata": {},
   "outputs": [
    {
     "data": {
      "text/html": [
       "<style>#sk-container-id-1 {color: black;background-color: white;}#sk-container-id-1 pre{padding: 0;}#sk-container-id-1 div.sk-toggleable {background-color: white;}#sk-container-id-1 label.sk-toggleable__label {cursor: pointer;display: block;width: 100%;margin-bottom: 0;padding: 0.3em;box-sizing: border-box;text-align: center;}#sk-container-id-1 label.sk-toggleable__label-arrow:before {content: \"▸\";float: left;margin-right: 0.25em;color: #696969;}#sk-container-id-1 label.sk-toggleable__label-arrow:hover:before {color: black;}#sk-container-id-1 div.sk-estimator:hover label.sk-toggleable__label-arrow:before {color: black;}#sk-container-id-1 div.sk-toggleable__content {max-height: 0;max-width: 0;overflow: hidden;text-align: left;background-color: #f0f8ff;}#sk-container-id-1 div.sk-toggleable__content pre {margin: 0.2em;color: black;border-radius: 0.25em;background-color: #f0f8ff;}#sk-container-id-1 input.sk-toggleable__control:checked~div.sk-toggleable__content {max-height: 200px;max-width: 100%;overflow: auto;}#sk-container-id-1 input.sk-toggleable__control:checked~label.sk-toggleable__label-arrow:before {content: \"▾\";}#sk-container-id-1 div.sk-estimator input.sk-toggleable__control:checked~label.sk-toggleable__label {background-color: #d4ebff;}#sk-container-id-1 div.sk-label input.sk-toggleable__control:checked~label.sk-toggleable__label {background-color: #d4ebff;}#sk-container-id-1 input.sk-hidden--visually {border: 0;clip: rect(1px 1px 1px 1px);clip: rect(1px, 1px, 1px, 1px);height: 1px;margin: -1px;overflow: hidden;padding: 0;position: absolute;width: 1px;}#sk-container-id-1 div.sk-estimator {font-family: monospace;background-color: #f0f8ff;border: 1px dotted black;border-radius: 0.25em;box-sizing: border-box;margin-bottom: 0.5em;}#sk-container-id-1 div.sk-estimator:hover {background-color: #d4ebff;}#sk-container-id-1 div.sk-parallel-item::after {content: \"\";width: 100%;border-bottom: 1px solid gray;flex-grow: 1;}#sk-container-id-1 div.sk-label:hover label.sk-toggleable__label {background-color: #d4ebff;}#sk-container-id-1 div.sk-serial::before {content: \"\";position: absolute;border-left: 1px solid gray;box-sizing: border-box;top: 0;bottom: 0;left: 50%;z-index: 0;}#sk-container-id-1 div.sk-serial {display: flex;flex-direction: column;align-items: center;background-color: white;padding-right: 0.2em;padding-left: 0.2em;position: relative;}#sk-container-id-1 div.sk-item {position: relative;z-index: 1;}#sk-container-id-1 div.sk-parallel {display: flex;align-items: stretch;justify-content: center;background-color: white;position: relative;}#sk-container-id-1 div.sk-item::before, #sk-container-id-1 div.sk-parallel-item::before {content: \"\";position: absolute;border-left: 1px solid gray;box-sizing: border-box;top: 0;bottom: 0;left: 50%;z-index: -1;}#sk-container-id-1 div.sk-parallel-item {display: flex;flex-direction: column;z-index: 1;position: relative;background-color: white;}#sk-container-id-1 div.sk-parallel-item:first-child::after {align-self: flex-end;width: 50%;}#sk-container-id-1 div.sk-parallel-item:last-child::after {align-self: flex-start;width: 50%;}#sk-container-id-1 div.sk-parallel-item:only-child::after {width: 0;}#sk-container-id-1 div.sk-dashed-wrapped {border: 1px dashed gray;margin: 0 0.4em 0.5em 0.4em;box-sizing: border-box;padding-bottom: 0.4em;background-color: white;}#sk-container-id-1 div.sk-label label {font-family: monospace;font-weight: bold;display: inline-block;line-height: 1.2em;}#sk-container-id-1 div.sk-label-container {text-align: center;}#sk-container-id-1 div.sk-container {/* jupyter's `normalize.less` sets `[hidden] { display: none; }` but bootstrap.min.css set `[hidden] { display: none !important; }` so we also need the `!important` here to be able to override the default hidden behavior on the sphinx rendered scikit-learn.org. See: https://github.com/scikit-learn/scikit-learn/issues/21755 */display: inline-block !important;position: relative;}#sk-container-id-1 div.sk-text-repr-fallback {display: none;}</style><div id=\"sk-container-id-1\" class=\"sk-top-container\"><div class=\"sk-text-repr-fallback\"><pre>StandardScaler()</pre><b>In a Jupyter environment, please rerun this cell to show the HTML representation or trust the notebook. <br />On GitHub, the HTML representation is unable to render, please try loading this page with nbviewer.org.</b></div><div class=\"sk-container\" hidden><div class=\"sk-item\"><div class=\"sk-estimator sk-toggleable\"><input class=\"sk-toggleable__control sk-hidden--visually\" id=\"sk-estimator-id-1\" type=\"checkbox\" checked><label for=\"sk-estimator-id-1\" class=\"sk-toggleable__label sk-toggleable__label-arrow\">StandardScaler</label><div class=\"sk-toggleable__content\"><pre>StandardScaler()</pre></div></div></div></div></div>"
      ],
      "text/plain": [
       "StandardScaler()"
      ]
     },
     "execution_count": 12,
     "metadata": {},
     "output_type": "execute_result"
    }
   ],
   "source": [
    "stdScaler = StandardScaler()\n",
    "stdScaler.fit(num_X_train)"
   ]
  },
  {
   "cell_type": "markdown",
   "id": "018e46a0",
   "metadata": {},
   "source": [
    "Variables categoricas que he generado con el conjunto de entrenamiento."
   ]
  },
  {
   "cell_type": "code",
   "execution_count": 13,
   "id": "e4dc496b",
   "metadata": {},
   "outputs": [],
   "source": [
    "resc_X_train = pd.DataFrame(stdScaler.transform(num_X_train),columns=num_X_train.columns)\n",
    "resc_X_test = pd.DataFrame(stdScaler.transform(num_X_test),columns=num_X_test.columns)"
   ]
  },
  {
   "cell_type": "markdown",
   "id": "cc6f227c",
   "metadata": {},
   "source": [
    "### Variables de tipo categorico\n",
    "\n",
    "En este caso no tengo ninguna variable de tipo numerico.\n",
    "\n",
    "La funcion **.select_dtypes()** devuelve un dataframe"
   ]
  },
  {
   "cell_type": "code",
   "execution_count": 14,
   "id": "99848032",
   "metadata": {},
   "outputs": [],
   "source": [
    "cat_X_train = X_train.select_dtypes(include=['object'])\n",
    "cat_X_test = X_test.select_dtypes(include=['object'])"
   ]
  },
  {
   "cell_type": "markdown",
   "id": "d317d3ef",
   "metadata": {},
   "source": [
    "### Instancio la clase ONEHOT ENCODER\n",
    "\n",
    "Genero un objeto para trabajar con el "
   ]
  },
  {
   "cell_type": "code",
   "execution_count": 15,
   "id": "702e8a05",
   "metadata": {},
   "outputs": [],
   "source": [
    "ohe = OneHotEncoder(drop = 'if_binary')"
   ]
  },
  {
   "cell_type": "markdown",
   "id": "ed28d085",
   "metadata": {},
   "source": [
    "Ahora entreno y genero un **modelo de transformacion** con OneHot Encoder\n",
    "\n",
    "Va a mirar en las variables catagoricas cuantas etiquetas diferentes hay, y se las va a guardar\n",
    "\n",
    "Para cada etiqueta generar una transformacion\n",
    "\n",
    "El modelo ha sido creado solamente con los datos de **entrenamiento**"
   ]
  },
  {
   "cell_type": "code",
   "execution_count": 16,
   "id": "5b46701b",
   "metadata": {},
   "outputs": [
    {
     "data": {
      "text/html": [
       "<style>#sk-container-id-2 {color: black;background-color: white;}#sk-container-id-2 pre{padding: 0;}#sk-container-id-2 div.sk-toggleable {background-color: white;}#sk-container-id-2 label.sk-toggleable__label {cursor: pointer;display: block;width: 100%;margin-bottom: 0;padding: 0.3em;box-sizing: border-box;text-align: center;}#sk-container-id-2 label.sk-toggleable__label-arrow:before {content: \"▸\";float: left;margin-right: 0.25em;color: #696969;}#sk-container-id-2 label.sk-toggleable__label-arrow:hover:before {color: black;}#sk-container-id-2 div.sk-estimator:hover label.sk-toggleable__label-arrow:before {color: black;}#sk-container-id-2 div.sk-toggleable__content {max-height: 0;max-width: 0;overflow: hidden;text-align: left;background-color: #f0f8ff;}#sk-container-id-2 div.sk-toggleable__content pre {margin: 0.2em;color: black;border-radius: 0.25em;background-color: #f0f8ff;}#sk-container-id-2 input.sk-toggleable__control:checked~div.sk-toggleable__content {max-height: 200px;max-width: 100%;overflow: auto;}#sk-container-id-2 input.sk-toggleable__control:checked~label.sk-toggleable__label-arrow:before {content: \"▾\";}#sk-container-id-2 div.sk-estimator input.sk-toggleable__control:checked~label.sk-toggleable__label {background-color: #d4ebff;}#sk-container-id-2 div.sk-label input.sk-toggleable__control:checked~label.sk-toggleable__label {background-color: #d4ebff;}#sk-container-id-2 input.sk-hidden--visually {border: 0;clip: rect(1px 1px 1px 1px);clip: rect(1px, 1px, 1px, 1px);height: 1px;margin: -1px;overflow: hidden;padding: 0;position: absolute;width: 1px;}#sk-container-id-2 div.sk-estimator {font-family: monospace;background-color: #f0f8ff;border: 1px dotted black;border-radius: 0.25em;box-sizing: border-box;margin-bottom: 0.5em;}#sk-container-id-2 div.sk-estimator:hover {background-color: #d4ebff;}#sk-container-id-2 div.sk-parallel-item::after {content: \"\";width: 100%;border-bottom: 1px solid gray;flex-grow: 1;}#sk-container-id-2 div.sk-label:hover label.sk-toggleable__label {background-color: #d4ebff;}#sk-container-id-2 div.sk-serial::before {content: \"\";position: absolute;border-left: 1px solid gray;box-sizing: border-box;top: 0;bottom: 0;left: 50%;z-index: 0;}#sk-container-id-2 div.sk-serial {display: flex;flex-direction: column;align-items: center;background-color: white;padding-right: 0.2em;padding-left: 0.2em;position: relative;}#sk-container-id-2 div.sk-item {position: relative;z-index: 1;}#sk-container-id-2 div.sk-parallel {display: flex;align-items: stretch;justify-content: center;background-color: white;position: relative;}#sk-container-id-2 div.sk-item::before, #sk-container-id-2 div.sk-parallel-item::before {content: \"\";position: absolute;border-left: 1px solid gray;box-sizing: border-box;top: 0;bottom: 0;left: 50%;z-index: -1;}#sk-container-id-2 div.sk-parallel-item {display: flex;flex-direction: column;z-index: 1;position: relative;background-color: white;}#sk-container-id-2 div.sk-parallel-item:first-child::after {align-self: flex-end;width: 50%;}#sk-container-id-2 div.sk-parallel-item:last-child::after {align-self: flex-start;width: 50%;}#sk-container-id-2 div.sk-parallel-item:only-child::after {width: 0;}#sk-container-id-2 div.sk-dashed-wrapped {border: 1px dashed gray;margin: 0 0.4em 0.5em 0.4em;box-sizing: border-box;padding-bottom: 0.4em;background-color: white;}#sk-container-id-2 div.sk-label label {font-family: monospace;font-weight: bold;display: inline-block;line-height: 1.2em;}#sk-container-id-2 div.sk-label-container {text-align: center;}#sk-container-id-2 div.sk-container {/* jupyter's `normalize.less` sets `[hidden] { display: none; }` but bootstrap.min.css set `[hidden] { display: none !important; }` so we also need the `!important` here to be able to override the default hidden behavior on the sphinx rendered scikit-learn.org. See: https://github.com/scikit-learn/scikit-learn/issues/21755 */display: inline-block !important;position: relative;}#sk-container-id-2 div.sk-text-repr-fallback {display: none;}</style><div id=\"sk-container-id-2\" class=\"sk-top-container\"><div class=\"sk-text-repr-fallback\"><pre>OneHotEncoder(drop=&#x27;if_binary&#x27;)</pre><b>In a Jupyter environment, please rerun this cell to show the HTML representation or trust the notebook. <br />On GitHub, the HTML representation is unable to render, please try loading this page with nbviewer.org.</b></div><div class=\"sk-container\" hidden><div class=\"sk-item\"><div class=\"sk-estimator sk-toggleable\"><input class=\"sk-toggleable__control sk-hidden--visually\" id=\"sk-estimator-id-2\" type=\"checkbox\" checked><label for=\"sk-estimator-id-2\" class=\"sk-toggleable__label sk-toggleable__label-arrow\">OneHotEncoder</label><div class=\"sk-toggleable__content\"><pre>OneHotEncoder(drop=&#x27;if_binary&#x27;)</pre></div></div></div></div></div>"
      ],
      "text/plain": [
       "OneHotEncoder(drop='if_binary')"
      ]
     },
     "execution_count": 16,
     "metadata": {},
     "output_type": "execute_result"
    }
   ],
   "source": [
    "ohe.fit(cat_X_train)"
   ]
  },
  {
   "cell_type": "markdown",
   "id": "3e535f29",
   "metadata": {},
   "source": [
    "### Finalmente\n"
   ]
  },
  {
   "cell_type": "markdown",
   "id": "f5f942ac",
   "metadata": {},
   "source": [
    "Ahora transformo esas variabels categoricas del conjunto de entrenamiento con el **objeto** que he creado, y que ya previmente he entrenado\n",
    "\n",
    "De esta manera genero un modelo de transformacion\n",
    "\n",
    "Es decir un nuevo dataframe con los datos ya trasformados"
   ]
  },
  {
   "cell_type": "code",
   "execution_count": 17,
   "id": "c39479be",
   "metadata": {},
   "outputs": [],
   "source": [
    "resc_X_train[ohe.get_feature_names_out()] = ohe.transform(cat_X_train).toarray()\n",
    "resc_X_test[ohe.get_feature_names_out()] = ohe.transform(cat_X_test).toarray()"
   ]
  },
  {
   "cell_type": "code",
   "execution_count": 18,
   "id": "7833bc68",
   "metadata": {},
   "outputs": [
    {
     "data": {
      "text/plain": [
       "(19639, 23)"
      ]
     },
     "execution_count": 18,
     "metadata": {},
     "output_type": "execute_result"
    }
   ],
   "source": [
    "resc_X_train.shape"
   ]
  },
  {
   "cell_type": "code",
   "execution_count": 19,
   "id": "fcce4f4b",
   "metadata": {},
   "outputs": [
    {
     "data": {
      "text/html": [
       "<div>\n",
       "<style scoped>\n",
       "    .dataframe tbody tr th:only-of-type {\n",
       "        vertical-align: middle;\n",
       "    }\n",
       "\n",
       "    .dataframe tbody tr th {\n",
       "        vertical-align: top;\n",
       "    }\n",
       "\n",
       "    .dataframe thead th {\n",
       "        text-align: right;\n",
       "    }\n",
       "</style>\n",
       "<table border=\"1\" class=\"dataframe\">\n",
       "  <thead>\n",
       "    <tr style=\"text-align: right;\">\n",
       "      <th></th>\n",
       "      <th>King-W row</th>\n",
       "      <th>Rook-W row</th>\n",
       "      <th>King-B row</th>\n",
       "      <th>King-W col_a</th>\n",
       "      <th>King-W col_b</th>\n",
       "      <th>King-W col_c</th>\n",
       "      <th>King-W col_d</th>\n",
       "      <th>Rook-W col_a</th>\n",
       "      <th>Rook-W col_b</th>\n",
       "      <th>Rook-W col_c</th>\n",
       "      <th>...</th>\n",
       "      <th>Rook-W col_g</th>\n",
       "      <th>Rook-W col_h</th>\n",
       "      <th>King-B col_a</th>\n",
       "      <th>King-B col_b</th>\n",
       "      <th>King-B col_c</th>\n",
       "      <th>King-B col_d</th>\n",
       "      <th>King-B col_e</th>\n",
       "      <th>King-B col_f</th>\n",
       "      <th>King-B col_g</th>\n",
       "      <th>King-B col_h</th>\n",
       "    </tr>\n",
       "  </thead>\n",
       "  <tbody>\n",
       "    <tr>\n",
       "      <th>0</th>\n",
       "      <td>0.162724</td>\n",
       "      <td>1.526254</td>\n",
       "      <td>1.586325</td>\n",
       "      <td>0.0</td>\n",
       "      <td>0.0</td>\n",
       "      <td>0.0</td>\n",
       "      <td>1.0</td>\n",
       "      <td>0.0</td>\n",
       "      <td>0.0</td>\n",
       "      <td>0.0</td>\n",
       "      <td>...</td>\n",
       "      <td>1.0</td>\n",
       "      <td>0.0</td>\n",
       "      <td>0.0</td>\n",
       "      <td>0.0</td>\n",
       "      <td>0.0</td>\n",
       "      <td>0.0</td>\n",
       "      <td>0.0</td>\n",
       "      <td>1.0</td>\n",
       "      <td>0.0</td>\n",
       "      <td>0.0</td>\n",
       "    </tr>\n",
       "    <tr>\n",
       "      <th>1</th>\n",
       "      <td>0.162724</td>\n",
       "      <td>-1.536435</td>\n",
       "      <td>0.694700</td>\n",
       "      <td>0.0</td>\n",
       "      <td>0.0</td>\n",
       "      <td>1.0</td>\n",
       "      <td>0.0</td>\n",
       "      <td>0.0</td>\n",
       "      <td>0.0</td>\n",
       "      <td>0.0</td>\n",
       "      <td>...</td>\n",
       "      <td>0.0</td>\n",
       "      <td>0.0</td>\n",
       "      <td>0.0</td>\n",
       "      <td>0.0</td>\n",
       "      <td>0.0</td>\n",
       "      <td>0.0</td>\n",
       "      <td>0.0</td>\n",
       "      <td>0.0</td>\n",
       "      <td>0.0</td>\n",
       "      <td>1.0</td>\n",
       "    </tr>\n",
       "    <tr>\n",
       "      <th>2</th>\n",
       "      <td>-0.919474</td>\n",
       "      <td>1.088727</td>\n",
       "      <td>-0.196926</td>\n",
       "      <td>0.0</td>\n",
       "      <td>0.0</td>\n",
       "      <td>0.0</td>\n",
       "      <td>1.0</td>\n",
       "      <td>0.0</td>\n",
       "      <td>1.0</td>\n",
       "      <td>0.0</td>\n",
       "      <td>...</td>\n",
       "      <td>0.0</td>\n",
       "      <td>0.0</td>\n",
       "      <td>0.0</td>\n",
       "      <td>0.0</td>\n",
       "      <td>0.0</td>\n",
       "      <td>1.0</td>\n",
       "      <td>0.0</td>\n",
       "      <td>0.0</td>\n",
       "      <td>0.0</td>\n",
       "      <td>0.0</td>\n",
       "    </tr>\n",
       "    <tr>\n",
       "      <th>3</th>\n",
       "      <td>-0.919474</td>\n",
       "      <td>-0.223854</td>\n",
       "      <td>-0.196926</td>\n",
       "      <td>0.0</td>\n",
       "      <td>0.0</td>\n",
       "      <td>0.0</td>\n",
       "      <td>1.0</td>\n",
       "      <td>0.0</td>\n",
       "      <td>0.0</td>\n",
       "      <td>0.0</td>\n",
       "      <td>...</td>\n",
       "      <td>0.0</td>\n",
       "      <td>0.0</td>\n",
       "      <td>0.0</td>\n",
       "      <td>1.0</td>\n",
       "      <td>0.0</td>\n",
       "      <td>0.0</td>\n",
       "      <td>0.0</td>\n",
       "      <td>0.0</td>\n",
       "      <td>0.0</td>\n",
       "      <td>0.0</td>\n",
       "    </tr>\n",
       "    <tr>\n",
       "      <th>4</th>\n",
       "      <td>0.162724</td>\n",
       "      <td>1.088727</td>\n",
       "      <td>0.694700</td>\n",
       "      <td>0.0</td>\n",
       "      <td>0.0</td>\n",
       "      <td>0.0</td>\n",
       "      <td>1.0</td>\n",
       "      <td>0.0</td>\n",
       "      <td>0.0</td>\n",
       "      <td>0.0</td>\n",
       "      <td>...</td>\n",
       "      <td>0.0</td>\n",
       "      <td>0.0</td>\n",
       "      <td>0.0</td>\n",
       "      <td>1.0</td>\n",
       "      <td>0.0</td>\n",
       "      <td>0.0</td>\n",
       "      <td>0.0</td>\n",
       "      <td>0.0</td>\n",
       "      <td>0.0</td>\n",
       "      <td>0.0</td>\n",
       "    </tr>\n",
       "  </tbody>\n",
       "</table>\n",
       "<p>5 rows × 23 columns</p>\n",
       "</div>"
      ],
      "text/plain": [
       "   King-W row  Rook-W row  King-B row  King-W col_a  King-W col_b  \\\n",
       "0    0.162724    1.526254    1.586325           0.0           0.0   \n",
       "1    0.162724   -1.536435    0.694700           0.0           0.0   \n",
       "2   -0.919474    1.088727   -0.196926           0.0           0.0   \n",
       "3   -0.919474   -0.223854   -0.196926           0.0           0.0   \n",
       "4    0.162724    1.088727    0.694700           0.0           0.0   \n",
       "\n",
       "   King-W col_c  King-W col_d  Rook-W col_a  Rook-W col_b  Rook-W col_c  ...  \\\n",
       "0           0.0           1.0           0.0           0.0           0.0  ...   \n",
       "1           1.0           0.0           0.0           0.0           0.0  ...   \n",
       "2           0.0           1.0           0.0           1.0           0.0  ...   \n",
       "3           0.0           1.0           0.0           0.0           0.0  ...   \n",
       "4           0.0           1.0           0.0           0.0           0.0  ...   \n",
       "\n",
       "   Rook-W col_g  Rook-W col_h  King-B col_a  King-B col_b  King-B col_c  \\\n",
       "0           1.0           0.0           0.0           0.0           0.0   \n",
       "1           0.0           0.0           0.0           0.0           0.0   \n",
       "2           0.0           0.0           0.0           0.0           0.0   \n",
       "3           0.0           0.0           0.0           1.0           0.0   \n",
       "4           0.0           0.0           0.0           1.0           0.0   \n",
       "\n",
       "   King-B col_d  King-B col_e  King-B col_f  King-B col_g  King-B col_h  \n",
       "0           0.0           0.0           1.0           0.0           0.0  \n",
       "1           0.0           0.0           0.0           0.0           1.0  \n",
       "2           1.0           0.0           0.0           0.0           0.0  \n",
       "3           0.0           0.0           0.0           0.0           0.0  \n",
       "4           0.0           0.0           0.0           0.0           0.0  \n",
       "\n",
       "[5 rows x 23 columns]"
      ]
     },
     "execution_count": 19,
     "metadata": {},
     "output_type": "execute_result"
    }
   ],
   "source": [
    "resc_X_train.head()"
   ]
  },
  {
   "cell_type": "markdown",
   "id": "56199ad3",
   "metadata": {},
   "source": [
    "Con esto consigo un Dataset de training con todos los valores numéricos.\n",
    "\n",
    "Sin embargo, la cantidad de columnas ha crecido."
   ]
  },
  {
   "cell_type": "code",
   "execution_count": 20,
   "id": "a315e645",
   "metadata": {},
   "outputs": [
    {
     "data": {
      "text/plain": [
       "King-W row      float64\n",
       "Rook-W row      float64\n",
       "King-B row      float64\n",
       "King-W col_a    float64\n",
       "King-W col_b    float64\n",
       "King-W col_c    float64\n",
       "King-W col_d    float64\n",
       "Rook-W col_a    float64\n",
       "Rook-W col_b    float64\n",
       "Rook-W col_c    float64\n",
       "Rook-W col_d    float64\n",
       "Rook-W col_e    float64\n",
       "Rook-W col_f    float64\n",
       "Rook-W col_g    float64\n",
       "Rook-W col_h    float64\n",
       "King-B col_a    float64\n",
       "King-B col_b    float64\n",
       "King-B col_c    float64\n",
       "King-B col_d    float64\n",
       "King-B col_e    float64\n",
       "King-B col_f    float64\n",
       "King-B col_g    float64\n",
       "King-B col_h    float64\n",
       "dtype: object"
      ]
     },
     "execution_count": 20,
     "metadata": {},
     "output_type": "execute_result"
    }
   ],
   "source": [
    "resc_X_train.dtypes"
   ]
  },
  {
   "cell_type": "markdown",
   "id": "5e923d2f",
   "metadata": {},
   "source": [
    "\n",
    "<h2><span style=\"color:blue\">4. Aplica el método Filter de selección de características SelectKBest para\n",
    "conseguir un ranking de importancia de características según los\n",
    "estadísticos pertinentes al tipo de variable de entrada y tipo de\n",
    "problema.</span></h2>"
   ]
  },
  {
   "cell_type": "markdown",
   "id": "f39c50de",
   "metadata": {},
   "source": [
    "\n",
    "<span style=\"color:red\">Hay que tener en cuenta la varaiable con la que estemos trabajando a la hora de escojer trabajar con **filter**</span>.\n",
    "\n",
    "Usualmente se aplica la variable de **Pearson**\n",
    "\n",
    "Pero si una de las variables es **categorica** es **IMPOSIBLE** aplicar **Pearson**\n",
    "\n",
    "En nuestro caso tenemos variables categoricas y numéricas, nuestro problema es de clasificacion."
   ]
  },
  {
   "cell_type": "code",
   "execution_count": 21,
   "id": "1e03eb34",
   "metadata": {},
   "outputs": [
    {
     "data": {
      "image/png": "[encoded data removed]",
      "text/plain": [
       "<IPython.core.display.Image object>"
      ]
     },
     "execution_count": 21,
     "metadata": {},
     "output_type": "execute_result"
    }
   ],
   "source": [
    "from IPython.display import Image\n",
    "Image(filename='2.PNG')"
   ]
  },
  {
   "cell_type": "markdown",
   "id": "727460e9",
   "metadata": {},
   "source": [
    "Lo que se va a hacer es comparar las variables de **entrada** con las variables de **salida** para ver cuales estan más correlacionadas y eliminar el resto\n",
    "\n",
    "Para esto hay un algoritmo en **Scaler** \n",
    "\n",
    "<span style=\"color:red\">**SelectKBest**</span>."
   ]
  },
  {
   "cell_type": "markdown",
   "id": "a2f46284",
   "metadata": {},
   "source": [
    "Tenemos que hacer un estudio de estadistica descriptiva para ver la **correlacion** entre variables.\n",
    "\n",
    "Queremos eliminar las variables que estén fuertemente correladas entre sí y **NO** con la variable de salida\n",
    "\n",
    "Esto tambén se vio en la clase 2\n",
    "\n"
   ]
  },
  {
   "cell_type": "markdown",
   "id": "63bd8529",
   "metadata": {},
   "source": [
    "<span style=\"color:blue\">**f_classif**</span> es igual a <span style=\"color:red\">**ANOVA**</span> porque aquí estoy con un problema de clasificación con variables numéricas"
   ]
  },
  {
   "cell_type": "code",
   "execution_count": 22,
   "id": "f2aad566",
   "metadata": {},
   "outputs": [],
   "source": [
    "import pandas as pd\n",
    "import numpy as np\n",
    "import matplotlib\n",
    "from sklearn.feature_selection import SelectKBest\n",
    "from sklearn.feature_selection import f_classif  # ANOVA"
   ]
  },
  {
   "cell_type": "markdown",
   "id": "b9b96228",
   "metadata": {},
   "source": [
    "<span style=\"color:blue\">**k = 5**</span> es el numero maximo de variable que tendré tras el proceso de seleccion\n",
    "\n",
    "En este caso le digo que me quiero quedar con las mejores 5 variables\n",
    "\n",
    "Dentro de <span style=\"color:blue\">**Aquellas que esten mas correladas entre ellas** </span> y la variable de  **salida**"
   ]
  },
  {
   "cell_type": "code",
   "execution_count": 23,
   "id": "568ded4b",
   "metadata": {},
   "outputs": [],
   "source": [
    "filterKB = SelectKBest(score_func = f_classif, k = 6)"
   ]
  },
  {
   "cell_type": "markdown",
   "id": "f9f6ce37",
   "metadata": {},
   "source": [
    "Aqui entrenamos al objeto a traves de l metodo **fit**\n",
    "\n",
    "Lo que hace es tratar de averigar la corelación entre la variabels de entrada y la salida."
   ]
  },
  {
   "cell_type": "code",
   "execution_count": 24,
   "id": "e8178f4b",
   "metadata": {},
   "outputs": [],
   "source": [
    "# Esto lo hago para que ell Dataset the Y tenga el mismo tamaño que \"resc_X_train\"\n",
    "# COmo a \"resc_X_train\" le quitamos la parte de test tiene menos registros.\n",
    "Y.drop(Y.index[19639:28056], inplace=True)\n",
    "\n",
    "filter_model = filterKB.fit(resc_X_train, Y)"
   ]
  },
  {
   "cell_type": "markdown",
   "id": "7e503d5f",
   "metadata": {},
   "source": [
    "Una vez que termina el objeto <span style=\"color:blue\">**SelectKBest**</span> queda configurado de tal modo que tiene un atributo que me dice cuanta es la correalacion entre las variables de entrada con las de la salida\n",
    "\n",
    "Entonces viendo eso ya puedo saber si **5** es un buen valor o tengo que acomodarlo más\n",
    "\n",
    "\n",
    "Aqui la variables con mayor correlacion son aquellas que tienen un **número mayor**.\n",
    "\n",
    "Este es un análisis muy dependiendo de las necesidades"
   ]
  },
  {
   "cell_type": "code",
   "execution_count": 25,
   "id": "a72eb4ec",
   "metadata": {},
   "outputs": [
    {
     "name": "stdout",
     "output_type": "stream",
     "text": [
      "[0.9715915  0.76253245 0.74464199 0.48262429 0.79881551 0.91764097\n",
      " 0.95221846 1.93806381 0.97712638 1.19943344 1.56657442 0.80779485\n",
      " 0.71144854 0.66633938 2.15928444 1.20664274 1.19252223 1.62250778\n",
      " 0.89257225 0.85144342 1.29563757 1.05894246 0.96211807]\n"
     ]
    }
   ],
   "source": [
    "# SCORE me da la informacion de corelación.\n",
    "print(filter_model.scores_)"
   ]
  },
  {
   "cell_type": "markdown",
   "id": "73ecc442",
   "metadata": {},
   "source": [
    "Según la tabla sería bueno quedarme con la variables que tienen una correlacion por encima de 1.10.  En este caso serán 6"
   ]
  },
  {
   "cell_type": "code",
   "execution_count": 26,
   "id": "f0d9a1ff",
   "metadata": {},
   "outputs": [],
   "source": [
    "selected = filter_model.transform(resc_X_train)"
   ]
  },
  {
   "cell_type": "code",
   "execution_count": 27,
   "id": "d988916d",
   "metadata": {},
   "outputs": [
    {
     "data": {
      "text/html": [
       "<div>\n",
       "<style scoped>\n",
       "    .dataframe tbody tr th:only-of-type {\n",
       "        vertical-align: middle;\n",
       "    }\n",
       "\n",
       "    .dataframe tbody tr th {\n",
       "        vertical-align: top;\n",
       "    }\n",
       "\n",
       "    .dataframe thead th {\n",
       "        text-align: right;\n",
       "    }\n",
       "</style>\n",
       "<table border=\"1\" class=\"dataframe\">\n",
       "  <thead>\n",
       "    <tr style=\"text-align: right;\">\n",
       "      <th></th>\n",
       "      <th>0</th>\n",
       "      <th>1</th>\n",
       "      <th>2</th>\n",
       "      <th>3</th>\n",
       "      <th>4</th>\n",
       "      <th>5</th>\n",
       "    </tr>\n",
       "  </thead>\n",
       "  <tbody>\n",
       "    <tr>\n",
       "      <th>0</th>\n",
       "      <td>0.0</td>\n",
       "      <td>0.0</td>\n",
       "      <td>0.0</td>\n",
       "      <td>0.0</td>\n",
       "      <td>0.0</td>\n",
       "      <td>1.0</td>\n",
       "    </tr>\n",
       "    <tr>\n",
       "      <th>1</th>\n",
       "      <td>0.0</td>\n",
       "      <td>0.0</td>\n",
       "      <td>0.0</td>\n",
       "      <td>0.0</td>\n",
       "      <td>0.0</td>\n",
       "      <td>0.0</td>\n",
       "    </tr>\n",
       "    <tr>\n",
       "      <th>2</th>\n",
       "      <td>0.0</td>\n",
       "      <td>0.0</td>\n",
       "      <td>0.0</td>\n",
       "      <td>0.0</td>\n",
       "      <td>0.0</td>\n",
       "      <td>0.0</td>\n",
       "    </tr>\n",
       "    <tr>\n",
       "      <th>3</th>\n",
       "      <td>0.0</td>\n",
       "      <td>1.0</td>\n",
       "      <td>0.0</td>\n",
       "      <td>0.0</td>\n",
       "      <td>0.0</td>\n",
       "      <td>0.0</td>\n",
       "    </tr>\n",
       "    <tr>\n",
       "      <th>4</th>\n",
       "      <td>0.0</td>\n",
       "      <td>0.0</td>\n",
       "      <td>0.0</td>\n",
       "      <td>0.0</td>\n",
       "      <td>0.0</td>\n",
       "      <td>0.0</td>\n",
       "    </tr>\n",
       "  </tbody>\n",
       "</table>\n",
       "</div>"
      ],
      "text/plain": [
       "     0    1    2    3    4    5\n",
       "0  0.0  0.0  0.0  0.0  0.0  1.0\n",
       "1  0.0  0.0  0.0  0.0  0.0  0.0\n",
       "2  0.0  0.0  0.0  0.0  0.0  0.0\n",
       "3  0.0  1.0  0.0  0.0  0.0  0.0\n",
       "4  0.0  0.0  0.0  0.0  0.0  0.0"
      ]
     },
     "execution_count": 27,
     "metadata": {},
     "output_type": "execute_result"
    }
   ],
   "source": [
    "pd.DataFrame(selected).head()"
   ]
  },
  {
   "cell_type": "markdown",
   "id": "35608ccb",
   "metadata": {},
   "source": [
    "\n",
    "<h2><span style=\"color:blue\">5. Realiza un gráfico de barras con la importancia de cada característica\n",
    "para cada uno de los estadísticos utilizados. ¿Coinciden las tres\n",
    "características más importantes en todos los casos?</span></h2>"
   ]
  },
  {
   "cell_type": "code",
   "execution_count": 28,
   "id": "de94245f",
   "metadata": {},
   "outputs": [
    {
     "data": {
      "text/plain": [
       "<AxesSubplot: ylabel='Frequency'>"
      ]
     },
     "execution_count": 28,
     "metadata": {},
     "output_type": "execute_result"
    },
    {
     "data": {
      "image/png": "[encoded data removed]",
      "text/plain": [
       "<Figure size 640x480 with 1 Axes>"
      ]
     },
     "metadata": {},
     "output_type": "display_data"
    }
   ],
   "source": [
    "df.plot(kind= 'hist')\n"
   ]
  },
  {
   "cell_type": "code",
   "execution_count": 31,
   "id": "de66d5ca",
   "metadata": {},
   "outputs": [
    {
     "data": {
      "text/plain": [
       "<AxesSubplot: ylabel='Frequency'>"
      ]
     },
     "execution_count": 31,
     "metadata": {},
     "output_type": "execute_result"
    },
    {
     "data": {
      "image/png": "[encoded data removed]",
      "text/plain": [
       "<Figure size 640x480 with 1 Axes>"
      ]
     },
     "metadata": {},
     "output_type": "display_data"
    }
   ],
   "source": [
    "pd.DataFrame(selected).plot(kind= 'hist')"
   ]
  },
  {
   "cell_type": "code",
   "execution_count": 32,
   "id": "e689794d",
   "metadata": {},
   "outputs": [
    {
     "data": {
      "text/plain": [
       "<AxesSubplot: ylabel='Frequency'>"
      ]
     },
     "execution_count": 32,
     "metadata": {},
     "output_type": "execute_result"
    },
    {
     "data": {
      "image/png": "[encoded data removed]",
      "text/plain": [
       "<Figure size 640x480 with 1 Axes>"
      ]
     },
     "metadata": {},
     "output_type": "display_data"
    }
   ],
   "source": [
    "resc_X_train.plot(kind= 'hist')"
   ]
  },
  {
   "cell_type": "code",
   "execution_count": null,
   "id": "ab492dce",
   "metadata": {},
   "outputs": [],
   "source": []
  }
 ],
 "metadata": {
  "kernelspec": {
   "display_name": "Python 3 (ipykernel)",
   "language": "python",
   "name": "python3"
  },
  "language_info": {
   "codemirror_mode": {
    "name": "ipython",
    "version": 3
   },
   "file_extension": ".py",
   "mimetype": "text/x-python",
   "name": "python",
   "nbconvert_exporter": "python",
   "pygments_lexer": "ipython3",
   "version": "3.8.5"
  }
 },
 "nbformat": 4,
 "nbformat_minor": 5
}
